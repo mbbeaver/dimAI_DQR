{
    "metadata": {
        "kernelspec": {
            "name": "SQL",
            "display_name": "SQL",
            "language": "sql"
        },
        "language_info": {
            "name": "sql",
            "version": ""
        }
    },
    "nbformat_minor": 2,
    "nbformat": 4,
    "cells": [
        {
            "cell_type": "markdown",
            "source": [
                "<h1>Add new Data Quality Rule Enforcement Clause to Pipeline</h1>\r\n",
                ""
            ],
            "metadata": {
                "azdata_cell_guid": "9b909666-ff84-466c-b19f-75f1a5e10775"
            }
        },
        {
            "cell_type": "markdown",
            "source": [
                "<h2> Step 1: Add new rule to Metadata_DB.Audit.Rules table </h2>"
            ],
            "metadata": {
                "azdata_cell_guid": "5db83991-74ef-464a-b619-7751fef4ebeb"
            }
        },
        {
            "cell_type": "code",
            "source": [
                "/****** CREATE & INSERT NEW RULE ******/\r\n",
                "DECLARE @ruleOwner nvarchar(50) = 'IR' --> insert owner name here\r\n",
                "DECLARE @ruleDescription nvarchar(150) = 'dimAcademicInstitution: SUDS_Insitution_Code, SUDS_Institution_State, BOG_Institution_Code, Florida_Institution_Code IS NOT NULL' --> insert rule name here\r\n",
                "DECLARE @isEnabled int = 1 --> enable the rule (set as 0 to disable)\r\n",
                "\r\n",
                "SET IDENTITY_INSERT Metadata_DB.Audit.Rules ON\r\n",
                "INSERT INTO Metadata_DB.Audit.Rules \r\n",
                "([Id],[owner],ruleId,[description],isEnabled)\r\n",
                "values (    \r\n",
                "    (SELECT MAX(Id)+1 FROM Metadata_DB.Audit.Rules) --> set this to: max(primary key of Rules table)+1 \r\n",
                "    , @ruleOwner \r\n",
                "    , (SELECT MAX(ruleId)+1 FROM Metadata_DB.Audit.Rules where owner=@ruleOwner) --> is set to: max(owner-specific ruleId)+1\r\n",
                "    , @ruleDescription\r\n",
                "    , @isEnabled\r\n",
                ")\r\n",
                "SET IDENTITY_INSERT Metadata_DB.Audit.Rules OFF"
            ],
            "metadata": {
                "azdata_cell_guid": "eec311d1-2d40-4ef4-a31e-70addbc14204",
                "tags": []
            },
            "outputs": [
                {
                    "output_type": "display_data",
                    "data": {
                        "text/html": "(1 row affected)"
                    },
                    "metadata": {}
                },
                {
                    "output_type": "display_data",
                    "data": {
                        "text/html": "Total execution time: 00:00:00.016"
                    },
                    "metadata": {}
                }
            ],
            "execution_count": 23
        },
        {
            "cell_type": "code",
            "source": [
                "/* USE THIS QUERY TO VALIDATE RULE INSERTIONS */\r\n",
                "SELECT * FROM Metadata_DB.Audit.Rules\r\n",
                "WHERE Owner like 'IR' --> set owner accordingly"
            ],
            "metadata": {
                "azdata_cell_guid": "4e0d607d-8088-43d5-99ea-0015deb8828a"
            },
            "outputs": [
                {
                    "output_type": "display_data",
                    "data": {
                        "text/html": "(3 rows affected)"
                    },
                    "metadata": {}
                },
                {
                    "output_type": "display_data",
                    "data": {
                        "text/html": "Total execution time: 00:00:00.009"
                    },
                    "metadata": {}
                },
                {
                    "output_type": "execute_result",
                    "execution_count": 61,
                    "data": {
                        "application/vnd.dataresource+json": {
                            "schema": {
                                "fields": [
                                    {
                                        "name": "Id"
                                    },
                                    {
                                        "name": "owner"
                                    },
                                    {
                                        "name": "ruleId"
                                    },
                                    {
                                        "name": "description"
                                    },
                                    {
                                        "name": "isEnabled"
                                    }
                                ]
                            },
                            "data": [
                                {
                                    "0": "18",
                                    "1": "IR",
                                    "2": "1",
                                    "3": "No match StudentId to N#",
                                    "4": "0"
                                },
                                {
                                    "0": "19",
                                    "1": "IR",
                                    "2": "2",
                                    "3": "Recommended StudentID change",
                                    "4": "0"
                                },
                                {
                                    "0": "23",
                                    "1": "IR",
                                    "2": "3",
                                    "3": "dimAcademicInstitution: SUDS_Institution_Code IS NOT NULL",
                                    "4": "1"
                                }
                            ]
                        },
                        "text/html": "<table><tr><th>Id</th><th>owner</th><th>ruleId</th><th>description</th><th>isEnabled</th></tr><tr><td>18</td><td>IR</td><td>1</td><td>No match StudentId to N#</td><td>0</td></tr><tr><td>19</td><td>IR</td><td>2</td><td>Recommended StudentID change</td><td>0</td></tr><tr><td>23</td><td>IR</td><td>3</td><td>dimAcademicInstitution: SUDS_Institution_Code IS NOT NULL</td><td>1</td></tr></table>"
                    },
                    "metadata": {}
                }
            ],
            "execution_count": 61
        },
        {
            "cell_type": "code",
            "source": [
                "/* USE THIS QUERY TO UPDATE OR CHANGE COLUMN VALUES */\r\n",
                "UPDATE Metadata_DB.Audit.Rules\r\n",
                "SET isEnabled = 0\r\n",
                "WHERE owner like 'IR' and (ruleId = 1 or ruleId = 2)"
            ],
            "metadata": {
                "azdata_cell_guid": "4e05eb03-becb-49a7-b2f5-25ecb2a122bc"
            },
            "outputs": [
                {
                    "output_type": "display_data",
                    "data": {
                        "text/html": "(2 rows affected)"
                    },
                    "metadata": {}
                },
                {
                    "output_type": "display_data",
                    "data": {
                        "text/html": "Total execution time: 00:00:00.004"
                    },
                    "metadata": {}
                }
            ],
            "execution_count": 48
        },
        {
            "cell_type": "markdown",
            "source": [
                "<h2> Step 2: Add record of table information to package table map </h2>"
            ],
            "metadata": {
                "azdata_cell_guid": "451981d9-ec70-441f-ae71-4e38182225b8"
            }
        },
        {
            "cell_type": "code",
            "source": [
                "/* aquire information necessary for insertion into PackageTableMap */\r\n",
                "\r\n",
                "DECLARE @tableName varchar(100) = 'dimAcademicInstitution' --> replace this string with desired table\r\n",
                "\r\n",
                "SELECT cw.server,cw.dbName,cw.schemaName,cw.tableName,\r\n",
                "    REPLACE(REPLACE(packageList,'.dtsx',''),'.',' ') packageName\r\n",
                "FROM Metadata_DB.ssis.tablePackageCrosswalk cw\r\n",
                "where tableName like @tableName\r\n",
                ""
            ],
            "metadata": {
                "azdata_cell_guid": "def798c7-a121-402e-894d-626823f244b2",
                "tags": []
            },
            "outputs": [
                {
                    "output_type": "display_data",
                    "data": {
                        "text/html": "(1 row affected)"
                    },
                    "metadata": {}
                },
                {
                    "output_type": "display_data",
                    "data": {
                        "text/html": "Total execution time: 00:00:00.064"
                    },
                    "metadata": {}
                },
                {
                    "output_type": "execute_result",
                    "execution_count": 57,
                    "data": {
                        "application/vnd.dataresource+json": {
                            "schema": {
                                "fields": [
                                    {
                                        "name": "server"
                                    },
                                    {
                                        "name": "dbName"
                                    },
                                    {
                                        "name": "schemaName"
                                    },
                                    {
                                        "name": "tableName"
                                    },
                                    {
                                        "name": "packageName"
                                    }
                                ]
                            },
                            "data": [
                                {
                                    "0": "jumpline",
                                    "1": "Student_DM",
                                    "2": "dbo",
                                    "3": "dimAcademicInstitution",
                                    "4": "Dim Update LocalDims"
                                }
                            ]
                        },
                        "text/html": "<table><tr><th>server</th><th>dbName</th><th>schemaName</th><th>tableName</th><th>packageName</th></tr><tr><td>jumpline</td><td>Student_DM</td><td>dbo</td><td>dimAcademicInstitution</td><td>Dim Update LocalDims</td></tr></table>"
                    },
                    "metadata": {}
                }
            ],
            "execution_count": 57
        },
        {
            "cell_type": "code",
            "source": [
                "/* insert new record into PackageTableMap*/\r\n",
                "DECLARE @ID int = 281\r\n",
                "DECLARE @packageName varchar(100) = 'Dim Update LocalDims'\r\n",
                "DECLARE @dbName varchar(100) = 'Student_DM'\r\n",
                "DECLARE @schemaName varchar(100) = 'dbo'\r\n",
                "DECLARE @tableName varchar(100) = 'dimAcademicInstitution'\r\n",
                "DECLARE @hasDates SMALLINT = 0\r\n",
                "DECLARE @hasRules SMALLINT = 1\r\n",
                "DECLARE @rulesOwner varchar(100) = 'IR'\r\n",
                "SET IDENTITY_INSERT Metadata_DB.Audit.PackageTableMap ON\r\n",
                "INSERT INTO Metadata_DB.Audit.PackageTableMap(ID, packageName, dbName, schemaName, tableName, hasDates, hasRules, rulesOwner)\r\n",
                "VALUES(@ID, @packageName, @dbName, @schemaName, @tableName, @hasDates, @hasRules, @rulesOwner)\r\n",
                "--VALUES (281,'Dim Update LocalDims','Student_DM','dbo','dimAcademicInstitution',0,1,'IR')\r\n",
                "SET IDENTITY_INSERT Metadata_DB.Audit.PackageTableMap OFF"
            ],
            "metadata": {
                "azdata_cell_guid": "8ce06d6c-4c02-488d-9965-0149d4a5e30c"
            },
            "outputs": [
                {
                    "output_type": "display_data",
                    "data": {
                        "text/html": "(1 row affected)"
                    },
                    "metadata": {}
                },
                {
                    "output_type": "display_data",
                    "data": {
                        "text/html": "Total execution time: 00:00:00.008"
                    },
                    "metadata": {}
                }
            ],
            "execution_count": 36
        },
        {
            "cell_type": "code",
            "source": [
                "/* validate insertion of record into PackageTableMap */\r\n",
                "\r\n",
                "DECLARE @tableName nvarchar(100) = 'dimAcademicInstitution' --> replace string with desired [tableName] value\r\n",
                "DECLARE @owner nvarchar(100) = 'IR' --> replace string with desired [ruleOwner] value\r\n",
                "\r\n",
                "SELECT * FROM Metadata_DB.Audit.PackageTableMap map\r\n",
                "--WHERE map.tableName like @tableName \r\n",
                "WHERE map.rulesOwner like @owner"
            ],
            "metadata": {
                "azdata_cell_guid": "a2e27186-8bf5-461c-a70f-43246f2bcbb7"
            },
            "outputs": [
                {
                    "output_type": "display_data",
                    "data": {
                        "text/html": "(2 rows affected)"
                    },
                    "metadata": {}
                },
                {
                    "output_type": "display_data",
                    "data": {
                        "text/html": "Total execution time: 00:00:00.009"
                    },
                    "metadata": {}
                },
                {
                    "output_type": "execute_result",
                    "execution_count": 62,
                    "data": {
                        "application/vnd.dataresource+json": {
                            "schema": {
                                "fields": [
                                    {
                                        "name": "ID"
                                    },
                                    {
                                        "name": "packageName"
                                    },
                                    {
                                        "name": "dbName"
                                    },
                                    {
                                        "name": "schemaName"
                                    },
                                    {
                                        "name": "tableName"
                                    },
                                    {
                                        "name": "hasDates"
                                    },
                                    {
                                        "name": "hasRules"
                                    },
                                    {
                                        "name": "rulesOwner"
                                    }
                                ]
                            },
                            "data": [
                                {
                                    "0": "20",
                                    "1": "ODS Load surveyresults",
                                    "2": "IR_ODS",
                                    "3": "staging",
                                    "4": "MergedBCSSESurvey",
                                    "5": "0",
                                    "6": "0",
                                    "7": "IR"
                                },
                                {
                                    "0": "281",
                                    "1": "Dim Update LocalDims",
                                    "2": "Student_DM",
                                    "3": "dbo",
                                    "4": "dimAcademicInstitution",
                                    "5": "0",
                                    "6": "1",
                                    "7": "IR"
                                }
                            ]
                        },
                        "text/html": "<table><tr><th>ID</th><th>packageName</th><th>dbName</th><th>schemaName</th><th>tableName</th><th>hasDates</th><th>hasRules</th><th>rulesOwner</th></tr><tr><td>20</td><td>ODS Load surveyresults</td><td>IR_ODS</td><td>staging</td><td>MergedBCSSESurvey</td><td>0</td><td>0</td><td>IR</td></tr><tr><td>281</td><td>Dim Update LocalDims</td><td>Student_DM</td><td>dbo</td><td>dimAcademicInstitution</td><td>0</td><td>1</td><td>IR</td></tr></table>"
                    },
                    "metadata": {}
                }
            ],
            "execution_count": 62
        },
        {
            "cell_type": "code",
            "source": [
                "/* USE THIS QUERY TO UPDATE COLUMN VALUES IF NECESSARY */\r\n",
                "UPDATE Metadata_DB.Audit.PackageTableMap\r\n",
                "SET hasRules = 0\r\n",
                "WHERE tableName like 'MergedBCSSESurvey'"
            ],
            "metadata": {
                "azdata_cell_guid": "cb125d85-b32b-46b8-ba96-102077785ad7"
            },
            "outputs": [
                {
                    "output_type": "display_data",
                    "data": {
                        "text/html": "(1 row affected)"
                    },
                    "metadata": {}
                },
                {
                    "output_type": "display_data",
                    "data": {
                        "text/html": "Total execution time: 00:00:00.005"
                    },
                    "metadata": {}
                }
            ],
            "execution_count": 44
        },
        {
            "cell_type": "markdown",
            "source": [
                "----------------"
            ],
            "metadata": {
                "azdata_cell_guid": "a9279241-d389-45a3-b255-7d84cf5b01f3"
            }
        },
        {
            "cell_type": "code",
            "source": [
                "/* this is a local version of RunAllRules --> only differences from production are the print() statements inserted for debugging */\r\n",
                "SET ANSI_NULLS ON\r\n",
                "GO\r\n",
                "SET QUOTED_IDENTIFIER ON\r\n",
                "GO\r\n",
                "\r\n",
                "ALTER PROCEDURE [Audit].[RunAllRules]\r\n",
                "AS\r\n",
                "BEGIN\r\n",
                "\r\n",
                "\tSET NOCOUNT ON;\r\n",
                "\r\n",
                "\tdeclare @sql nvarchar(MAX) = N''\r\n",
                "\r\n",
                "\t;WITH t as (\t\t\r\n",
                "\t\tSELECT DISTINCT rulesOwner\r\n",
                "\t\t,CONCAT(dbname,'.',schemaName,'.',tableName) fullyQualifiedTableName\r\n",
                "\t\t,packageName\r\n",
                "\t\t,PARSENAME(tableName,1) tableName\r\n",
                "\t\tfrom audit.PackageTableMap m join audit.Rules r on r.owner = m.rulesOwner \r\n",
                "\t\twhere m.hasRules = 1 and r.isEnabled = 1 --> this is a little tricky, don't overlook what it implies\r\n",
                "\t)\r\n",
                "\tSELECT @sql += N'EXEC audit.RunRules '''+rulesOwner+N''','''+fullyQualifiedTableName+N''','''+packageName+N''','''+tableName+N'''; '\r\n",
                "\tfrom t\r\n",
                "    \r\n",
                "    /* PRINT RESULTING DYNAMIC SQL STRING */\r\n",
                "    PRINT('PRINTING @sql: '+@sql)\r\n",
                "\r\n",
                "\tEXEC sp_ExecuteSql @sql\r\n",
                "END\r\n",
                "GO\r\n",
                ""
            ],
            "metadata": {
                "azdata_cell_guid": "a7c9eaee-3d98-494f-8a63-bf181fe82689"
            },
            "outputs": [
                {
                    "output_type": "display_data",
                    "data": {
                        "text/html": "Commands completed successfully."
                    },
                    "metadata": {}
                },
                {
                    "output_type": "display_data",
                    "data": {
                        "text/html": "Commands completed successfully."
                    },
                    "metadata": {}
                },
                {
                    "output_type": "display_data",
                    "data": {
                        "text/html": "Commands completed successfully."
                    },
                    "metadata": {}
                },
                {
                    "output_type": "display_data",
                    "data": {
                        "text/html": "Total execution time: 00:00:00.004"
                    },
                    "metadata": {}
                }
            ],
            "execution_count": 50
        },
        {
            "cell_type": "markdown",
            "source": [
                "<h2>Step 3: Insert custom validation query into RunRules</h2>"
            ],
            "metadata": {
                "azdata_cell_guid": "6c70ccbc-7ad3-4577-96a5-593f35d2aa2b"
            }
        },
        {
            "cell_type": "markdown",
            "source": [
                "THIS IS THE RAW BLOCK TO INSERT"
            ],
            "metadata": {
                "azdata_cell_guid": "d38e38a5-57a9-49de-a4cb-7497c71b68c8"
            }
        },
        {
            "cell_type": "code",
            "source": [
                "IF(@tableName = 'dimAcademicInstitution')\r\n",
                "\t\t\tBEGIN\r\n",
                "            print('dimAcademicInstitution if-block triggered...') --> 4 DEBUG\r\n",
                "\t\t\t/* \t\r\n",
                "\t\t\t\tRULE: SUDS_Institution_Code IS NOT NULL \r\n",
                "\t\t\t\t\t- the following validation query returns records where SUDS_Institution_Code IS NULL\r\n",
                "\t\t\t\t\t- rule is enforced on Student_DM.dbo.dimAcademicInstitution\r\n",
                "\t\t\t*/\r\n",
                "\t\t\tSELECT @SQL +=N'\r\n",
                "\t\t\t\tSELECT r.ruleid\r\n",
                "\t\t\t\t\t, owner, '''\r\n",
                "\t\t\t\t\t+@package+N'''\r\n",
                "\t\t\t\t\t, '''+@tableName+N'''\r\n",
                "\t\t\t\t\t, ''SUDS_Institution_Code''\r\n",
                "\t\t\t\t\t, s.SUDS_Institution_Code\r\n",
                "\t\t\t\t\t, s.Academic_Institution_SK\r\n",
                "\t\t\t\t\t, rowdata\r\n",
                "\t\t\t\tFROM '+@source+N' s\r\n",
                "\t\t\t\tcross apply (Select * from '+@source+N' b WHERE b.Academic_Institution_SK = s.Academic_Institution_SK for json AUTO, INCLUDE_NULL_VALUES) j (rowdata)\r\n",
                "\t\t\t\tjoin Metadata_DB.audit.rules_CLONE r on 3 = r.ruleid and r.isEnabled = 1 and r.owner = ''IR'' \r\n",
                "\t\t\t\tWHERE s.SUDS_Institution_Code IS NULL AND s.SUDS_Institution_State IS NULL AND BOG_Institution_Code IS NULL AND Florida_Public_Inst_Code IS NULL' \r\n",
                "\t\t\tEND\r\n",
                "\t\tEND "
            ],
            "metadata": {
                "azdata_cell_guid": "5d0d8849-37e5-4c1a-8dae-b8b6fc9559ad"
            },
            "outputs": [],
            "execution_count": null
        },
        {
            "cell_type": "markdown",
            "source": [
                "THIS IS THE PROCEDURE WITH MY NEW BLOCK IMPLEMENTED"
            ],
            "metadata": {
                "azdata_cell_guid": "77792fd2-5ea8-4d59-a35e-d824f3e25337"
            }
        },
        {
            "cell_type": "code",
            "source": [
                "SET ANSI_NULLS ON\r\n",
                "GO\r\n",
                "SET QUOTED_IDENTIFIER ON\r\n",
                "GO\r\n",
                "ALTER PROCEDURE [Audit].[RunRules] @owner nvarchar(50), @source nvarchar(50), @package nvarchar(50), @tableName nvarchar(50)\r\n",
                "AS\r\n",
                "BEGIN\r\n",
                "\tDECLARE @sql nvarchar(MAX) = N'', @dbSchema varchar(50) = REPLACE(@source,@tableName,'')\r\n",
                "    print('RunRules iteration: '+' owner: '+@owner+'; source: '+@source+'; package: '+@package+'; table: '+@tableName)\r\n",
                "\tSELECT @SQL+= N'INSERT INTO [Audit].[RulesViolations]\r\n",
                "           ([RuleId]\r\n",
                "\t\t   ,[Owner]\r\n",
                "           ,[packageName]\r\n",
                "           ,[sourceTable]\r\n",
                "           ,[columnName]\r\n",
                "           ,[columnValue]\r\n",
                "           ,[recordKey]\r\n",
                "           ,[rowdata])'\r\n",
                "\r\n",
                "     If(@owner = 'HR') -- Human Resources rules\r\n",
                "\t\tBEGIN\r\n",
                "\t\t\tIF (@tableName = 'Position')\r\n",
                "\t\t\tBEGIN\r\n",
                "\t\t\t\tSELECT @SQL+=N'\r\n",
                "\t\t\t\t\tSELECT r.ruleid,owner,'''+@package+N''', '''+@tableName+N''',''PERRANK_Rank_Code'',PERRANK_Rank_Code,s.id,rowdata\r\n",
                "\t\t\t\t\t   From '+@source+N' s cross apply (Select * from '+@source+N' p where p.id = s.id for json AUTO, INCLUDE_NULL_VALUES) j (rowdata)\r\n",
                "\t\t\t\t\t   join audit.rules r on 1 = r.ruleid and r.isEnabled = 1 and r.owner = ''HR''\r\n",
                "\t\t\t\t\t   where NBBPOSN_Table = ''22'' and PERRANK_Rank_Code is null\r\n",
                "\t\t\t\t\t   and s.Snapshot_Date = (SELECT MAX(snapshot_date) from '+@source+N')'\r\n",
                "\t\t\t\tSELECT @SQL+=N'\t\t\r\n",
                "\t\t\t\t\tUNION\r\n",
                "\t\t\t\t\tSELECT r.ruleid,owner,'''+@package+N''', '''+@tableName+N''',''PERRANK_Rank_Code'',PERRANK_Rank_Code,s.id,rowdata\r\n",
                "\t\t\t\t\t   From '+@source+N' s cross apply (Select * from '+@source+N' p where p.id = s.id for json AUTO, INCLUDE_NULL_VALUES) j (rowdata)\r\n",
                "\t\t\t\t\t   join audit.rules r on 2 = r.ruleid and r.isEnabled = 1 and r.owner = ''HR''\r\n",
                "\t\t\t\t\t   where NBBPOSN_Table = ''22'' and NBBPOSN_Pcls_Code in (''9001'',''9002'',''9003'',''9004'') and PERRANK_Rank_Code<>SUBSTRING(NBBPOSN_Pcls_Code,3,2)\r\n",
                "\t\t\t\t\t   and s.Snapshot_Date = (SELECT MAX(snapshot_date) from '+@source+N')'\r\n",
                "\t\t\t\tSELECT @SQL+=N'\t\r\n",
                "\t\t\t\t\tUNION\r\n",
                "\t\t\t\t\tSELECT r.ruleid,owner,'''+@package+N''', '''+@tableName+N''',''PERAPPT_Tenure_Code'',PERAPPT_Tenure_Code,s.id,rowdata\r\n",
                "\t\t\t\t\t   From '+@source+N' s cross apply (Select * from '+@source+N' p where p.id = s.id for json AUTO, INCLUDE_NULL_VALUES) j (rowdata)\r\n",
                "\t\t\t\t\t   join audit.rules r on 3 = r.ruleid and r.isEnabled = 1 and r.owner = ''HR''\r\n",
                "\t\t\t\t\t   where NBBPOSN_Table = ''22'' and PERAPPT_Tenure_Code is null\r\n",
                "\t\t\t\t\t   and s.Snapshot_Date = (SELECT MAX(snapshot_date) from '+@source+N')'\r\n",
                "\t\t\t\tSELECT @SQL+=N'\t\r\n",
                "\t\t\t\t\tUNION\r\n",
                "\t\t\t\t\tSELECT r.ruleid,owner,'''+@package+N''', '''+@tableName+N''',''NBBPOSN_Jbln_Code'',NBBPOSN_Jbln_Code,s.id,rowdata\r\n",
                "\t\t\t\t\t   From '+@source+N' s cross apply (Select * from '+@source+N' p where p.id = s.id for json AUTO, INCLUDE_NULL_VALUES) j (rowdata)\r\n",
                "\t\t\t\t\t   join audit.rules r on 4 =r.ruleid and r.isEnabled = 1 and r.owner = ''HR''\r\n",
                "\t\t\t\t\t   where NBBPOSN_Table IN (''22'',''06'') and COALESCE(NBBPOSN_Jbln_Code,'''')<>COALESCE(NBRJOBS_JBLN_CODE,'''')\r\n",
                "\t\t\t\t\t   and s.Snapshot_Date = (SELECT MAX(snapshot_date) from '+@source+N')'\r\n",
                "\t\t\t\tSELECT @SQL+=N'\t\r\n",
                "\t\t\t\t\tUNION\r\n",
                "\t\t\t\t\tSELECT r.ruleid,owner,'''+@package+N''', '''+@tableName+N''',''NBBPOSN_Jbln_Code'',NBBPOSN_Jbln_Code,s.id,rowdata\r\n",
                "\t\t\t\t\t   From '+@source+N' s cross apply (Select * from '+@source+N' p where p.id = s.id for json AUTO, INCLUDE_NULL_VALUES) j (rowdata)\r\n",
                "\t\t\t\t\t   join audit.rules r on 5 = r.ruleid and r.isEnabled = 1 and r.owner = ''HR''\r\n",
                "\t\t\t\t\t   where NBBPOSN_Table NOT IN (''22'',''06'') and COALESCE(NBBPOSN_Jbln_Code,'''')<>COALESCE(NBRJOBS_JBLN_CODE,'''')\r\n",
                "\t\t\t\t\t   and s.Snapshot_Date = (SELECT MAX(snapshot_date) from '+@source+N')'\r\n",
                "\t\t\t\tSELECT @SQL+=N'\t\r\n",
                "\t\t\t\t\tUNION\r\n",
                "\t\t\t\t\tSELECT r.ruleid,owner,'''+@package+N''', '''+@tableName+N''',''SPBPERS_Citz_Code'',SPBPERS_Citz_Code,s.id,rowdata\r\n",
                "\t\t\t\t\t   From '+@source+N' s cross apply (Select * from '+@source+N' p where p.id = s.id for json AUTO, INCLUDE_NULL_VALUES) j (rowdata)\r\n",
                "\t\t\t\t\t   join audit.rules r on 6 = r.ruleid and r.isEnabled = 1 and r.owner = ''HR''\r\n",
                "\t\t\t\t\t   where SPBPERS_Citz_Code is null\r\n",
                "\t\t\t\t\t   and s.Snapshot_Date = (SELECT MAX(snapshot_date) from '+@source+N')'\r\n",
                "\t\t\t\tSELECT @SQL+=N'\t\r\n",
                "\t\t\t\t\tUNION\r\n",
                "\t\t\t\t\tSELECT r.ruleid,owner,'''+@package+N''', '''+@tableName+N''',''NTRPCLS_Eskl_Code'',NTRPCLS_Eskl_Code,s.id,rowdata\r\n",
                "\t\t\t\t\t   From '+@source+N' s cross apply (Select * from '+@source+N' p where p.id = s.id for json AUTO, INCLUDE_NULL_VALUES) j (rowdata)\r\n",
                "\t\t\t\t\t   join audit.rules r on 7 = r.ruleid and r.isEnabled = 1 and r.owner = ''HR''\r\n",
                "\t\t\t\t\t   where NTRPCLS_Eskl_Code is null\r\n",
                "\t\t\t\t\t   and s.Snapshot_Date = (SELECT MAX(snapshot_date) from '+@source+N')'\r\n",
                "\t\t\t\tSELECT @SQL+=N'\t\r\n",
                "\t\t\t\t\tUNION\r\n",
                "\t\t\t\t\tSELECT r.ruleid,owner,'''+@package+N''', '''+@tableName+N''',''NBRJOBS_FTE'',CAST(NBRJOBS_FTE as varchar(20)),s.id,rowdata\r\n",
                "\t\t\t\t\t   From '+@source+N' s cross apply (Select * from '+@source+N' p where p.id = s.id for json AUTO, INCLUDE_NULL_VALUES) j (rowdata)\r\n",
                "\t\t\t\t\t   join audit.rules r on 8 = r.ruleid and r.isEnabled = 1 and r.owner = ''HR''\r\n",
                "\t\t\t\t\t   where NBRJOBS_FTE > 1\r\n",
                "\t\t\t\t\t   and s.Snapshot_Date = (SELECT MAX(snapshot_date) from '+@source+N')'\r\n",
                "\t\t\t\tSELECT @SQL+=N'\t\r\n",
                "\t\t\t\t\tUNION\r\n",
                "\t\t\t\t\tSELECT r.ruleid,owner,'''+@package+N''', '''+@tableName+N''',''NBRJOBS_FTE'',CAST(NBRJOBS_FTE as varchar(20)),s.id,rowdata\r\n",
                "\t\t\t\t\t   From '+@source+N' s cross apply (Select * from '+@source+N' p where p.id = s.id for json AUTO, INCLUDE_NULL_VALUES) j (rowdata)\r\n",
                "\t\t\t\t\t   join audit.rules r on 9 =r.ruleid and r.isEnabled = 1 and r.owner = ''HR''\r\n",
                "\t\t\t\t\t   where NBRJOBS_FTE = 0\r\n",
                "\t\t\t\t\t   and s.Snapshot_Date = (SELECT MAX(snapshot_date) from '+@source+N')'\r\n",
                "\t\t\t\tSELECT @SQL+=N'\t\r\n",
                "\t\t\t\t\tUNION\r\n",
                "\t\t\t\t\tSELECT r.ruleid,owner,'''+@package+N''', '''+@tableName+N''',''PPRCERT_CERT_DATE_DRPE'',CAST(PPRCERT_CERT_DATE_DRPE as varchar(20)),s.id,rowdata\r\n",
                "\t\t\t\t\t   From '+@source+N' s cross apply (Select * from '+@source+N' p where p.id = s.id for json AUTO, INCLUDE_NULL_VALUES) j (rowdata)\r\n",
                "\t\t\t\t\t   join audit.rules r on 10 = r.ruleid and r.isEnabled = 1 and r.owner = ''HR''\r\n",
                "\t\t\t\t\t   where PPRCERT_CERT_DATE_DRPE is NULL and PPRCERT_CERT_DATE_DRPT is NOT NULL\r\n",
                "\t\t\t\t\t   and s.Snapshot_Date = (SELECT MAX(snapshot_date) from '+@source+N')'\r\n",
                "\t\t\t\tSELECT @SQL+=N'\t\t\t\t\t   \t\t\t\r\n",
                "\t\t\t\t\tUNION\r\n",
                "\t\t\t\t\tSELECT r.ruleid,owner,'''+@package+N''', '''+@tableName+N''',''PPRCERT_CERT_DATE_DRPT'',CAST(PPRCERT_CERT_DATE_DRPT as varchar(20)),s.id,rowdata\r\n",
                "\t\t\t\t\t   From '+@source+N' s cross apply (Select * from '+@source+N' p where p.id = s.id for json AUTO, INCLUDE_NULL_VALUES) j (rowdata)\r\n",
                "\t\t\t\t\t   join audit.rules r on 11 = r.ruleid and r.isEnabled = 1 and r.owner = ''HR''\r\n",
                "\t\t\t\t\t   where PPRCERT_CERT_DATE_DRPT is NULL and PPRCERT_CERT_DATE_DRPE is NOT NULL\r\n",
                "\t\t\t\t\t   and s.Snapshot_Date = (SELECT MAX(snapshot_date) from '+@source+N')'\r\n",
                "\t\t\t\tSELECT @SQL+=N'\t\r\n",
                "\t\t\t\t\tUNION\r\n",
                "\t\t\t\t\tSELECT r.ruleid,owner,'''+@package+N''', '''+@tableName+N''',''PPRCERT_CERT_DATE_DRPE'',CAST(PPRCERT_CERT_DATE_DRPE as varchar(20)),s.id,rowdata\r\n",
                "\t\t\t\t\t   From '+@source+N' s cross apply (Select * from '+@source+N' p where p.id = s.id for json AUTO, INCLUDE_NULL_VALUES) j (rowdata)\r\n",
                "\t\t\t\t\t   join audit.rules r on 12 = r.ruleid and r.isEnabled = 1 and r.owner = ''HR''\r\n",
                "\t\t\t\t\t   where PPRCERT_CERT_DATE_DRPE is NOT NULL and PPRCERT_CERT_DATE_DRPE > CURRENT_TIMESTAMP\r\n",
                "\t\t\t\t\t   and s.Snapshot_Date = (SELECT MAX(snapshot_date) from '+@source+N')'\r\n",
                "\t\t\t\tSELECT @SQL+=N'\t\r\n",
                "\t\t\t\t\tUNION\r\n",
                "\t\t\t\t\tSELECT r.ruleid,owner,'''+@package+N''', '''+@tableName+N''',''PPRCERT_CERT_DATE_DRPT'',CAST(PPRCERT_CERT_DATE_DRPT as varchar(20)),s.id,rowdata\r\n",
                "\t\t\t\t\t   From '+@source+N' s cross apply (Select * from '+@source+N' p where p.id = s.id for json AUTO, INCLUDE_NULL_VALUES) j (rowdata)\r\n",
                "\t\t\t\t\t   join audit.rules r on 13 = r.ruleid and r.isEnabled = 1 and r.owner = ''HR''\r\n",
                "\t\t\t\t\t   where PPRCERT_CERT_DATE_DRPT is NOT NULL and PPRCERT_CERT_DATE_DRPT < PPRCERT_CERT_DATE_DRPE\r\n",
                "\t\t\t\t\t   and s.Snapshot_Date = (SELECT MAX(snapshot_date) from '+@source+N')'\r\n",
                "\t\t\t\tSELECT @SQL+=N'\t\r\n",
                "\t\t\t\t\tUNION\r\n",
                "\t\t\t\t\tSELECT r.ruleid,owner,'''+@package+N''', '''+@tableName+N''',''dateDiff(YEAR,PPRCERT_CERT_DATE_DRPE, PPRCERT_CERT_DATE_DRPT)'',CAST(dateDiff(YEAR,PPRCERT_CERT_DATE_DRPE, PPRCERT_CERT_DATE_DRPT) as varchar(20)),s.id,rowdata\r\n",
                "\t\t\t\t\t   From '+@source+N' s cross apply (Select * from '+@source+N' p where p.id = s.id for json AUTO, INCLUDE_NULL_VALUES) j (rowdata)\r\n",
                "\t\t\t\t\t   join audit.rules r on 14 = r.ruleid and r.owner = ''HR''\r\n",
                "\t\t\t\t\t   where PPRCERT_CERT_DATE_DRPE is NOT NULL and PPRCERT_CERT_DATE_DRPT is NOT NULL and dateDiff(YEAR,PPRCERT_CERT_DATE_DRPE, PPRCERT_CERT_DATE_DRPT) > 5 \r\n",
                "\t\t\t\t\t   and s.Snapshot_Date = (SELECT MAX(snapshot_date) from '+@source+N')'\r\n",
                "\t\t\t\tSELECT @SQL+=N'\t\r\n",
                "\t\t\t\t\tUNION\r\n",
                "\t\t\t\t\tSELECT r.ruleid,owner,'''+@package+N''', '''+@tableName+N''',''GORPRAC_Race_Codes'',GORPRAC_Race_Codes,s.id,rowdata\r\n",
                "\t\t\t\t\t   From '+@source+N' s cross apply (Select * from '+@source+N' p where p.id = s.id for json AUTO, INCLUDE_NULL_VALUES) j (rowdata)\r\n",
                "\t\t\t\t\t   join audit.rules r on 15 = r.ruleid and r.isEnabled = 1 and r.owner = ''HR''\r\n",
                "\t\t\t\t\t   where SPBPERS_ETHN_CDE = ''X'' AND GORPRAC_Race_Codes is NULL \r\n",
                "\t\t\t\t\t   and s.Snapshot_Date = (SELECT MAX(snapshot_date) from '+@source+N')'\r\n",
                "\t\t\tEND\r\n",
                "\r\n",
                "\t\t\tIF(@tableName = 'Employee')\r\n",
                "\t\t\tBEGIN\r\n",
                "\t\t\t\tSELECT @SQL+=N'\r\n",
                "\t\t\t\t\tSELECT r.ruleid,owner,'''+@package+N''', '''+@tableName+N''',''PEBEMPL_empl_status'',PEBEMPL_empl_status,s.employee_Pk,rowdata\r\n",
                "\t\t\t\t\t\tFrom '+@source+N' s cross apply (Select * from '+@source+N' p where p.employee_PK = s.employee_Pk for json AUTO, INCLUDE_NULL_VALUES) j (rowdata)\r\n",
                "\t\t\t\t\t\tjoin audit.rules r on 16 = r.ruleid and r.isEnabled = 1 and r.owner = ''HR''\r\n",
                "\t\t\t\t\t\tjoin (SELECT nbrbjob_pidm \r\n",
                "\t\t\t\t\t\t\tFROM '+@dbSchema+N'AssignmentsB \r\n",
                "\t\t\t\t\t\t\tWHERE (NBRBJOB_END_DATE IS NULL OR nbrbjob_end_date >=GETDATE())\r\n",
                "\t\t\t\t\t\t\tGROUP BY NBRBJOB_PIDM, NBRBJOB_END_DATE) a on s.PEBEMPL_PIDM = a.nbrbjob_pidm\r\n",
                "\t\t\t\t\t\tWHERE PEBEMPL_empl_status = ''T'''\r\n",
                "\t\t\tEND\r\n",
                "\t\tEND\r\n",
                "\r\n",
                "     If(@owner = 'PF') -- Physical Facilities rules\r\n",
                "\t\tBEGIN\r\n",
                "\t\t\tSELECT @SQL+=N'\r\n",
                "\t\t\t\tSELECT r.ruleid,owner,'''+@package+N''', '''+@tableName+N''',CONCAT(''before_scn'','' : '',''after_scn''),CONCAT(CAST([before_scn] as varchar(20)),'' : '',CAST([after_scn] as varchar(20))),s.tablename,rowdata\r\n",
                "\t\t\t\t   From '+@source+N' s cross apply (Select * from '+@source+N' p where p.tablename = s.tablename for json AUTO, INCLUDE_NULL_VALUES) j (rowdata)\r\n",
                "\t\t\t\t   join audit.rules r on 1 = r.ruleid and r.isEnabled = 1 and r.owner = ''PF''\r\n",
                "\t\t\t\t   where ([before_checksum] = [after_checksum] AND [before_scn] <> [after_scn])'\r\n",
                "\t\t\tSELECT @SQL+=N'\r\n",
                "\t\t\t\tUNION\r\n",
                "\t\t\t\tSELECT r.ruleid,owner,'''+@package+N''', '''+@tableName+N''',CONCAT(''before_checksum'','' : '',''after_checksum''),CONCAT(CAST([before_checksum] as varchar(20)),'' : '',CAST([after_checksum] as varchar(20))),s.tablename,rowdata\r\n",
                "\t\t\t\t   From '+@source+N' s cross apply (Select * from '+@source+N' p where p.tablename = s.tablename for json AUTO, INCLUDE_NULL_VALUES) j (rowdata)\r\n",
                "\t\t\t\t   join audit.rules r on 2 = r.ruleid and r.isEnabled = 1 and r.owner = ''PF''\r\n",
                "\t\t\t\t   where ([before_scn] = [after_scn] AND [before_checksum] <> [after_checksum])'\r\n",
                "\t\tEND \r\n",
                "\r\n",
                "     If(@owner = 'IR') -- Institutional Research rules\r\n",
                "\t\tBEGIN\r\n",
                "\t\t/* THIS ENTIRE BLOCK IS BUGGED I BELIEVE AS THERE ARE REFERENCES TO VALUES THAT NO LONGER EXISTS AT THEIR SPECIFIED SOUCES */\r\n",
                "\t\t-- If(@tableName = 'MergedBCSSESurvey')\r\n",
                "\t\t-- \tBEGIN\r\n",
                "\t\t-- \tSELECT @SQL+=N'\r\n",
                "\t\t-- \t\tSELECT r.ruleid,owner,'''+@package+N''', '''+@tableName+N''',''StudentID'',s.StudentId,s.surveyId,rowdata\r\n",
                "\t\t-- \t\tFrom '+@source+N' s left join dimensiondatabase.dbo.dimStudent ds on ds.UNFID = s.StudentID left join\r\n",
                "\t\t-- \t\t(\r\n",
                "\t\t-- \t\tSelect surveyID, StudentID, LastName, FirstName ,ds.UNFID, ds.Last_Name, ds.First_Name, ds.Gender, IR_ODS.Staging.stringDistancePercentage(studentID, UNFID) distancePct\r\n",
                "\t\t-- \t\tfrom (\r\n",
                "\t\t-- \t\tSELECT  bs.surveyID, StudentID, LastName, FirstName, Case bs.Gender_Desc WHEN ''Man'' THEN ''M'' WHEN ''Woman'' THEN ''F'' ELSE ''N'' END Gender\r\n",
                "\t\t-- \t\tFROM '+@source+N' bs left join dimensiondatabase.dbo.dimStudent ds on ds.UNFID = bs.StudentID\r\n",
                "\t\t-- \t\tWHERE unfid is null\r\n",
                "\t\t-- \t\t) n join dimensiondatabase.dbo.dimStudent ds on ds.Last_Name = n.LastName and ds.First_Name = n.FirstName and ds.Gender = n.Gender\r\n",
                "\t\t-- \t\t) rc on rc.StudentID = s.StudentID and distancePct > 75\r\n",
                "\t\t-- \t\tcross apply (Select * from '+@source+N' p where p.SurveyID = s.SurveyID for json AUTO, INCLUDE_NULL_VALUES) j (rowdata)\r\n",
                "\t\t-- \t\tjoin audit.rules r on 1 = r.ruleid and r.isEnabled = 1 and r.owner = ''IR'' \r\n",
                "\t\t-- \t\tWHERE ds.unfid is null and rc.StudentID is null'\r\n",
                "\t\t-- \tSELECT @SQL+=N'\r\n",
                "\t\t-- \t\tUNION\r\n",
                "\t\t-- \t\tSELECT r.ruleid,owner,'''+@package+N''', '''+@tableName+N''',CONCAT(''StudentID'','' : '',''UNFID''),CONCAT(s.StudentId,'' : '',rc.UNFID),s.surveyId,rowdata\r\n",
                "\t\t-- \t\tFrom '+@source+N' s left join dimensiondatabase.dbo.dimStudent ds on ds.UNFID = s.StudentID left join \r\n",
                "\t\t-- \t\t(\r\n",
                "\t\t-- \t\tSelect surveyID, StudentID, LastName, FirstName ,ds.UNFID, ds.Last_Name, ds.First_Name, ds.Gender, IR_ODS.staging.stringDistancePercentage(studentID, UNFID) distancePct      \r\n",
                "\t\t-- \t\tfrom (\r\n",
                "\t\t-- \t\tSELECT  bs.surveyID, StudentID, LastName, FirstName, Case bs.Gender_Desc WHEN ''Man'' THEN ''M'' WHEN ''Woman'' THEN ''F'' ELSE ''N'' END Gender        \r\n",
                "\t\t-- \t\tFROM '+@source+N' bs left join dimensiondatabase.dbo.dimStudent ds on ds.UNFID = bs.StudentID        \r\n",
                "\t\t-- \t\tWHERE unfid is null\r\n",
                "\t\t-- \t\t) n join dimensiondatabase.dbo.dimStudent ds on ds.Last_Name = n.LastName and ds.First_Name = n.FirstName and ds.Gender = n.Gender\r\n",
                "\t\t-- \t\t) rc on rc.StudentID = s.StudentID\r\n",
                "\t\t-- \t\tcross apply (Select * from '+@source+N' p where p.SurveyID = s.SurveyID for json AUTO, INCLUDE_NULL_VALUES) j (rowdata)\r\n",
                "\t\t-- \t\tjoin audit.rules r on 2 = r.ruleid and r.isEnabled = 1 and r.owner = ''IR''\r\n",
                "\t\t-- \t\tWHERE distancePct > 75'\r\n",
                "\t\t-- END\r\n",
                "\r\n",
                "        /* RULE ENFORCEMENT BLOCK: dimAcademicInstitution */\r\n",
                "\t\tIF(@tableName = 'dimAcademicInstitution')\r\n",
                "\t\t\tBEGIN\r\n",
                "            print('dimAcademicInstitution if-block triggered...') --> 4 DEBUG\r\n",
                "\t\t\t/* \t\r\n",
                "\t\t\t\tRULE: SUDS_Institution_Code IS NOT NULL \r\n",
                "\t\t\t\t\t- the following validation query returns records where SUDS_Institution_Code IS NULL\r\n",
                "\t\t\t\t\t- rule is enforced on Student_DM.dbo.dimAcademicInstitution\r\n",
                "\t\t\t*/\r\n",
                "\t\t\tSELECT @SQL +=N'\r\n",
                "\t\t\t\tSELECT r.ruleid\r\n",
                "\t\t\t\t\t, owner, '''\r\n",
                "\t\t\t\t\t+@package+N'''\r\n",
                "\t\t\t\t\t, '''+@tableName+N'''\r\n",
                "\t\t\t\t\t, ''SUDS_Institution_Code''\r\n",
                "\t\t\t\t\t, s.SUDS_Institution_Code\r\n",
                "\t\t\t\t\t, s.Academic_Institution_SK\r\n",
                "\t\t\t\t\t, rowdata\r\n",
                "\t\t\t\tFROM '+@source+N' s\r\n",
                "\t\t\t\tcross apply (Select * from '+@source+N' b WHERE b.Academic_Institution_SK = s.Academic_Institution_SK for json AUTO, INCLUDE_NULL_VALUES) j (rowdata)\r\n",
                "\t\t\t\tjoin Metadata_DB.audit.rules_CLONE r on 3 = r.ruleid and r.isEnabled = 1 and r.owner = ''IR'' \r\n",
                "\t\t\t\tWHERE s.SUDS_Institution_Code IS NULL AND s.SUDS_Institution_State IS NULL AND BOG_Institution_Code IS NULL AND Florida_Public_Inst_Code IS NULL' \r\n",
                "\t\t\tEND\r\n",
                "\t\tEND \r\n",
                "\r\n",
                "     If(@owner = 'IDMS') -- IDMS\r\n",
                "\t\tBEGIN\r\n",
                "\t\t\tSELECT @SQL+=N'\r\n",
                "\t\t\t\tSELECT r.ruleid,owner,'''+@package+N''', '''+@tableName+N''',''FNAME'',FNAME,s.IDCardSK,rowdata\r\n",
                "\t\t\t\tFrom '+@source+N' s cross apply (Select * from '+@source+N' p where p.IDCardSK = s.IDCardSK for json AUTO, INCLUDE_NULL_VALUES) j (rowdata)\r\n",
                "\t\t\t\tjoin audit.rules r on 1 = r.ruleid and r.isEnabled = 1 and r.owner = ''IDMS''\r\n",
                "\t\t\t\twhere FNAME like ''N[0-9][0-9][0-9][0-9][0-9][0-9][0-9][0-9]'' and record_end_date is null'\r\n",
                "\t\t\tSELECT @SQL+=N'\r\n",
                "\t\t\t\tUNION\r\n",
                "\t\t\t\tSELECT r.ruleid,owner,'''+@package+N''', '''+@tableName+N''',''FNAME'',FNAME,s.IDCardSK,rowdata\r\n",
                "\t\t\t\tFrom '+@source+N' s cross apply (Select * from '+@source+N' p where p.IDCardSK = s.IDCardSK for json AUTO, INCLUDE_NULL_VALUES) j (rowdata)\r\n",
                "\t\t\t\tjoin audit.rules r on 2 = r.ruleid and r.isEnabled = 1 and r.owner = ''IDMS''\r\n",
                "\t\t\t\twhere LNAME like ''N[0-9][0-9][0-9][0-9][0-9][0-9][0-9][0-9]'' and record_end_date is null'\r\n",
                "\t\tEND\r\n",
                "\tSELECT @sql\r\n",
                "    PRINT('RunRules dynamic sql string for '+@source+': '+@sql)\r\n",
                "\texec sp_ExecuteSQL @sql --> ON/OFF switch\r\n",
                "END\r\n",
                "GO\r\n",
                ""
            ],
            "metadata": {
                "azdata_cell_guid": "27fbf818-b5f9-47cf-b488-f84f814e620b"
            },
            "outputs": [
                {
                    "output_type": "display_data",
                    "data": {
                        "text/html": "Commands completed successfully."
                    },
                    "metadata": {}
                },
                {
                    "output_type": "display_data",
                    "data": {
                        "text/html": "Commands completed successfully."
                    },
                    "metadata": {}
                },
                {
                    "output_type": "display_data",
                    "data": {
                        "text/html": "Commands completed successfully."
                    },
                    "metadata": {}
                },
                {
                    "output_type": "display_data",
                    "data": {
                        "text/html": "Total execution time: 00:00:00.003"
                    },
                    "metadata": {}
                }
            ],
            "execution_count": 51
        },
        {
            "cell_type": "code",
            "source": [
                "EXEC Audit.RunAllRules"
            ],
            "metadata": {
                "azdata_cell_guid": "4a6424d2-7111-4f4e-b636-3ec62e992a35"
            },
            "outputs": [
                {
                    "output_type": "display_data",
                    "data": {
                        "text/html": "PRINTING @sql: EXEC audit.RunRules 'HR','HR_ODS..Employee','ODS UNF_Positions','Employee'; EXEC audit.RunRules 'HR','HR_ODS.Snap.Position','ODS UNF_Positions','Position'; EXEC audit.RunRules 'IDMS','Student_ODS.IDMS.IDCard','ODS Update IDMSStatlog','IDCard'; EXEC audit.RunRules 'IR','Student_DM.dbo.dimAcademicInstitution','Dim Update LocalDims','dimAcademicInstitution'; EXEC audit.RunRules 'PF','PhysFac_ODS..Integration_log','Exec PhysFac_ETL','Integration_log'; "
                    },
                    "metadata": {}
                },
                {
                    "output_type": "display_data",
                    "data": {
                        "text/html": "RunRules iteration:  owner: HR; source: HR_ODS..Employee; package: ODS UNF_Positions; table: Employee"
                    },
                    "metadata": {}
                },
                {
                    "output_type": "display_data",
                    "data": {
                        "text/html": "RunRules dynamic sql string for HR_ODS..Employee: INSERT INTO [Audit].[RulesViolations]\r\n           ([RuleId]\r\n\t\t   ,[Owner]\r\n           ,[packageName]\r\n           ,[sourceTable]\r\n           ,[columnName]\r\n           ,[columnValue]\r\n           ,[recordKey]\r\n           ,[rowdata])\r\n\t\t\t\t\tSELECT r.ruleid,owner,'ODS UNF_Positions', 'Employee','PEBEMPL_empl_status',PEBEMPL_empl_status,s.employee_Pk,rowdata\r\n\t\t\t\t\t\tFrom HR_ODS..Employee s cross apply (Select * from HR_ODS..Employee p where p.employee_PK = s.employee_Pk for json AUTO, INCLUDE_NULL_VALUES) j (rowdata)\r\n\t\t\t\t\t\tjoin audit.rules r on 16 = r.ruleid and r.isEnabled = 1 and r.owner = 'HR'\r\n\t\t\t\t\t\tjoin (SELECT nbrbjob_pidm \r\n\t\t\t\t\t\t\tFROM HR_ODS..AssignmentsB \r\n\t\t\t\t\t\t\tWHERE (NBRBJOB_END_DATE IS NULL OR nbrbjob_end_date >=GETDATE())\r\n\t\t\t\t\t\t\tGROUP BY NBRBJOB_PIDM, NBRBJOB_END_DATE) a on s.PEBEMPL_PIDM = a.nbrbjob_pidm\r\n\t\t\t\t\t\tWHERE PEBEMPL_empl_status = 'T'"
                    },
                    "metadata": {}
                },
                {
                    "output_type": "display_data",
                    "data": {
                        "text/html": "RunRules iteration:  owner: HR; source: HR_ODS.Snap.Position; package: ODS UNF_Positions; table: Position"
                    },
                    "metadata": {}
                },
                {
                    "output_type": "display_data",
                    "data": {
                        "text/html": "RunRules dynamic sql string for HR_ODS.Snap.Position: INSERT INTO [Audit].[RulesViolations]\r\n           ([RuleId]\r\n\t\t   ,[Owner]\r\n           ,[packageName]\r\n           ,[sourceTable]\r\n           ,[columnName]\r\n           ,[columnValue]\r\n           ,[recordKey]\r\n           ,[rowdata])\r\n\t\t\t\t\tSELECT r.ruleid,owner,'ODS UNF_Positions', 'Position','PERRANK_Rank_Code',PERRANK_Rank_Code,s.id,rowdata\r\n\t\t\t\t\t   From HR_ODS.Snap.Position s cross apply (Select * from HR_ODS.Snap.Position p where p.id = s.id for json AUTO, INCLUDE_NULL_VALUES) j (rowdata)\r\n\t\t\t\t\t   join audit.rules r on 1 = r.ruleid and r.isEnabled = 1 and r.owner = 'HR'\r\n\t\t\t\t\t   where NBBPOSN_Table = '22' and PERRANK_Rank_Code is null\r\n\t\t\t\t\t   and s.Snapshot_Date = (SELECT MAX(snapshot_date) from HR_ODS.Snap.Position)\t\t\r\n\t\t\t\t\tUNION\r\n\t\t\t\t\tSELECT r.ruleid,owner,'ODS UNF_Positions', 'Position','PERRANK_Rank_Code',PERRANK_Rank_Code,s.id,rowdata\r\n\t\t\t\t\t   From HR_ODS.Snap.Position s cross apply (Select * from HR_ODS.Snap.Position p where p.id = s.id for json AUTO, INCLUDE_NULL_VALUES) j (rowdata)\r\n\t\t\t\t\t   join audit.rules r on 2 = r.ruleid and r.isEnabled = 1 and r.owner = 'HR'\r\n\t\t\t\t\t   where NBBPOSN_Table = '22' and NBBPOSN_Pcls_Code in ('9001','9002','9003','9004') and PERRANK_Rank_Code<>SUBSTRING(NBBPOSN_Pcls_Code,3,2)\r\n\t\t\t\t\t   and s.Snapshot_Date = (SELECT MAX(snapshot_date) from HR_ODS.Snap.Position)\t\r\n\t\t\t\t\tUNION\r\n\t\t\t\t\tSELECT r.ruleid,owner,'ODS UNF_Positions', 'Position','PERAPPT_Tenure_Code',PERAPPT_Tenure_Code,s.id,rowdata\r\n\t\t\t\t\t   From HR_ODS.Snap.Position s cross apply (Select * from HR_ODS.Snap.Position p where p.id = s.id for json AUTO, INCLUDE_NULL_VALUES) j (rowdata)\r\n\t\t\t\t\t   join audit.rules r on 3 = r.ruleid and r.isEnabled = 1 and r.owner = 'HR'\r\n\t\t\t\t\t   where NBBPOSN_Table = '22' and PERAPPT_Tenure_Code is null\r\n\t\t\t\t\t   and s.Snapshot_Date = (SELECT MAX(snapshot_date) from HR_ODS.Snap.Position)\t\r\n\t\t\t\t\tUNION\r\n\t\t\t\t\tSELECT r.ruleid,owner,'ODS UNF_Positions', 'Position','NBBPOSN_Jbln_Code',NBBPOSN_Jbln_Code,s.id,rowdata\r\n\t\t\t\t\t   From HR_ODS.Snap.Position s cross apply (Select * from HR_ODS.Snap.Position p where p.id = s.id for json AUTO, INCLUDE_NULL_VALUES) j (rowdata)\r\n\t\t\t\t\t   join audit.rules r on 4 =r.ruleid and r.isEnabled = 1 and r.owner = 'HR'\r\n\t\t\t\t\t   where NBBPOSN_Table IN ('22','06') and COALESCE(NBBPOSN_Jbln_Code,'')<>COALESCE(NBRJOBS_JBLN_CODE,'')\r\n\t\t\t\t\t   and s.Snapshot_Date = (SELECT MAX(snapshot_date) from HR_ODS.Snap.Position)\t\r\n\t\t\t\t\tUNION\r\n\t\t\t\t\tSELECT r.ruleid,owner,'ODS UNF_Positions', 'Position','NBBPOSN_Jbln_Code',NBBPOSN_Jbln_Code,s.id,rowdata\r\n\t\t\t\t\t   From HR_ODS.Snap.Position s cross apply (Select * from HR_ODS.Snap.Position p where p.id = s.id for json AUTO, INCLUDE_NULL_VALUES) j (rowdata)\r\n\t\t\t\t\t   join audit.rules r on 5 = r.ruleid and r.isEnabled = 1 and r.owner = 'HR'\r\n\t\t\t\t\t   where NBBPOSN_Table NOT IN ('22','06') and COALESCE(NBBPOSN_Jbln_Code,'')<>COALESCE(NBRJOBS_JBLN_CODE,'')\r\n\t\t\t\t\t   and s.Snapshot_Date = (SELECT MAX(snapshot_date) from HR_ODS.Snap.Position)\t\r\n\t\t\t\t\tUNION\r\n\t\t\t\t\tSELECT r.ruleid,owner,'ODS UNF_Positions', 'Position','SPBPERS_Citz_Code',SPBPERS_Citz_Code,s.id,rowdata\r\n\t\t\t\t\t   From HR_ODS.Snap.Position s cross apply (Select * from HR_ODS.Snap.Position p where p.id = s.id for json AUTO, INCLUDE_NULL_VALUES) j (rowdata)\r\n\t\t\t\t\t   join audit.rules r on 6 = r.ruleid and r.isEnabled = 1 and r.owner = 'HR'\r\n\t\t\t\t\t   where SPBPERS_Citz_Code is null\r\n\t\t\t\t\t   and s.Snapshot_Date = (SELECT MAX(snapshot_date) from HR_ODS.Snap.Position)\t\r\n\t\t\t\t\tUNION\r\n\t\t\t\t\tSELECT r.ruleid,owner,'ODS UNF_Positions', 'Position','NTRPCLS_Eskl_Code',NTRPCLS_Eskl_Code,s.id,rowdata\r\n\t\t\t\t\t   From HR_ODS.Snap.Position s cross apply (Select * from HR_ODS.Snap.Position p where p.id = s.id for json AUTO, INCLUDE_NULL_VALUES) j (rowdata)\r\n\t\t\t\t\t   join audit.rules r on 7 = r.ruleid and r.isEnabled = 1 and r.owner = 'HR'\r\n\t\t\t\t\t   where NTRPCLS_Eskl_Code is null\r\n\t\t\t\t\t   and s.Snapshot_Date = (SELECT MAX(snapshot_date) from HR_ODS.Snap.Position)\t\r\n\t\t\t\t\tUNION\r\n\t\t\t\t\tS"
                    },
                    "metadata": {}
                },
                {
                    "output_type": "display_data",
                    "data": {
                        "text/html": "RunRules iteration:  owner: IDMS; source: Student_ODS.IDMS.IDCard; package: ODS Update IDMSStatlog; table: IDCard"
                    },
                    "metadata": {}
                },
                {
                    "output_type": "display_data",
                    "data": {
                        "text/html": "RunRules dynamic sql string for Student_ODS.IDMS.IDCard: INSERT INTO [Audit].[RulesViolations]\r\n           ([RuleId]\r\n\t\t   ,[Owner]\r\n           ,[packageName]\r\n           ,[sourceTable]\r\n           ,[columnName]\r\n           ,[columnValue]\r\n           ,[recordKey]\r\n           ,[rowdata])\r\n\t\t\t\tSELECT r.ruleid,owner,'ODS Update IDMSStatlog', 'IDCard','FNAME',FNAME,s.IDCardSK,rowdata\r\n\t\t\t\tFrom Student_ODS.IDMS.IDCard s cross apply (Select * from Student_ODS.IDMS.IDCard p where p.IDCardSK = s.IDCardSK for json AUTO, INCLUDE_NULL_VALUES) j (rowdata)\r\n\t\t\t\tjoin audit.rules r on 1 = r.ruleid and r.isEnabled = 1 and r.owner = 'IDMS'\r\n\t\t\t\twhere FNAME like 'N[0-9][0-9][0-9][0-9][0-9][0-9][0-9][0-9]' and record_end_date is null\r\n\t\t\t\tUNION\r\n\t\t\t\tSELECT r.ruleid,owner,'ODS Update IDMSStatlog', 'IDCard','FNAME',FNAME,s.IDCardSK,rowdata\r\n\t\t\t\tFrom Student_ODS.IDMS.IDCard s cross apply (Select * from Student_ODS.IDMS.IDCard p where p.IDCardSK = s.IDCardSK for json AUTO, INCLUDE_NULL_VALUES) j (rowdata)\r\n\t\t\t\tjoin audit.rules r on 2 = r.ruleid and r.isEnabled = 1 and r.owner = 'IDMS'\r\n\t\t\t\twhere LNAME like 'N[0-9][0-9][0-9][0-9][0-9][0-9][0-9][0-9]' and record_end_date is null"
                    },
                    "metadata": {}
                },
                {
                    "output_type": "display_data",
                    "data": {
                        "text/html": "RunRules iteration:  owner: IR; source: Student_DM.dbo.dimAcademicInstitution; package: Dim Update LocalDims; table: dimAcademicInstitution"
                    },
                    "metadata": {}
                },
                {
                    "output_type": "display_data",
                    "data": {
                        "text/html": "dimAcademicInstitution if-block triggered..."
                    },
                    "metadata": {}
                },
                {
                    "output_type": "display_data",
                    "data": {
                        "text/html": "RunRules dynamic sql string for Student_DM.dbo.dimAcademicInstitution: INSERT INTO [Audit].[RulesViolations]\r\n           ([RuleId]\r\n\t\t   ,[Owner]\r\n           ,[packageName]\r\n           ,[sourceTable]\r\n           ,[columnName]\r\n           ,[columnValue]\r\n           ,[recordKey]\r\n           ,[rowdata])\r\n\t\t\t\tSELECT r.ruleid\r\n\t\t\t\t\t, owner, 'Dim Update LocalDims'\r\n\t\t\t\t\t, 'dimAcademicInstitution'\r\n\t\t\t\t\t, 'SUDS_Institution_Code'\r\n\t\t\t\t\t, s.SUDS_Institution_Code\r\n\t\t\t\t\t, s.Academic_Institution_SK\r\n\t\t\t\t\t, rowdata\r\n\t\t\t\tFROM Student_DM.dbo.dimAcademicInstitution s\r\n\t\t\t\tcross apply (Select * from Student_DM.dbo.dimAcademicInstitution b WHERE b.Academic_Institution_SK = s.Academic_Institution_SK for json AUTO, INCLUDE_NULL_VALUES) j (rowdata)\r\n\t\t\t\tjoin Metadata_DB.audit.rules_CLONE r on 3 = r.ruleid and r.isEnabled = 1 and r.owner = 'IR' \r\n\t\t\t\tWHERE s.SUDS_Institution_Code IS NULL"
                    },
                    "metadata": {}
                },
                {
                    "output_type": "display_data",
                    "data": {
                        "text/html": "RunRules iteration:  owner: PF; source: PhysFac_ODS..Integration_log; package: Exec PhysFac_ETL; table: Integration_log"
                    },
                    "metadata": {}
                },
                {
                    "output_type": "display_data",
                    "data": {
                        "text/html": "RunRules dynamic sql string for PhysFac_ODS..Integration_log: INSERT INTO [Audit].[RulesViolations]\r\n           ([RuleId]\r\n\t\t   ,[Owner]\r\n           ,[packageName]\r\n           ,[sourceTable]\r\n           ,[columnName]\r\n           ,[columnValue]\r\n           ,[recordKey]\r\n           ,[rowdata])\r\n\t\t\t\tSELECT r.ruleid,owner,'Exec PhysFac_ETL', 'Integration_log',CONCAT('before_scn',' : ','after_scn'),CONCAT(CAST([before_scn] as varchar(20)),' : ',CAST([after_scn] as varchar(20))),s.tablename,rowdata\r\n\t\t\t\t   From PhysFac_ODS..Integration_log s cross apply (Select * from PhysFac_ODS..Integration_log p where p.tablename = s.tablename for json AUTO, INCLUDE_NULL_VALUES) j (rowdata)\r\n\t\t\t\t   join audit.rules r on 1 = r.ruleid and r.isEnabled = 1 and r.owner = 'PF'\r\n\t\t\t\t   where ([before_checksum] = [after_checksum] AND [before_scn] <> [after_scn])\r\n\t\t\t\tUNION\r\n\t\t\t\tSELECT r.ruleid,owner,'Exec PhysFac_ETL', 'Integration_log',CONCAT('before_checksum',' : ','after_checksum'),CONCAT(CAST([before_checksum] as varchar(20)),' : ',CAST([after_checksum] as varchar(20))),s.tablename,rowdata\r\n\t\t\t\t   From PhysFac_ODS..Integration_log s cross apply (Select * from PhysFac_ODS..Integration_log p where p.tablename = s.tablename for json AUTO, INCLUDE_NULL_VALUES) j (rowdata)\r\n\t\t\t\t   join audit.rules r on 2 = r.ruleid and r.isEnabled = 1 and r.owner = 'PF'\r\n\t\t\t\t   where ([before_scn] = [after_scn] AND [before_checksum] <> [after_checksum])"
                    },
                    "metadata": {}
                },
                {
                    "output_type": "display_data",
                    "data": {
                        "text/html": "Total execution time: 00:00:03.136"
                    },
                    "metadata": {}
                },
                {
                    "output_type": "execute_result",
                    "execution_count": 64,
                    "data": {
                        "application/vnd.dataresource+json": {
                            "schema": {
                                "fields": [
                                    {
                                        "name": "(No column name)"
                                    }
                                ]
                            },
                            "data": [
                                {
                                    "0": "INSERT INTO [Audit].[RulesViolations]\r\n           ([RuleId]\r\n\t\t   ,[Owner]\r\n           ,[packageName]\r\n           ,[sourceTable]\r\n           ,[columnName]\r\n           ,[columnValue]\r\n           ,[recordKey]\r\n           ,[rowdata])\r\n\t\t\t\t\tSELECT r.ruleid,owner,'ODS UNF_Positions', 'Employee','PEBEMPL_empl_status',PEBEMPL_empl_status,s.employee_Pk,rowdata\r\n\t\t\t\t\t\tFrom HR_ODS..Employee s cross apply (Select * from HR_ODS..Employee p where p.employee_PK = s.employee_Pk for json AUTO, INCLUDE_NULL_VALUES) j (rowdata)\r\n\t\t\t\t\t\tjoin audit.rules r on 16 = r.ruleid and r.isEnabled = 1 and r.owner = 'HR'\r\n\t\t\t\t\t\tjoin (SELECT nbrbjob_pidm \r\n\t\t\t\t\t\t\tFROM HR_ODS..AssignmentsB \r\n\t\t\t\t\t\t\tWHERE (NBRBJOB_END_DATE IS NULL OR nbrbjob_end_date >=GETDATE())\r\n\t\t\t\t\t\t\tGROUP BY NBRBJOB_PIDM, NBRBJOB_END_DATE) a on s.PEBEMPL_PIDM = a.nbrbjob_pidm\r\n\t\t\t\t\t\tWHERE PEBEMPL_empl_status = 'T'"
                                }
                            ]
                        },
                        "text/html": "<table><tr><th>(No column name)</th></tr><tr><td>INSERT INTO [Audit].[RulesViolations]\r\n           ([RuleId]\r\n\t\t   ,[Owner]\r\n           ,[packageName]\r\n           ,[sourceTable]\r\n           ,[columnName]\r\n           ,[columnValue]\r\n           ,[recordKey]\r\n           ,[rowdata])\r\n\t\t\t\t\tSELECT r.ruleid,owner,'ODS UNF_Positions', 'Employee','PEBEMPL_empl_status',PEBEMPL_empl_status,s.employee_Pk,rowdata\r\n\t\t\t\t\t\tFrom HR_ODS..Employee s cross apply (Select * from HR_ODS..Employee p where p.employee_PK = s.employee_Pk for json AUTO, INCLUDE_NULL_VALUES) j (rowdata)\r\n\t\t\t\t\t\tjoin audit.rules r on 16 = r.ruleid and r.isEnabled = 1 and r.owner = 'HR'\r\n\t\t\t\t\t\tjoin (SELECT nbrbjob_pidm \r\n\t\t\t\t\t\t\tFROM HR_ODS..AssignmentsB \r\n\t\t\t\t\t\t\tWHERE (NBRBJOB_END_DATE IS NULL OR nbrbjob_end_date &gt;=GETDATE())\r\n\t\t\t\t\t\t\tGROUP BY NBRBJOB_PIDM, NBRBJOB_END_DATE) a on s.PEBEMPL_PIDM = a.nbrbjob_pidm\r\n\t\t\t\t\t\tWHERE PEBEMPL_empl_status = 'T'</td></tr></table>"
                    },
                    "metadata": {}
                },
                {
                    "output_type": "execute_result",
                    "execution_count": 64,
                    "data": {
                        "application/vnd.dataresource+json": {
                            "schema": {
                                "fields": [
                                    {
                                        "name": "(No column name)"
                                    }
                                ]
                            },
                            "data": [
                                {
                                    "0": "INSERT INTO [Audit].[RulesViolations]\r\n           ([RuleId]\r\n\t\t   ,[Owner]\r\n           ,[packageName]\r\n           ,[sourceTable]\r\n           ,[columnName]\r\n           ,[columnValue]\r\n           ,[recordKey]\r\n           ,[rowdata])\r\n\t\t\t\t\tSELECT r.ruleid,owner,'ODS UNF_Positions', 'Position','PERRANK_Rank_Code',PERRANK_Rank_Code,s.id,rowdata\r\n\t\t\t\t\t   From HR_ODS.Snap.Position s cross apply (Select * from HR_ODS.Snap.Position p where p.id = s.id for json AUTO, INCLUDE_NULL_VALUES) j (rowdata)\r\n\t\t\t\t\t   join audit.rules r on 1 = r.ruleid and r.isEnabled = 1 and r.owner = 'HR'\r\n\t\t\t\t\t   where NBBPOSN_Table = '22' and PERRANK_Rank_Code is null\r\n\t\t\t\t\t   and s.Snapshot_Date = (SELECT MAX(snapshot_date) from HR_ODS.Snap.Position)\t\t\r\n\t\t\t\t\tUNION\r\n\t\t\t\t\tSELECT r.ruleid,owner,'ODS UNF_Positions', 'Position','PERRANK_Rank_Code',PERRANK_Rank_Code,s.id,rowdata\r\n\t\t\t\t\t   From HR_ODS.Snap.Position s cross apply (Select * from HR_ODS.Snap.Position p where p.id = s.id for json AUTO, INCLUDE_NULL_VALUES) j (rowdata)\r\n\t\t\t\t\t   join audit.rules r on 2 = r.ruleid and r.isEnabled = 1 and r.owner = 'HR'\r\n\t\t\t\t\t   where NBBPOSN_Table = '22' and NBBPOSN_Pcls_Code in ('9001','9002','9003','9004') and PERRANK_Rank_Code<>SUBSTRING(NBBPOSN_Pcls_Code,3,2)\r\n\t\t\t\t\t   and s.Snapshot_Date = (SELECT MAX(snapshot_date) from HR_ODS.Snap.Position)\t\r\n\t\t\t\t\tUNION\r\n\t\t\t\t\tSELECT r.ruleid,owner,'ODS UNF_Positions', 'Position','PERAPPT_Tenure_Code',PERAPPT_Tenure_Code,s.id,rowdata\r\n\t\t\t\t\t   From HR_ODS.Snap.Position s cross apply (Select * from HR_ODS.Snap.Position p where p.id = s.id for json AUTO, INCLUDE_NULL_VALUES) j (rowdata)\r\n\t\t\t\t\t   join audit.rules r on 3 = r.ruleid and r.isEnabled = 1 and r.owner = 'HR'\r\n\t\t\t\t\t   where NBBPOSN_Table = '22' and PERAPPT_Tenure_Code is null\r\n\t\t\t\t\t   and s.Snapshot_Date = (SELECT MAX(snapshot_date) from HR_ODS.Snap.Position)\t\r\n\t\t\t\t\tUNION\r\n\t\t\t\t\tSELECT r.ruleid,owner,'ODS UNF_Positions', 'Position','NBBPOSN_Jbln_Code',NBBPOSN_Jbln_Code,s.id,rowdata\r\n\t\t\t\t\t   From HR_ODS.Snap.Position s cross apply (Select * from HR_ODS.Snap.Position p where p.id = s.id for json AUTO, INCLUDE_NULL_VALUES) j (rowdata)\r\n\t\t\t\t\t   join audit.rules r on 4 =r.ruleid and r.isEnabled = 1 and r.owner = 'HR'\r\n\t\t\t\t\t   where NBBPOSN_Table IN ('22','06') and COALESCE(NBBPOSN_Jbln_Code,'')<>COALESCE(NBRJOBS_JBLN_CODE,'')\r\n\t\t\t\t\t   and s.Snapshot_Date = (SELECT MAX(snapshot_date) from HR_ODS.Snap.Position)\t\r\n\t\t\t\t\tUNION\r\n\t\t\t\t\tSELECT r.ruleid,owner,'ODS UNF_Positions', 'Position','NBBPOSN_Jbln_Code',NBBPOSN_Jbln_Code,s.id,rowdata\r\n\t\t\t\t\t   From HR_ODS.Snap.Position s cross apply (Select * from HR_ODS.Snap.Position p where p.id = s.id for json AUTO, INCLUDE_NULL_VALUES) j (rowdata)\r\n\t\t\t\t\t   join audit.rules r on 5 = r.ruleid and r.isEnabled = 1 and r.owner = 'HR'\r\n\t\t\t\t\t   where NBBPOSN_Table NOT IN ('22','06') and COALESCE(NBBPOSN_Jbln_Code,'')<>COALESCE(NBRJOBS_JBLN_CODE,'')\r\n\t\t\t\t\t   and s.Snapshot_Date = (SELECT MAX(snapshot_date) from HR_ODS.Snap.Position)\t\r\n\t\t\t\t\tUNION\r\n\t\t\t\t\tSELECT r.ruleid,owner,'ODS UNF_Positions', 'Position','SPBPERS_Citz_Code',SPBPERS_Citz_Code,s.id,rowdata\r\n\t\t\t\t\t   From HR_ODS.Snap.Position s cross apply (Select * from HR_ODS.Snap.Position p where p.id = s.id for json AUTO, INCLUDE_NULL_VALUES) j (rowdata)\r\n\t\t\t\t\t   join audit.rules r on 6 = r.ruleid and r.isEnabled = 1 and r.owner = 'HR'\r\n\t\t\t\t\t   where SPBPERS_Citz_Code is null\r\n\t\t\t\t\t   and s.Snapshot_Date = (SELECT MAX(snapshot_date) from HR_ODS.Snap.Position)\t\r\n\t\t\t\t\tUNION\r\n\t\t\t\t\tSELECT r.ruleid,owner,'ODS UNF_Positions', 'Position','NTRPCLS_Eskl_Code',NTRPCLS_Eskl_Code,s.id,rowdata\r\n\t\t\t\t\t   From HR_ODS.Snap.Position s cross apply (Select * from HR_ODS.Snap.Position p where p.id = s.id for json AUTO, INCLUDE_NULL_VALUES) j (rowdata)\r\n\t\t\t\t\t   join audit.rules r on 7 = r.ruleid and r.isEnabled = 1 and r.owner = 'HR'\r\n\t\t\t\t\t   where NTRPCLS_Eskl_Code is null\r\n\t\t\t\t\t   and s.Snapshot_Date = (SELECT MAX(snapshot_date) from HR_ODS.Snap.Position)\t\r\n\t\t\t\t\tUNION\r\n\t\t\t\t\tSELECT r.ruleid,owner,'ODS UNF_Positions', 'Position','NBRJOBS_FTE',CAST(NBRJOBS_FTE as varchar(20)),s.id,rowdata\r\n\t\t\t\t\t   From HR_ODS.Snap.Position s cross apply (Select * from HR_ODS.Snap.Position p where p.id = s.id for json AUTO, INCLUDE_NULL_VALUES) j (rowdata)\r\n\t\t\t\t\t   join audit.rules r on 8 = r.ruleid and r.isEnabled = 1 and r.owner = 'HR'\r\n\t\t\t\t\t   where NBRJOBS_FTE > 1\r\n\t\t\t\t\t   and s.Snapshot_Date = (SELECT MAX(snapshot_date) from HR_ODS.Snap.Position)\t\r\n\t\t\t\t\tUNION\r\n\t\t\t\t\tSELECT r.ruleid,owner,'ODS UNF_Positions', 'Position','NBRJOBS_FTE',CAST(NBRJOBS_FTE as varchar(20)),s.id,rowdata\r\n\t\t\t\t\t   From HR_ODS.Snap.Position s cross apply (Select * from HR_ODS.Snap.Position p where p.id = s.id for json AUTO, INCLUDE_NULL_VALUES) j (rowdata)\r\n\t\t\t\t\t   join audit.rules r on 9 =r.ruleid and r.isEnabled = 1 and r.owner = 'HR'\r\n\t\t\t\t\t   where NBRJOBS_FTE = 0\r\n\t\t\t\t\t   and s.Snapshot_Date = (SELECT MAX(snapshot_date) from HR_ODS.Snap.Position)\t\r\n\t\t\t\t\tUNION\r\n\t\t\t\t\tSELECT r.ruleid,owner,'ODS UNF_Positions', 'Position','PPRCERT_CERT_DATE_DRPE',CAST(PPRCERT_CERT_DATE_DRPE as varchar(20)),s.id,rowdata\r\n\t\t\t\t\t   From HR_ODS.Snap.Position s cross apply (Select * from HR_ODS.Snap.Position p where p.id = s.id for json AUTO, INCLUDE_NULL_VALUES) j (rowdata)\r\n\t\t\t\t\t   join audit.rules r on 10 = r.ruleid and r.isEnabled = 1 and r.owner = 'HR'\r\n\t\t\t\t\t   where PPRCERT_CERT_DATE_DRPE is NULL and PPRCERT_CERT_DATE_DRPT is NOT NULL\r\n\t\t\t\t\t   and s.Snapshot_Date = (SELECT MAX(snapshot_date) from HR_ODS.Snap.Position)\t\t\t\t\t   \t\t\t\r\n\t\t\t\t\tUNION\r\n\t\t\t\t\tSELECT r.ruleid,owner,'ODS UNF_Positions', 'Position','PPRCERT_CERT_DATE_DRPT',CAST(PPRCERT_CERT_DATE_DRPT as varchar(20)),s.id,rowdata\r\n\t\t\t\t\t   From HR_ODS.Snap.Position s cross apply (Select * from HR_ODS.Snap.Position p where p.id = s.id for json AUTO, INCLUDE_NULL_VALUES) j (rowdata)\r\n\t\t\t\t\t   join audit.rules r on 11 = r.ruleid and r.isEnabled = 1 and r.owner = 'HR'\r\n\t\t\t\t\t   where PPRCERT_CERT_DATE_DRPT is NULL and PPRCERT_CERT_DATE_DRPE is NOT NULL\r\n\t\t\t\t\t   and s.Snapshot_Date = (SELECT MAX(snapshot_date) from HR_ODS.Snap.Position)\t\r\n\t\t\t\t\tUNION\r\n\t\t\t\t\tSELECT r.ruleid,owner,'ODS UNF_Positions', 'Position','PPRCERT_CERT_DATE_DRPE',CAST(PPRCERT_CERT_DATE_DRPE as varchar(20)),s.id,rowdata\r\n\t\t\t\t\t   From HR_ODS.Snap.Position s cross apply (Select * from HR_ODS.Snap.Position p where p.id = s.id for json AUTO, INCLUDE_NULL_VALUES) j (rowdata)\r\n\t\t\t\t\t   join audit.rules r on 12 = r.ruleid and r.isEnabled = 1 and r.owner = 'HR'\r\n\t\t\t\t\t   where PPRCERT_CERT_DATE_DRPE is NOT NULL and PPRCERT_CERT_DATE_DRPE > CURRENT_TIMESTAMP\r\n\t\t\t\t\t   and s.Snapshot_Date = (SELECT MAX(snapshot_date) from HR_ODS.Snap.Position)\t\r\n\t\t\t\t\tUNION\r\n\t\t\t\t\tSELECT r.ruleid,owner,'ODS UNF_Positions', 'Position','PPRCERT_CERT_DATE_DRPT',CAST(PPRCERT_CERT_DATE_DRPT as varchar(20)),s.id,rowdata\r\n\t\t\t\t\t   From HR_ODS.Snap.Position s cross apply (Select * from HR_ODS.Snap.Position p where p.id = s.id for json AUTO, INCLUDE_NULL_VALUES) j (rowdata)\r\n\t\t\t\t\t   join audit.rules r on 13 = r.ruleid and r.isEnabled = 1 and r.owner = 'HR'\r\n\t\t\t\t\t   where PPRCERT_CERT_DATE_DRPT is NOT NULL and PPRCERT_CERT_DATE_DRPT < PPRCERT_CERT_DATE_DRPE\r\n\t\t\t\t\t   and s.Snapshot_Date = (SELECT MAX(snapshot_date) from HR_ODS.Snap.Position)\t\r\n\t\t\t\t\tUNION\r\n\t\t\t\t\tSELECT r.ruleid,owner,'ODS UNF_Positions', 'Position','dateDiff(YEAR,PPRCERT_CERT_DATE_DRPE, PPRCERT_CERT_DATE_DRPT)',CAST(dateDiff(YEAR,PPRCERT_CERT_DATE_DRPE, PPRCERT_CERT_DATE_DRPT) as varchar(20)),s.id,rowdata\r\n\t\t\t\t\t   From HR_ODS.Snap.Position s cross apply (Select * from HR_ODS.Snap.Position p where p.id = s.id for json AUTO, INCLUDE_NULL_VALUES) j (rowdata)\r\n\t\t\t\t\t   join audit.rules r on 14 = r.ruleid and r.owner = 'HR'\r\n\t\t\t\t\t   where PPRCERT_CERT_DATE_DRPE is NOT NULL and PPRCERT_CERT_DATE_DRPT is NOT NULL and dateDiff(YEAR,PPRCERT_CERT_DATE_DRPE, PPRCERT_CERT_DATE_DRPT) > 5 \r\n\t\t\t\t\t   and s.Snapshot_Date = (SELECT MAX(snapshot_date) from HR_ODS.Snap.Position)\t\r\n\t\t\t\t\tUNION\r\n\t\t\t\t\tSELECT r.ruleid,owner,'ODS UNF_Positions', 'Position','GORPRAC_Race_Codes',GORPRAC_Race_Codes,s.id,rowdata\r\n\t\t\t\t\t   From HR_ODS.Snap.Position s cross apply (Select * from HR_ODS.Snap.Position p where p.id = s.id for json AUTO, INCLUDE_NULL_VALUES) j (rowdata)\r\n\t\t\t\t\t   join audit.rules r on 15 = r.ruleid and r.isEnabled = 1 and r.owner = 'HR'\r\n\t\t\t\t\t   where SPBPERS_ETHN_CDE = 'X' AND GORPRAC_Race_Codes is NULL \r\n\t\t\t\t\t   and s.Snapshot_Date = (SELECT MAX(snapshot_date) from HR_ODS.Snap.Position)"
                                }
                            ]
                        },
                        "text/html": "<table><tr><th>(No column name)</th></tr><tr><td>INSERT INTO [Audit].[RulesViolations]\r\n           ([RuleId]\r\n\t\t   ,[Owner]\r\n           ,[packageName]\r\n           ,[sourceTable]\r\n           ,[columnName]\r\n           ,[columnValue]\r\n           ,[recordKey]\r\n           ,[rowdata])\r\n\t\t\t\t\tSELECT r.ruleid,owner,'ODS UNF_Positions', 'Position','PERRANK_Rank_Code',PERRANK_Rank_Code,s.id,rowdata\r\n\t\t\t\t\t   From HR_ODS.Snap.Position s cross apply (Select * from HR_ODS.Snap.Position p where p.id = s.id for json AUTO, INCLUDE_NULL_VALUES) j (rowdata)\r\n\t\t\t\t\t   join audit.rules r on 1 = r.ruleid and r.isEnabled = 1 and r.owner = 'HR'\r\n\t\t\t\t\t   where NBBPOSN_Table = '22' and PERRANK_Rank_Code is null\r\n\t\t\t\t\t   and s.Snapshot_Date = (SELECT MAX(snapshot_date) from HR_ODS.Snap.Position)\t\t\r\n\t\t\t\t\tUNION\r\n\t\t\t\t\tSELECT r.ruleid,owner,'ODS UNF_Positions', 'Position','PERRANK_Rank_Code',PERRANK_Rank_Code,s.id,rowdata\r\n\t\t\t\t\t   From HR_ODS.Snap.Position s cross apply (Select * from HR_ODS.Snap.Position p where p.id = s.id for json AUTO, INCLUDE_NULL_VALUES) j (rowdata)\r\n\t\t\t\t\t   join audit.rules r on 2 = r.ruleid and r.isEnabled = 1 and r.owner = 'HR'\r\n\t\t\t\t\t   where NBBPOSN_Table = '22' and NBBPOSN_Pcls_Code in ('9001','9002','9003','9004') and PERRANK_Rank_Code&lt;&gt;SUBSTRING(NBBPOSN_Pcls_Code,3,2)\r\n\t\t\t\t\t   and s.Snapshot_Date = (SELECT MAX(snapshot_date) from HR_ODS.Snap.Position)\t\r\n\t\t\t\t\tUNION\r\n\t\t\t\t\tSELECT r.ruleid,owner,'ODS UNF_Positions', 'Position','PERAPPT_Tenure_Code',PERAPPT_Tenure_Code,s.id,rowdata\r\n\t\t\t\t\t   From HR_ODS.Snap.Position s cross apply (Select * from HR_ODS.Snap.Position p where p.id = s.id for json AUTO, INCLUDE_NULL_VALUES) j (rowdata)\r\n\t\t\t\t\t   join audit.rules r on 3 = r.ruleid and r.isEnabled = 1 and r.owner = 'HR'\r\n\t\t\t\t\t   where NBBPOSN_Table = '22' and PERAPPT_Tenure_Code is null\r\n\t\t\t\t\t   and s.Snapshot_Date = (SELECT MAX(snapshot_date) from HR_ODS.Snap.Position)\t\r\n\t\t\t\t\tUNION\r\n\t\t\t\t\tSELECT r.ruleid,owner,'ODS UNF_Positions', 'Position','NBBPOSN_Jbln_Code',NBBPOSN_Jbln_Code,s.id,rowdata\r\n\t\t\t\t\t   From HR_ODS.Snap.Position s cross apply (Select * from HR_ODS.Snap.Position p where p.id = s.id for json AUTO, INCLUDE_NULL_VALUES) j (rowdata)\r\n\t\t\t\t\t   join audit.rules r on 4 =r.ruleid and r.isEnabled = 1 and r.owner = 'HR'\r\n\t\t\t\t\t   where NBBPOSN_Table IN ('22','06') and COALESCE(NBBPOSN_Jbln_Code,'')&lt;&gt;COALESCE(NBRJOBS_JBLN_CODE,'')\r\n\t\t\t\t\t   and s.Snapshot_Date = (SELECT MAX(snapshot_date) from HR_ODS.Snap.Position)\t\r\n\t\t\t\t\tUNION\r\n\t\t\t\t\tSELECT r.ruleid,owner,'ODS UNF_Positions', 'Position','NBBPOSN_Jbln_Code',NBBPOSN_Jbln_Code,s.id,rowdata\r\n\t\t\t\t\t   From HR_ODS.Snap.Position s cross apply (Select * from HR_ODS.Snap.Position p where p.id = s.id for json AUTO, INCLUDE_NULL_VALUES) j (rowdata)\r\n\t\t\t\t\t   join audit.rules r on 5 = r.ruleid and r.isEnabled = 1 and r.owner = 'HR'\r\n\t\t\t\t\t   where NBBPOSN_Table NOT IN ('22','06') and COALESCE(NBBPOSN_Jbln_Code,'')&lt;&gt;COALESCE(NBRJOBS_JBLN_CODE,'')\r\n\t\t\t\t\t   and s.Snapshot_Date = (SELECT MAX(snapshot_date) from HR_ODS.Snap.Position)\t\r\n\t\t\t\t\tUNION\r\n\t\t\t\t\tSELECT r.ruleid,owner,'ODS UNF_Positions', 'Position','SPBPERS_Citz_Code',SPBPERS_Citz_Code,s.id,rowdata\r\n\t\t\t\t\t   From HR_ODS.Snap.Position s cross apply (Select * from HR_ODS.Snap.Position p where p.id = s.id for json AUTO, INCLUDE_NULL_VALUES) j (rowdata)\r\n\t\t\t\t\t   join audit.rules r on 6 = r.ruleid and r.isEnabled = 1 and r.owner = 'HR'\r\n\t\t\t\t\t   where SPBPERS_Citz_Code is null\r\n\t\t\t\t\t   and s.Snapshot_Date = (SELECT MAX(snapshot_date) from HR_ODS.Snap.Position)\t\r\n\t\t\t\t\tUNION\r\n\t\t\t\t\tSELECT r.ruleid,owner,'ODS UNF_Positions', 'Position','NTRPCLS_Eskl_Code',NTRPCLS_Eskl_Code,s.id,rowdata\r\n\t\t\t\t\t   From HR_ODS.Snap.Position s cross apply (Select * from HR_ODS.Snap.Position p where p.id = s.id for json AUTO, INCLUDE_NULL_VALUES) j (rowdata)\r\n\t\t\t\t\t   join audit.rules r on 7 = r.ruleid and r.isEnabled = 1 and r.owner = 'HR'\r\n\t\t\t\t\t   where NTRPCLS_Eskl_Code is null\r\n\t\t\t\t\t   and s.Snapshot_Date = (SELECT MAX(snapshot_date) from HR_ODS.Snap.Position)\t\r\n\t\t\t\t\tUNION\r\n\t\t\t\t\tSELECT r.ruleid,owner,'ODS UNF_Positions', 'Position','NBRJOBS_FTE',CAST(NBRJOBS_FTE as varchar(20)),s.id,rowdata\r\n\t\t\t\t\t   From HR_ODS.Snap.Position s cross apply (Select * from HR_ODS.Snap.Position p where p.id = s.id for json AUTO, INCLUDE_NULL_VALUES) j (rowdata)\r\n\t\t\t\t\t   join audit.rules r on 8 = r.ruleid and r.isEnabled = 1 and r.owner = 'HR'\r\n\t\t\t\t\t   where NBRJOBS_FTE &gt; 1\r\n\t\t\t\t\t   and s.Snapshot_Date = (SELECT MAX(snapshot_date) from HR_ODS.Snap.Position)\t\r\n\t\t\t\t\tUNION\r\n\t\t\t\t\tSELECT r.ruleid,owner,'ODS UNF_Positions', 'Position','NBRJOBS_FTE',CAST(NBRJOBS_FTE as varchar(20)),s.id,rowdata\r\n\t\t\t\t\t   From HR_ODS.Snap.Position s cross apply (Select * from HR_ODS.Snap.Position p where p.id = s.id for json AUTO, INCLUDE_NULL_VALUES) j (rowdata)\r\n\t\t\t\t\t   join audit.rules r on 9 =r.ruleid and r.isEnabled = 1 and r.owner = 'HR'\r\n\t\t\t\t\t   where NBRJOBS_FTE = 0\r\n\t\t\t\t\t   and s.Snapshot_Date = (SELECT MAX(snapshot_date) from HR_ODS.Snap.Position)\t\r\n\t\t\t\t\tUNION\r\n\t\t\t\t\tSELECT r.ruleid,owner,'ODS UNF_Positions', 'Position','PPRCERT_CERT_DATE_DRPE',CAST(PPRCERT_CERT_DATE_DRPE as varchar(20)),s.id,rowdata\r\n\t\t\t\t\t   From HR_ODS.Snap.Position s cross apply (Select * from HR_ODS.Snap.Position p where p.id = s.id for json AUTO, INCLUDE_NULL_VALUES) j (rowdata)\r\n\t\t\t\t\t   join audit.rules r on 10 = r.ruleid and r.isEnabled = 1 and r.owner = 'HR'\r\n\t\t\t\t\t   where PPRCERT_CERT_DATE_DRPE is NULL and PPRCERT_CERT_DATE_DRPT is NOT NULL\r\n\t\t\t\t\t   and s.Snapshot_Date = (SELECT MAX(snapshot_date) from HR_ODS.Snap.Position)\t\t\t\t\t   \t\t\t\r\n\t\t\t\t\tUNION\r\n\t\t\t\t\tSELECT r.ruleid,owner,'ODS UNF_Positions', 'Position','PPRCERT_CERT_DATE_DRPT',CAST(PPRCERT_CERT_DATE_DRPT as varchar(20)),s.id,rowdata\r\n\t\t\t\t\t   From HR_ODS.Snap.Position s cross apply (Select * from HR_ODS.Snap.Position p where p.id = s.id for json AUTO, INCLUDE_NULL_VALUES) j (rowdata)\r\n\t\t\t\t\t   join audit.rules r on 11 = r.ruleid and r.isEnabled = 1 and r.owner = 'HR'\r\n\t\t\t\t\t   where PPRCERT_CERT_DATE_DRPT is NULL and PPRCERT_CERT_DATE_DRPE is NOT NULL\r\n\t\t\t\t\t   and s.Snapshot_Date = (SELECT MAX(snapshot_date) from HR_ODS.Snap.Position)\t\r\n\t\t\t\t\tUNION\r\n\t\t\t\t\tSELECT r.ruleid,owner,'ODS UNF_Positions', 'Position','PPRCERT_CERT_DATE_DRPE',CAST(PPRCERT_CERT_DATE_DRPE as varchar(20)),s.id,rowdata\r\n\t\t\t\t\t   From HR_ODS.Snap.Position s cross apply (Select * from HR_ODS.Snap.Position p where p.id = s.id for json AUTO, INCLUDE_NULL_VALUES) j (rowdata)\r\n\t\t\t\t\t   join audit.rules r on 12 = r.ruleid and r.isEnabled = 1 and r.owner = 'HR'\r\n\t\t\t\t\t   where PPRCERT_CERT_DATE_DRPE is NOT NULL and PPRCERT_CERT_DATE_DRPE &gt; CURRENT_TIMESTAMP\r\n\t\t\t\t\t   and s.Snapshot_Date = (SELECT MAX(snapshot_date) from HR_ODS.Snap.Position)\t\r\n\t\t\t\t\tUNION\r\n\t\t\t\t\tSELECT r.ruleid,owner,'ODS UNF_Positions', 'Position','PPRCERT_CERT_DATE_DRPT',CAST(PPRCERT_CERT_DATE_DRPT as varchar(20)),s.id,rowdata\r\n\t\t\t\t\t   From HR_ODS.Snap.Position s cross apply (Select * from HR_ODS.Snap.Position p where p.id = s.id for json AUTO, INCLUDE_NULL_VALUES) j (rowdata)\r\n\t\t\t\t\t   join audit.rules r on 13 = r.ruleid and r.isEnabled = 1 and r.owner = 'HR'\r\n\t\t\t\t\t   where PPRCERT_CERT_DATE_DRPT is NOT NULL and PPRCERT_CERT_DATE_DRPT &lt; PPRCERT_CERT_DATE_DRPE\r\n\t\t\t\t\t   and s.Snapshot_Date = (SELECT MAX(snapshot_date) from HR_ODS.Snap.Position)\t\r\n\t\t\t\t\tUNION\r\n\t\t\t\t\tSELECT r.ruleid,owner,'ODS UNF_Positions', 'Position','dateDiff(YEAR,PPRCERT_CERT_DATE_DRPE, PPRCERT_CERT_DATE_DRPT)',CAST(dateDiff(YEAR,PPRCERT_CERT_DATE_DRPE, PPRCERT_CERT_DATE_DRPT) as varchar(20)),s.id,rowdata\r\n\t\t\t\t\t   From HR_ODS.Snap.Position s cross apply (Select * from HR_ODS.Snap.Position p where p.id = s.id for json AUTO, INCLUDE_NULL_VALUES) j (rowdata)\r\n\t\t\t\t\t   join audit.rules r on 14 = r.ruleid and r.owner = 'HR'\r\n\t\t\t\t\t   where PPRCERT_CERT_DATE_DRPE is NOT NULL and PPRCERT_CERT_DATE_DRPT is NOT NULL and dateDiff(YEAR,PPRCERT_CERT_DATE_DRPE, PPRCERT_CERT_DATE_DRPT) &gt; 5 \r\n\t\t\t\t\t   and s.Snapshot_Date = (SELECT MAX(snapshot_date) from HR_ODS.Snap.Position)\t\r\n\t\t\t\t\tUNION\r\n\t\t\t\t\tSELECT r.ruleid,owner,'ODS UNF_Positions', 'Position','GORPRAC_Race_Codes',GORPRAC_Race_Codes,s.id,rowdata\r\n\t\t\t\t\t   From HR_ODS.Snap.Position s cross apply (Select * from HR_ODS.Snap.Position p where p.id = s.id for json AUTO, INCLUDE_NULL_VALUES) j (rowdata)\r\n\t\t\t\t\t   join audit.rules r on 15 = r.ruleid and r.isEnabled = 1 and r.owner = 'HR'\r\n\t\t\t\t\t   where SPBPERS_ETHN_CDE = 'X' AND GORPRAC_Race_Codes is NULL \r\n\t\t\t\t\t   and s.Snapshot_Date = (SELECT MAX(snapshot_date) from HR_ODS.Snap.Position)</td></tr></table>"
                    },
                    "metadata": {}
                },
                {
                    "output_type": "execute_result",
                    "execution_count": 64,
                    "data": {
                        "application/vnd.dataresource+json": {
                            "schema": {
                                "fields": [
                                    {
                                        "name": "(No column name)"
                                    }
                                ]
                            },
                            "data": [
                                {
                                    "0": "INSERT INTO [Audit].[RulesViolations]\r\n           ([RuleId]\r\n\t\t   ,[Owner]\r\n           ,[packageName]\r\n           ,[sourceTable]\r\n           ,[columnName]\r\n           ,[columnValue]\r\n           ,[recordKey]\r\n           ,[rowdata])\r\n\t\t\t\tSELECT r.ruleid,owner,'ODS Update IDMSStatlog', 'IDCard','FNAME',FNAME,s.IDCardSK,rowdata\r\n\t\t\t\tFrom Student_ODS.IDMS.IDCard s cross apply (Select * from Student_ODS.IDMS.IDCard p where p.IDCardSK = s.IDCardSK for json AUTO, INCLUDE_NULL_VALUES) j (rowdata)\r\n\t\t\t\tjoin audit.rules r on 1 = r.ruleid and r.isEnabled = 1 and r.owner = 'IDMS'\r\n\t\t\t\twhere FNAME like 'N[0-9][0-9][0-9][0-9][0-9][0-9][0-9][0-9]' and record_end_date is null\r\n\t\t\t\tUNION\r\n\t\t\t\tSELECT r.ruleid,owner,'ODS Update IDMSStatlog', 'IDCard','FNAME',FNAME,s.IDCardSK,rowdata\r\n\t\t\t\tFrom Student_ODS.IDMS.IDCard s cross apply (Select * from Student_ODS.IDMS.IDCard p where p.IDCardSK = s.IDCardSK for json AUTO, INCLUDE_NULL_VALUES) j (rowdata)\r\n\t\t\t\tjoin audit.rules r on 2 = r.ruleid and r.isEnabled = 1 and r.owner = 'IDMS'\r\n\t\t\t\twhere LNAME like 'N[0-9][0-9][0-9][0-9][0-9][0-9][0-9][0-9]' and record_end_date is null"
                                }
                            ]
                        },
                        "text/html": "<table><tr><th>(No column name)</th></tr><tr><td>INSERT INTO [Audit].[RulesViolations]\r\n           ([RuleId]\r\n\t\t   ,[Owner]\r\n           ,[packageName]\r\n           ,[sourceTable]\r\n           ,[columnName]\r\n           ,[columnValue]\r\n           ,[recordKey]\r\n           ,[rowdata])\r\n\t\t\t\tSELECT r.ruleid,owner,'ODS Update IDMSStatlog', 'IDCard','FNAME',FNAME,s.IDCardSK,rowdata\r\n\t\t\t\tFrom Student_ODS.IDMS.IDCard s cross apply (Select * from Student_ODS.IDMS.IDCard p where p.IDCardSK = s.IDCardSK for json AUTO, INCLUDE_NULL_VALUES) j (rowdata)\r\n\t\t\t\tjoin audit.rules r on 1 = r.ruleid and r.isEnabled = 1 and r.owner = 'IDMS'\r\n\t\t\t\twhere FNAME like 'N[0-9][0-9][0-9][0-9][0-9][0-9][0-9][0-9]' and record_end_date is null\r\n\t\t\t\tUNION\r\n\t\t\t\tSELECT r.ruleid,owner,'ODS Update IDMSStatlog', 'IDCard','FNAME',FNAME,s.IDCardSK,rowdata\r\n\t\t\t\tFrom Student_ODS.IDMS.IDCard s cross apply (Select * from Student_ODS.IDMS.IDCard p where p.IDCardSK = s.IDCardSK for json AUTO, INCLUDE_NULL_VALUES) j (rowdata)\r\n\t\t\t\tjoin audit.rules r on 2 = r.ruleid and r.isEnabled = 1 and r.owner = 'IDMS'\r\n\t\t\t\twhere LNAME like 'N[0-9][0-9][0-9][0-9][0-9][0-9][0-9][0-9]' and record_end_date is null</td></tr></table>"
                    },
                    "metadata": {}
                },
                {
                    "output_type": "execute_result",
                    "execution_count": 64,
                    "data": {
                        "application/vnd.dataresource+json": {
                            "schema": {
                                "fields": [
                                    {
                                        "name": "(No column name)"
                                    }
                                ]
                            },
                            "data": [
                                {
                                    "0": "INSERT INTO [Audit].[RulesViolations]\r\n           ([RuleId]\r\n\t\t   ,[Owner]\r\n           ,[packageName]\r\n           ,[sourceTable]\r\n           ,[columnName]\r\n           ,[columnValue]\r\n           ,[recordKey]\r\n           ,[rowdata])\r\n\t\t\t\tSELECT r.ruleid\r\n\t\t\t\t\t, owner, 'Dim Update LocalDims'\r\n\t\t\t\t\t, 'dimAcademicInstitution'\r\n\t\t\t\t\t, 'SUDS_Institution_Code'\r\n\t\t\t\t\t, s.SUDS_Institution_Code\r\n\t\t\t\t\t, s.Academic_Institution_SK\r\n\t\t\t\t\t, rowdata\r\n\t\t\t\tFROM Student_DM.dbo.dimAcademicInstitution s\r\n\t\t\t\tcross apply (Select * from Student_DM.dbo.dimAcademicInstitution b WHERE b.Academic_Institution_SK = s.Academic_Institution_SK for json AUTO, INCLUDE_NULL_VALUES) j (rowdata)\r\n\t\t\t\tjoin Metadata_DB.audit.rules_CLONE r on 3 = r.ruleid and r.isEnabled = 1 and r.owner = 'IR' \r\n\t\t\t\tWHERE s.SUDS_Institution_Code IS NULL"
                                }
                            ]
                        },
                        "text/html": "<table><tr><th>(No column name)</th></tr><tr><td>INSERT INTO [Audit].[RulesViolations]\r\n           ([RuleId]\r\n\t\t   ,[Owner]\r\n           ,[packageName]\r\n           ,[sourceTable]\r\n           ,[columnName]\r\n           ,[columnValue]\r\n           ,[recordKey]\r\n           ,[rowdata])\r\n\t\t\t\tSELECT r.ruleid\r\n\t\t\t\t\t, owner, 'Dim Update LocalDims'\r\n\t\t\t\t\t, 'dimAcademicInstitution'\r\n\t\t\t\t\t, 'SUDS_Institution_Code'\r\n\t\t\t\t\t, s.SUDS_Institution_Code\r\n\t\t\t\t\t, s.Academic_Institution_SK\r\n\t\t\t\t\t, rowdata\r\n\t\t\t\tFROM Student_DM.dbo.dimAcademicInstitution s\r\n\t\t\t\tcross apply (Select * from Student_DM.dbo.dimAcademicInstitution b WHERE b.Academic_Institution_SK = s.Academic_Institution_SK for json AUTO, INCLUDE_NULL_VALUES) j (rowdata)\r\n\t\t\t\tjoin Metadata_DB.audit.rules_CLONE r on 3 = r.ruleid and r.isEnabled = 1 and r.owner = 'IR' \r\n\t\t\t\tWHERE s.SUDS_Institution_Code IS NULL</td></tr></table>"
                    },
                    "metadata": {}
                },
                {
                    "output_type": "execute_result",
                    "execution_count": 64,
                    "data": {
                        "application/vnd.dataresource+json": {
                            "schema": {
                                "fields": [
                                    {
                                        "name": "(No column name)"
                                    }
                                ]
                            },
                            "data": [
                                {
                                    "0": "INSERT INTO [Audit].[RulesViolations]\r\n           ([RuleId]\r\n\t\t   ,[Owner]\r\n           ,[packageName]\r\n           ,[sourceTable]\r\n           ,[columnName]\r\n           ,[columnValue]\r\n           ,[recordKey]\r\n           ,[rowdata])\r\n\t\t\t\tSELECT r.ruleid,owner,'Exec PhysFac_ETL', 'Integration_log',CONCAT('before_scn',' : ','after_scn'),CONCAT(CAST([before_scn] as varchar(20)),' : ',CAST([after_scn] as varchar(20))),s.tablename,rowdata\r\n\t\t\t\t   From PhysFac_ODS..Integration_log s cross apply (Select * from PhysFac_ODS..Integration_log p where p.tablename = s.tablename for json AUTO, INCLUDE_NULL_VALUES) j (rowdata)\r\n\t\t\t\t   join audit.rules r on 1 = r.ruleid and r.isEnabled = 1 and r.owner = 'PF'\r\n\t\t\t\t   where ([before_checksum] = [after_checksum] AND [before_scn] <> [after_scn])\r\n\t\t\t\tUNION\r\n\t\t\t\tSELECT r.ruleid,owner,'Exec PhysFac_ETL', 'Integration_log',CONCAT('before_checksum',' : ','after_checksum'),CONCAT(CAST([before_checksum] as varchar(20)),' : ',CAST([after_checksum] as varchar(20))),s.tablename,rowdata\r\n\t\t\t\t   From PhysFac_ODS..Integration_log s cross apply (Select * from PhysFac_ODS..Integration_log p where p.tablename = s.tablename for json AUTO, INCLUDE_NULL_VALUES) j (rowdata)\r\n\t\t\t\t   join audit.rules r on 2 = r.ruleid and r.isEnabled = 1 and r.owner = 'PF'\r\n\t\t\t\t   where ([before_scn] = [after_scn] AND [before_checksum] <> [after_checksum])"
                                }
                            ]
                        },
                        "text/html": "<table><tr><th>(No column name)</th></tr><tr><td>INSERT INTO [Audit].[RulesViolations]\r\n           ([RuleId]\r\n\t\t   ,[Owner]\r\n           ,[packageName]\r\n           ,[sourceTable]\r\n           ,[columnName]\r\n           ,[columnValue]\r\n           ,[recordKey]\r\n           ,[rowdata])\r\n\t\t\t\tSELECT r.ruleid,owner,'Exec PhysFac_ETL', 'Integration_log',CONCAT('before_scn',' : ','after_scn'),CONCAT(CAST([before_scn] as varchar(20)),' : ',CAST([after_scn] as varchar(20))),s.tablename,rowdata\r\n\t\t\t\t   From PhysFac_ODS..Integration_log s cross apply (Select * from PhysFac_ODS..Integration_log p where p.tablename = s.tablename for json AUTO, INCLUDE_NULL_VALUES) j (rowdata)\r\n\t\t\t\t   join audit.rules r on 1 = r.ruleid and r.isEnabled = 1 and r.owner = 'PF'\r\n\t\t\t\t   where ([before_checksum] = [after_checksum] AND [before_scn] &lt;&gt; [after_scn])\r\n\t\t\t\tUNION\r\n\t\t\t\tSELECT r.ruleid,owner,'Exec PhysFac_ETL', 'Integration_log',CONCAT('before_checksum',' : ','after_checksum'),CONCAT(CAST([before_checksum] as varchar(20)),' : ',CAST([after_checksum] as varchar(20))),s.tablename,rowdata\r\n\t\t\t\t   From PhysFac_ODS..Integration_log s cross apply (Select * from PhysFac_ODS..Integration_log p where p.tablename = s.tablename for json AUTO, INCLUDE_NULL_VALUES) j (rowdata)\r\n\t\t\t\t   join audit.rules r on 2 = r.ruleid and r.isEnabled = 1 and r.owner = 'PF'\r\n\t\t\t\t   where ([before_scn] = [after_scn] AND [before_checksum] &lt;&gt; [after_checksum])</td></tr></table>"
                    },
                    "metadata": {}
                }
            ],
            "execution_count": 64
        },
        {
            "cell_type": "code",
            "source": [
                "SELECT * \r\n",
                "FROM Audit.RulesViolations v\r\n",
                "WHERE v.[Owner] LIKE 'IR' and v.RuleId = 3"
            ],
            "metadata": {
                "azdata_cell_guid": "847bcaf7-7b19-41f5-9ea1-9996573580e8"
            },
            "outputs": [
                {
                    "output_type": "display_data",
                    "data": {
                        "text/html": "(60 rows affected)"
                    },
                    "metadata": {}
                },
                {
                    "output_type": "display_data",
                    "data": {
                        "text/html": "Total execution time: 00:00:00.028"
                    },
                    "metadata": {}
                },
                {
                    "output_type": "execute_result",
                    "execution_count": 65,
                    "data": {
                        "application/vnd.dataresource+json": {
                            "schema": {
                                "fields": [
                                    {
                                        "name": "Id"
                                    },
                                    {
                                        "name": "dateCreated"
                                    },
                                    {
                                        "name": "RuleId"
                                    },
                                    {
                                        "name": "Owner"
                                    },
                                    {
                                        "name": "packageName"
                                    },
                                    {
                                        "name": "sourceTable"
                                    },
                                    {
                                        "name": "columnName"
                                    },
                                    {
                                        "name": "columnValue"
                                    },
                                    {
                                        "name": "recordKey"
                                    },
                                    {
                                        "name": "rowdata"
                                    }
                                ]
                            },
                            "data": [
                                {
                                    "0": "78406",
                                    "1": "2020-06-12 10:14:00.653",
                                    "2": "3",
                                    "3": "IR",
                                    "4": "Dim Update LocalDims",
                                    "5": "dimAcademicInstitution",
                                    "6": "SUDS_Institution_Code",
                                    "7": "NULL",
                                    "8": "39279",
                                    "9": "[{\"Academic_Institution_SK\":39279,\"Institution_Code\":\"102516\",\"Institution_Type_Code\":\"H\",\"Recruiting_Source_Indicator\":\"Y\",\"Institution_Name\":\"St Petersburg Collegiate HS\",\"Institution_FICE_Code\":\"102516\",\"EDI_Capable_Indicator\":\"N\",\"Address_Line1\":\"6605 5th Ave N, St.\",\"Address_Line2\":null,\"Address_Line3\":null,\"Combined_Street_Address\":\"6605 5th Ave N, St.\",\"Address_City\":\"Petersburg\",\"Address_State_Code\":\"FL\",\"Address_State\":\"Florida\",\"Address_County_Code\":\"UNK\",\"Address_County\":\"Unknown\",\"Address_Zip\":\"33710\",\"GeoMarket_Code\":null,\"GeoMarket\":null,\"Address_Activity_Date\":\"2020-05-11\",\"Institution_Activity_Date\":\"2020-05-11\",\"SUDS_Institution_Code\":null,\"SUDS_Institution_State\":null,\"BOG_Institution_Code\":null,\"Florida_Public_Inst_Code\":null}]"
                                },
                                {
                                    "0": "78407",
                                    "1": "2020-06-12 10:14:00.653",
                                    "2": "3",
                                    "3": "IR",
                                    "4": "Dim Update LocalDims",
                                    "5": "dimAcademicInstitution",
                                    "6": "SUDS_Institution_Code",
                                    "7": "NULL",
                                    "8": "39280",
                                    "9": "[{\"Academic_Institution_SK\":39280,\"Institution_Code\":\"102575\",\"Institution_Type_Code\":\"H\",\"Recruiting_Source_Indicator\":\"Y\",\"Institution_Name\":\"Millennium 6-12 Collegiate Aca\",\"Institution_FICE_Code\":\"102575\",\"EDI_Capable_Indicator\":\"N\",\"Address_Line1\":\"5803 NW 94th Ave\",\"Address_Line2\":null,\"Address_Line3\":null,\"Combined_Street_Address\":\"5803 NW 94th Ave\",\"Address_City\":\"Tamarac\",\"Address_State_Code\":\"FL\",\"Address_State\":\"Florida\",\"Address_County_Code\":\"UNK\",\"Address_County\":\"Unknown\",\"Address_Zip\":\"33321\",\"GeoMarket_Code\":null,\"GeoMarket\":null,\"Address_Activity_Date\":\"2020-05-11\",\"Institution_Activity_Date\":\"2020-05-11\",\"SUDS_Institution_Code\":null,\"SUDS_Institution_State\":null,\"BOG_Institution_Code\":null,\"Florida_Public_Inst_Code\":null}]"
                                },
                                {
                                    "0": "78408",
                                    "1": "2020-06-12 10:14:00.653",
                                    "2": "3",
                                    "3": "IR",
                                    "4": "Dim Update LocalDims",
                                    "5": "dimAcademicInstitution",
                                    "6": "SUDS_Institution_Code",
                                    "7": "NULL",
                                    "8": "39281",
                                    "9": "[{\"Academic_Institution_SK\":39281,\"Institution_Code\":\"110034\",\"Institution_Type_Code\":\"H\",\"Recruiting_Source_Indicator\":\"Y\",\"Institution_Name\":\"Saint Georges Episcopal School\",\"Institution_FICE_Code\":\"110034\",\"EDI_Capable_Indicator\":\"N\",\"Address_Line1\":\"10560 Fort George Rd\",\"Address_Line2\":null,\"Address_Line3\":null,\"Combined_Street_Address\":\"10560 Fort George Rd\",\"Address_City\":\"Jacksonville\",\"Address_State_Code\":\"FL\",\"Address_State\":\"Florida\",\"Address_County_Code\":\"UNK\",\"Address_County\":\"Unknown\",\"Address_Zip\":\"32226\",\"GeoMarket_Code\":null,\"GeoMarket\":null,\"Address_Activity_Date\":\"2020-05-11\",\"Institution_Activity_Date\":\"2020-05-11\",\"SUDS_Institution_Code\":null,\"SUDS_Institution_State\":null,\"BOG_Institution_Code\":null,\"Florida_Public_Inst_Code\":null}]"
                                },
                                {
                                    "0": "78409",
                                    "1": "2020-06-12 10:14:00.653",
                                    "2": "3",
                                    "3": "IR",
                                    "4": "Dim Update LocalDims",
                                    "5": "dimAcademicInstitution",
                                    "6": "SUDS_Institution_Code",
                                    "7": "NULL",
                                    "8": "39282",
                                    "9": "[{\"Academic_Institution_SK\":39282,\"Institution_Code\":\"110088\",\"Institution_Type_Code\":\"H\",\"Recruiting_Source_Indicator\":\"Y\",\"Institution_Name\":\"Alliance Academy for Innov of\",\"Institution_FICE_Code\":\"110088\",\"EDI_Capable_Indicator\":\"N\",\"Address_Line1\":\"1100 Lanier 400 Parkway\",\"Address_Line2\":null,\"Address_Line3\":null,\"Combined_Street_Address\":\"1100 Lanier 400 Parkway\",\"Address_City\":\"Cumming\",\"Address_State_Code\":\"GA\",\"Address_State\":\"Georgia\",\"Address_County_Code\":\"UNK\",\"Address_County\":\"Unknown\",\"Address_Zip\":\"30040\",\"GeoMarket_Code\":null,\"GeoMarket\":null,\"Address_Activity_Date\":\"2020-05-11\",\"Institution_Activity_Date\":\"2020-05-11\",\"SUDS_Institution_Code\":null,\"SUDS_Institution_State\":null,\"BOG_Institution_Code\":null,\"Florida_Public_Inst_Code\":null}]"
                                },
                                {
                                    "0": "78410",
                                    "1": "2020-06-12 10:14:00.653",
                                    "2": "3",
                                    "3": "IR",
                                    "4": "Dim Update LocalDims",
                                    "5": "dimAcademicInstitution",
                                    "6": "SUDS_Institution_Code",
                                    "7": "NULL",
                                    "8": "39283",
                                    "9": "[{\"Academic_Institution_SK\":39283,\"Institution_Code\":\"110270\",\"Institution_Type_Code\":\"H\",\"Recruiting_Source_Indicator\":\"Y\",\"Institution_Name\":\"Cherokee Bluff High School\",\"Institution_FICE_Code\":\"110270\",\"EDI_Capable_Indicator\":\"N\",\"Address_Line1\":\"6603 Spout Springs Rd\",\"Address_Line2\":null,\"Address_Line3\":null,\"Combined_Street_Address\":\"6603 Spout Springs Rd\",\"Address_City\":\"Flowery Branch\",\"Address_State_Code\":\"GA\",\"Address_State\":\"Georgia\",\"Address_County_Code\":\"UNK\",\"Address_County\":\"Unknown\",\"Address_Zip\":\"30542\",\"GeoMarket_Code\":null,\"GeoMarket\":null,\"Address_Activity_Date\":\"2020-05-11\",\"Institution_Activity_Date\":\"2020-05-11\",\"SUDS_Institution_Code\":null,\"SUDS_Institution_State\":null,\"BOG_Institution_Code\":null,\"Florida_Public_Inst_Code\":null}]"
                                },
                                {
                                    "0": "78411",
                                    "1": "2020-06-12 10:14:00.653",
                                    "2": "3",
                                    "3": "IR",
                                    "4": "Dim Update LocalDims",
                                    "5": "dimAcademicInstitution",
                                    "6": "SUDS_Institution_Code",
                                    "7": "NULL",
                                    "8": "39284",
                                    "9": "[{\"Academic_Institution_SK\":39284,\"Institution_Code\":\"110663\",\"Institution_Type_Code\":\"H\",\"Recruiting_Source_Indicator\":\"Y\",\"Institution_Name\":\"North Murray High School\",\"Institution_FICE_Code\":\"110663\",\"EDI_Capable_Indicator\":\"N\",\"Address_Line1\":\"2568 Mount Carmel Church Road\",\"Address_Line2\":null,\"Address_Line3\":null,\"Combined_Street_Address\":\"2568 Mount Carmel Church Road\",\"Address_City\":\"Chatsworth\",\"Address_State_Code\":\"GA\",\"Address_State\":\"Georgia\",\"Address_County_Code\":\"UNK\",\"Address_County\":\"Unknown\",\"Address_Zip\":\"30705\",\"GeoMarket_Code\":null,\"GeoMarket\":null,\"Address_Activity_Date\":\"2020-05-11\",\"Institution_Activity_Date\":\"2020-05-11\",\"SUDS_Institution_Code\":null,\"SUDS_Institution_State\":null,\"BOG_Institution_Code\":null,\"Florida_Public_Inst_Code\":null}]"
                                },
                                {
                                    "0": "78412",
                                    "1": "2020-06-12 10:14:00.653",
                                    "2": "3",
                                    "3": "IR",
                                    "4": "Dim Update LocalDims",
                                    "5": "dimAcademicInstitution",
                                    "6": "SUDS_Institution_Code",
                                    "7": "NULL",
                                    "8": "39285",
                                    "9": "[{\"Academic_Institution_SK\":39285,\"Institution_Code\":\"110986\",\"Institution_Type_Code\":\"H\",\"Recruiting_Source_Indicator\":\"Y\",\"Institution_Name\":\"Coahulla Creek High School\",\"Institution_FICE_Code\":\"110986\",\"EDI_Capable_Indicator\":\"N\",\"Address_Line1\":\"3361 Crow Rd NE\",\"Address_Line2\":null,\"Address_Line3\":null,\"Combined_Street_Address\":\"3361 Crow Rd NE\",\"Address_City\":\"Dalton\",\"Address_State_Code\":\"GA\",\"Address_State\":\"Georgia\",\"Address_County_Code\":\"UNK\",\"Address_County\":\"Unknown\",\"Address_Zip\":\"30721\",\"GeoMarket_Code\":null,\"GeoMarket\":null,\"Address_Activity_Date\":\"2020-05-11\",\"Institution_Activity_Date\":\"2020-05-11\",\"SUDS_Institution_Code\":null,\"SUDS_Institution_State\":null,\"BOG_Institution_Code\":null,\"Florida_Public_Inst_Code\":null}]"
                                },
                                {
                                    "0": "78413",
                                    "1": "2020-06-12 10:14:00.653",
                                    "2": "3",
                                    "3": "IR",
                                    "4": "Dim Update LocalDims",
                                    "5": "dimAcademicInstitution",
                                    "6": "SUDS_Institution_Code",
                                    "7": "NULL",
                                    "8": "39286",
                                    "9": "[{\"Academic_Institution_SK\":39286,\"Institution_Code\":\"111000\",\"Institution_Type_Code\":\"H\",\"Recruiting_Source_Indicator\":\"Y\",\"Institution_Name\":\"Denmark High School\",\"Institution_FICE_Code\":\"111000\",\"EDI_Capable_Indicator\":\"N\",\"Address_Line1\":\"645 Mullinax Rd\",\"Address_Line2\":null,\"Address_Line3\":null,\"Combined_Street_Address\":\"645 Mullinax Rd\",\"Address_City\":\"Alpharetta\",\"Address_State_Code\":\"GA\",\"Address_State\":\"Georgia\",\"Address_County_Code\":\"UNK\",\"Address_County\":\"Unknown\",\"Address_Zip\":\"30004\",\"GeoMarket_Code\":null,\"GeoMarket\":null,\"Address_Activity_Date\":\"2020-05-11\",\"Institution_Activity_Date\":\"2020-05-11\",\"SUDS_Institution_Code\":null,\"SUDS_Institution_State\":null,\"BOG_Institution_Code\":null,\"Florida_Public_Inst_Code\":null}]"
                                },
                                {
                                    "0": "78414",
                                    "1": "2020-06-12 10:14:00.653",
                                    "2": "3",
                                    "3": "IR",
                                    "4": "Dim Update LocalDims",
                                    "5": "dimAcademicInstitution",
                                    "6": "SUDS_Institution_Code",
                                    "7": "NULL",
                                    "8": "39287",
                                    "9": "[{\"Academic_Institution_SK\":39287,\"Institution_Code\":\"111141\",\"Institution_Type_Code\":\"H\",\"Recruiting_Source_Indicator\":\"Y\",\"Institution_Name\":\"Georgia Connections Academy\",\"Institution_FICE_Code\":\"111141\",\"EDI_Capable_Indicator\":\"N\",\"Address_Line1\":\"2763 Meadow Church Rd Suite 208\",\"Address_Line2\":null,\"Address_Line3\":null,\"Combined_Street_Address\":\"2763 Meadow Church Rd Suite 208\",\"Address_City\":\"Duluth\",\"Address_State_Code\":\"GA\",\"Address_State\":\"Georgia\",\"Address_County_Code\":\"UNK\",\"Address_County\":\"Unknown\",\"Address_Zip\":\"30097\",\"GeoMarket_Code\":null,\"GeoMarket\":null,\"Address_Activity_Date\":\"2020-05-11\",\"Institution_Activity_Date\":\"2020-05-11\",\"SUDS_Institution_Code\":null,\"SUDS_Institution_State\":null,\"BOG_Institution_Code\":null,\"Florida_Public_Inst_Code\":null}]"
                                },
                                {
                                    "0": "78967",
                                    "1": "2020-06-12 12:42:57.840",
                                    "2": "3",
                                    "3": "IR",
                                    "4": "Dim Update LocalDims",
                                    "5": "dimAcademicInstitution",
                                    "6": "SUDS_Institution_Code",
                                    "7": "NULL",
                                    "8": "39279",
                                    "9": "[{\"Academic_Institution_SK\":39279,\"Institution_Code\":\"102516\",\"Institution_Type_Code\":\"H\",\"Recruiting_Source_Indicator\":\"Y\",\"Institution_Name\":\"St Petersburg Collegiate HS\",\"Institution_FICE_Code\":\"102516\",\"EDI_Capable_Indicator\":\"N\",\"Address_Line1\":\"6605 5th Ave N, St.\",\"Address_Line2\":null,\"Address_Line3\":null,\"Combined_Street_Address\":\"6605 5th Ave N, St.\",\"Address_City\":\"Petersburg\",\"Address_State_Code\":\"FL\",\"Address_State\":\"Florida\",\"Address_County_Code\":\"UNK\",\"Address_County\":\"Unknown\",\"Address_Zip\":\"33710\",\"GeoMarket_Code\":null,\"GeoMarket\":null,\"Address_Activity_Date\":\"2020-05-11\",\"Institution_Activity_Date\":\"2020-05-11\",\"SUDS_Institution_Code\":null,\"SUDS_Institution_State\":null,\"BOG_Institution_Code\":null,\"Florida_Public_Inst_Code\":null}]"
                                },
                                {
                                    "0": "78968",
                                    "1": "2020-06-12 12:42:57.840",
                                    "2": "3",
                                    "3": "IR",
                                    "4": "Dim Update LocalDims",
                                    "5": "dimAcademicInstitution",
                                    "6": "SUDS_Institution_Code",
                                    "7": "NULL",
                                    "8": "39280",
                                    "9": "[{\"Academic_Institution_SK\":39280,\"Institution_Code\":\"102575\",\"Institution_Type_Code\":\"H\",\"Recruiting_Source_Indicator\":\"Y\",\"Institution_Name\":\"Millennium 6-12 Collegiate Aca\",\"Institution_FICE_Code\":\"102575\",\"EDI_Capable_Indicator\":\"N\",\"Address_Line1\":\"5803 NW 94th Ave\",\"Address_Line2\":null,\"Address_Line3\":null,\"Combined_Street_Address\":\"5803 NW 94th Ave\",\"Address_City\":\"Tamarac\",\"Address_State_Code\":\"FL\",\"Address_State\":\"Florida\",\"Address_County_Code\":\"UNK\",\"Address_County\":\"Unknown\",\"Address_Zip\":\"33321\",\"GeoMarket_Code\":null,\"GeoMarket\":null,\"Address_Activity_Date\":\"2020-05-11\",\"Institution_Activity_Date\":\"2020-05-11\",\"SUDS_Institution_Code\":null,\"SUDS_Institution_State\":null,\"BOG_Institution_Code\":null,\"Florida_Public_Inst_Code\":null}]"
                                },
                                {
                                    "0": "78969",
                                    "1": "2020-06-12 12:42:57.840",
                                    "2": "3",
                                    "3": "IR",
                                    "4": "Dim Update LocalDims",
                                    "5": "dimAcademicInstitution",
                                    "6": "SUDS_Institution_Code",
                                    "7": "NULL",
                                    "8": "39281",
                                    "9": "[{\"Academic_Institution_SK\":39281,\"Institution_Code\":\"110034\",\"Institution_Type_Code\":\"H\",\"Recruiting_Source_Indicator\":\"Y\",\"Institution_Name\":\"Saint Georges Episcopal School\",\"Institution_FICE_Code\":\"110034\",\"EDI_Capable_Indicator\":\"N\",\"Address_Line1\":\"10560 Fort George Rd\",\"Address_Line2\":null,\"Address_Line3\":null,\"Combined_Street_Address\":\"10560 Fort George Rd\",\"Address_City\":\"Jacksonville\",\"Address_State_Code\":\"FL\",\"Address_State\":\"Florida\",\"Address_County_Code\":\"UNK\",\"Address_County\":\"Unknown\",\"Address_Zip\":\"32226\",\"GeoMarket_Code\":null,\"GeoMarket\":null,\"Address_Activity_Date\":\"2020-05-11\",\"Institution_Activity_Date\":\"2020-05-11\",\"SUDS_Institution_Code\":null,\"SUDS_Institution_State\":null,\"BOG_Institution_Code\":null,\"Florida_Public_Inst_Code\":null}]"
                                },
                                {
                                    "0": "78970",
                                    "1": "2020-06-12 12:42:57.840",
                                    "2": "3",
                                    "3": "IR",
                                    "4": "Dim Update LocalDims",
                                    "5": "dimAcademicInstitution",
                                    "6": "SUDS_Institution_Code",
                                    "7": "NULL",
                                    "8": "39282",
                                    "9": "[{\"Academic_Institution_SK\":39282,\"Institution_Code\":\"110088\",\"Institution_Type_Code\":\"H\",\"Recruiting_Source_Indicator\":\"Y\",\"Institution_Name\":\"Alliance Academy for Innov of\",\"Institution_FICE_Code\":\"110088\",\"EDI_Capable_Indicator\":\"N\",\"Address_Line1\":\"1100 Lanier 400 Parkway\",\"Address_Line2\":null,\"Address_Line3\":null,\"Combined_Street_Address\":\"1100 Lanier 400 Parkway\",\"Address_City\":\"Cumming\",\"Address_State_Code\":\"GA\",\"Address_State\":\"Georgia\",\"Address_County_Code\":\"UNK\",\"Address_County\":\"Unknown\",\"Address_Zip\":\"30040\",\"GeoMarket_Code\":null,\"GeoMarket\":null,\"Address_Activity_Date\":\"2020-05-11\",\"Institution_Activity_Date\":\"2020-05-11\",\"SUDS_Institution_Code\":null,\"SUDS_Institution_State\":null,\"BOG_Institution_Code\":null,\"Florida_Public_Inst_Code\":null}]"
                                },
                                {
                                    "0": "78971",
                                    "1": "2020-06-12 12:42:57.840",
                                    "2": "3",
                                    "3": "IR",
                                    "4": "Dim Update LocalDims",
                                    "5": "dimAcademicInstitution",
                                    "6": "SUDS_Institution_Code",
                                    "7": "NULL",
                                    "8": "39283",
                                    "9": "[{\"Academic_Institution_SK\":39283,\"Institution_Code\":\"110270\",\"Institution_Type_Code\":\"H\",\"Recruiting_Source_Indicator\":\"Y\",\"Institution_Name\":\"Cherokee Bluff High School\",\"Institution_FICE_Code\":\"110270\",\"EDI_Capable_Indicator\":\"N\",\"Address_Line1\":\"6603 Spout Springs Rd\",\"Address_Line2\":null,\"Address_Line3\":null,\"Combined_Street_Address\":\"6603 Spout Springs Rd\",\"Address_City\":\"Flowery Branch\",\"Address_State_Code\":\"GA\",\"Address_State\":\"Georgia\",\"Address_County_Code\":\"UNK\",\"Address_County\":\"Unknown\",\"Address_Zip\":\"30542\",\"GeoMarket_Code\":null,\"GeoMarket\":null,\"Address_Activity_Date\":\"2020-05-11\",\"Institution_Activity_Date\":\"2020-05-11\",\"SUDS_Institution_Code\":null,\"SUDS_Institution_State\":null,\"BOG_Institution_Code\":null,\"Florida_Public_Inst_Code\":null}]"
                                },
                                {
                                    "0": "78972",
                                    "1": "2020-06-12 12:42:57.840",
                                    "2": "3",
                                    "3": "IR",
                                    "4": "Dim Update LocalDims",
                                    "5": "dimAcademicInstitution",
                                    "6": "SUDS_Institution_Code",
                                    "7": "NULL",
                                    "8": "39284",
                                    "9": "[{\"Academic_Institution_SK\":39284,\"Institution_Code\":\"110663\",\"Institution_Type_Code\":\"H\",\"Recruiting_Source_Indicator\":\"Y\",\"Institution_Name\":\"North Murray High School\",\"Institution_FICE_Code\":\"110663\",\"EDI_Capable_Indicator\":\"N\",\"Address_Line1\":\"2568 Mount Carmel Church Road\",\"Address_Line2\":null,\"Address_Line3\":null,\"Combined_Street_Address\":\"2568 Mount Carmel Church Road\",\"Address_City\":\"Chatsworth\",\"Address_State_Code\":\"GA\",\"Address_State\":\"Georgia\",\"Address_County_Code\":\"UNK\",\"Address_County\":\"Unknown\",\"Address_Zip\":\"30705\",\"GeoMarket_Code\":null,\"GeoMarket\":null,\"Address_Activity_Date\":\"2020-05-11\",\"Institution_Activity_Date\":\"2020-05-11\",\"SUDS_Institution_Code\":null,\"SUDS_Institution_State\":null,\"BOG_Institution_Code\":null,\"Florida_Public_Inst_Code\":null}]"
                                },
                                {
                                    "0": "78973",
                                    "1": "2020-06-12 12:42:57.840",
                                    "2": "3",
                                    "3": "IR",
                                    "4": "Dim Update LocalDims",
                                    "5": "dimAcademicInstitution",
                                    "6": "SUDS_Institution_Code",
                                    "7": "NULL",
                                    "8": "39285",
                                    "9": "[{\"Academic_Institution_SK\":39285,\"Institution_Code\":\"110986\",\"Institution_Type_Code\":\"H\",\"Recruiting_Source_Indicator\":\"Y\",\"Institution_Name\":\"Coahulla Creek High School\",\"Institution_FICE_Code\":\"110986\",\"EDI_Capable_Indicator\":\"N\",\"Address_Line1\":\"3361 Crow Rd NE\",\"Address_Line2\":null,\"Address_Line3\":null,\"Combined_Street_Address\":\"3361 Crow Rd NE\",\"Address_City\":\"Dalton\",\"Address_State_Code\":\"GA\",\"Address_State\":\"Georgia\",\"Address_County_Code\":\"UNK\",\"Address_County\":\"Unknown\",\"Address_Zip\":\"30721\",\"GeoMarket_Code\":null,\"GeoMarket\":null,\"Address_Activity_Date\":\"2020-05-11\",\"Institution_Activity_Date\":\"2020-05-11\",\"SUDS_Institution_Code\":null,\"SUDS_Institution_State\":null,\"BOG_Institution_Code\":null,\"Florida_Public_Inst_Code\":null}]"
                                },
                                {
                                    "0": "78974",
                                    "1": "2020-06-12 12:42:57.840",
                                    "2": "3",
                                    "3": "IR",
                                    "4": "Dim Update LocalDims",
                                    "5": "dimAcademicInstitution",
                                    "6": "SUDS_Institution_Code",
                                    "7": "NULL",
                                    "8": "39286",
                                    "9": "[{\"Academic_Institution_SK\":39286,\"Institution_Code\":\"111000\",\"Institution_Type_Code\":\"H\",\"Recruiting_Source_Indicator\":\"Y\",\"Institution_Name\":\"Denmark High School\",\"Institution_FICE_Code\":\"111000\",\"EDI_Capable_Indicator\":\"N\",\"Address_Line1\":\"645 Mullinax Rd\",\"Address_Line2\":null,\"Address_Line3\":null,\"Combined_Street_Address\":\"645 Mullinax Rd\",\"Address_City\":\"Alpharetta\",\"Address_State_Code\":\"GA\",\"Address_State\":\"Georgia\",\"Address_County_Code\":\"UNK\",\"Address_County\":\"Unknown\",\"Address_Zip\":\"30004\",\"GeoMarket_Code\":null,\"GeoMarket\":null,\"Address_Activity_Date\":\"2020-05-11\",\"Institution_Activity_Date\":\"2020-05-11\",\"SUDS_Institution_Code\":null,\"SUDS_Institution_State\":null,\"BOG_Institution_Code\":null,\"Florida_Public_Inst_Code\":null}]"
                                },
                                {
                                    "0": "78975",
                                    "1": "2020-06-12 12:42:57.840",
                                    "2": "3",
                                    "3": "IR",
                                    "4": "Dim Update LocalDims",
                                    "5": "dimAcademicInstitution",
                                    "6": "SUDS_Institution_Code",
                                    "7": "NULL",
                                    "8": "39287",
                                    "9": "[{\"Academic_Institution_SK\":39287,\"Institution_Code\":\"111141\",\"Institution_Type_Code\":\"H\",\"Recruiting_Source_Indicator\":\"Y\",\"Institution_Name\":\"Georgia Connections Academy\",\"Institution_FICE_Code\":\"111141\",\"EDI_Capable_Indicator\":\"N\",\"Address_Line1\":\"2763 Meadow Church Rd Suite 208\",\"Address_Line2\":null,\"Address_Line3\":null,\"Combined_Street_Address\":\"2763 Meadow Church Rd Suite 208\",\"Address_City\":\"Duluth\",\"Address_State_Code\":\"GA\",\"Address_State\":\"Georgia\",\"Address_County_Code\":\"UNK\",\"Address_County\":\"Unknown\",\"Address_Zip\":\"30097\",\"GeoMarket_Code\":null,\"GeoMarket\":null,\"Address_Activity_Date\":\"2020-05-11\",\"Institution_Activity_Date\":\"2020-05-11\",\"SUDS_Institution_Code\":null,\"SUDS_Institution_State\":null,\"BOG_Institution_Code\":null,\"Florida_Public_Inst_Code\":null}]"
                                },
                                {
                                    "0": "78415",
                                    "1": "2020-06-12 10:14:00.653",
                                    "2": "3",
                                    "3": "IR",
                                    "4": "Dim Update LocalDims",
                                    "5": "dimAcademicInstitution",
                                    "6": "SUDS_Institution_Code",
                                    "7": "NULL",
                                    "8": "39288",
                                    "9": "[{\"Academic_Institution_SK\":39288,\"Institution_Code\":\"111496\",\"Institution_Type_Code\":\"H\",\"Recruiting_Source_Indicator\":\"Y\",\"Institution_Name\":\"Lake Oconee Academy\",\"Institution_FICE_Code\":\"111496\",\"EDI_Capable_Indicator\":\"N\",\"Address_Line1\":\"1021 Titan Cir\",\"Address_Line2\":null,\"Address_Line3\":null,\"Combined_Street_Address\":\"1021 Titan Cir\",\"Address_City\":\"Greensboro\",\"Address_State_Code\":\"GA\",\"Address_State\":\"Georgia\",\"Address_County_Code\":\"UNK\",\"Address_County\":\"Unknown\",\"Address_Zip\":\"30642\",\"GeoMarket_Code\":null,\"GeoMarket\":null,\"Address_Activity_Date\":\"2020-05-11\",\"Institution_Activity_Date\":\"2020-05-11\",\"SUDS_Institution_Code\":null,\"SUDS_Institution_State\":null,\"BOG_Institution_Code\":null,\"Florida_Public_Inst_Code\":null}]"
                                },
                                {
                                    "0": "78416",
                                    "1": "2020-06-12 10:14:00.653",
                                    "2": "3",
                                    "3": "IR",
                                    "4": "Dim Update LocalDims",
                                    "5": "dimAcademicInstitution",
                                    "6": "SUDS_Institution_Code",
                                    "7": "NULL",
                                    "8": "39289",
                                    "9": "[{\"Academic_Institution_SK\":39289,\"Institution_Code\":\"111528\",\"Institution_Type_Code\":\"H\",\"Recruiting_Source_Indicator\":\"Y\",\"Institution_Name\":\"Grovetown High School\",\"Institution_FICE_Code\":\"111528\",\"EDI_Capable_Indicator\":\"N\",\"Address_Line1\":\"2010 Warrior Way\",\"Address_Line2\":null,\"Address_Line3\":null,\"Combined_Street_Address\":\"2010 Warrior Way\",\"Address_City\":\"Grovetown\",\"Address_State_Code\":\"GA\",\"Address_State\":\"Georgia\",\"Address_County_Code\":\"UNK\",\"Address_County\":\"Unknown\",\"Address_Zip\":\"30813\",\"GeoMarket_Code\":null,\"GeoMarket\":null,\"Address_Activity_Date\":\"2020-05-11\",\"Institution_Activity_Date\":\"2020-05-11\",\"SUDS_Institution_Code\":null,\"SUDS_Institution_State\":null,\"BOG_Institution_Code\":null,\"Florida_Public_Inst_Code\":null}]"
                                },
                                {
                                    "0": "78417",
                                    "1": "2020-06-12 10:14:00.653",
                                    "2": "3",
                                    "3": "IR",
                                    "4": "Dim Update LocalDims",
                                    "5": "dimAcademicInstitution",
                                    "6": "SUDS_Institution_Code",
                                    "7": "NULL",
                                    "8": "39290",
                                    "9": "[{\"Academic_Institution_SK\":39290,\"Institution_Code\":\"111722\",\"Institution_Type_Code\":\"H\",\"Recruiting_Source_Indicator\":\"Y\",\"Institution_Name\":\"Elite Scholars Academy\",\"Institution_FICE_Code\":\"111722\",\"EDI_Capable_Indicator\":\"N\",\"Address_Line1\":\"7923 Fielder Rd\",\"Address_Line2\":null,\"Address_Line3\":null,\"Combined_Street_Address\":\"7923 Fielder Rd\",\"Address_City\":\"Jonesboro\",\"Address_State_Code\":\"GA\",\"Address_State\":\"Georgia\",\"Address_County_Code\":\"UNK\",\"Address_County\":\"Unknown\",\"Address_Zip\":\"30236\",\"GeoMarket_Code\":null,\"GeoMarket\":null,\"Address_Activity_Date\":\"2020-05-11\",\"Institution_Activity_Date\":\"2020-05-11\",\"SUDS_Institution_Code\":null,\"SUDS_Institution_State\":null,\"BOG_Institution_Code\":null,\"Florida_Public_Inst_Code\":null}]"
                                },
                                {
                                    "0": "78418",
                                    "1": "2020-06-12 10:14:00.653",
                                    "2": "3",
                                    "3": "IR",
                                    "4": "Dim Update LocalDims",
                                    "5": "dimAcademicInstitution",
                                    "6": "SUDS_Institution_Code",
                                    "7": "NULL",
                                    "8": "39291",
                                    "9": "[{\"Academic_Institution_SK\":39291,\"Institution_Code\":\"111743\",\"Institution_Type_Code\":\"H\",\"Recruiting_Source_Indicator\":\"Y\",\"Institution_Name\":\"Martha Ellen Stilwell Sch of A\",\"Institution_FICE_Code\":\"111743\",\"EDI_Capable_Indicator\":\"N\",\"Address_Line1\":\"2580 Mt Zion Pkwy\",\"Address_Line2\":null,\"Address_Line3\":null,\"Combined_Street_Address\":\"2580 Mt Zion Pkwy\",\"Address_City\":\"Jonesboro\",\"Address_State_Code\":\"GA\",\"Address_State\":\"Georgia\",\"Address_County_Code\":\"UNK\",\"Address_County\":\"Unknown\",\"Address_Zip\":\"30236\",\"GeoMarket_Code\":null,\"GeoMarket\":null,\"Address_Activity_Date\":\"2020-05-11\",\"Institution_Activity_Date\":\"2020-05-11\",\"SUDS_Institution_Code\":null,\"SUDS_Institution_State\":null,\"BOG_Institution_Code\":null,\"Florida_Public_Inst_Code\":null}]"
                                },
                                {
                                    "0": "78419",
                                    "1": "2020-06-12 10:14:00.653",
                                    "2": "3",
                                    "3": "IR",
                                    "4": "Dim Update LocalDims",
                                    "5": "dimAcademicInstitution",
                                    "6": "SUDS_Institution_Code",
                                    "7": "NULL",
                                    "8": "39292",
                                    "9": "[{\"Academic_Institution_SK\":39292,\"Institution_Code\":\"111869\",\"Institution_Type_Code\":\"H\",\"Recruiting_Source_Indicator\":\"Y\",\"Institution_Name\":\"Locust Grove High School\",\"Institution_FICE_Code\":\"111869\",\"EDI_Capable_Indicator\":\"N\",\"Address_Line1\":\"3275 S Ola Rd\",\"Address_Line2\":null,\"Address_Line3\":null,\"Combined_Street_Address\":\"3275 S Ola Rd\",\"Address_City\":\"Locust Grove\",\"Address_State_Code\":\"GA\",\"Address_State\":\"Georgia\",\"Address_County_Code\":\"UNK\",\"Address_County\":\"Unknown\",\"Address_Zip\":\"30248\",\"GeoMarket_Code\":null,\"GeoMarket\":null,\"Address_Activity_Date\":\"2020-05-11\",\"Institution_Activity_Date\":\"2020-05-11\",\"SUDS_Institution_Code\":null,\"SUDS_Institution_State\":null,\"BOG_Institution_Code\":null,\"Florida_Public_Inst_Code\":null}]"
                                },
                                {
                                    "0": "78420",
                                    "1": "2020-06-12 10:14:00.653",
                                    "2": "3",
                                    "3": "IR",
                                    "4": "Dim Update LocalDims",
                                    "5": "dimAcademicInstitution",
                                    "6": "SUDS_Institution_Code",
                                    "7": "NULL",
                                    "8": "39293",
                                    "9": "[{\"Academic_Institution_SK\":39293,\"Institution_Code\":\"112016\",\"Institution_Type_Code\":\"H\",\"Recruiting_Source_Indicator\":\"Y\",\"Institution_Name\":\"Academy for Classical Educatio\",\"Institution_FICE_Code\":\"112016\",\"EDI_Capable_Indicator\":\"N\",\"Address_Line1\":\"5665 New Forsyth Rd\",\"Address_Line2\":null,\"Address_Line3\":null,\"Combined_Street_Address\":\"5665 New Forsyth Rd\",\"Address_City\":\"Macon\",\"Address_State_Code\":\"GA\",\"Address_State\":\"Georgia\",\"Address_County_Code\":\"UNK\",\"Address_County\":\"Unknown\",\"Address_Zip\":\"31210\",\"GeoMarket_Code\":null,\"GeoMarket\":null,\"Address_Activity_Date\":\"2020-05-11\",\"Institution_Activity_Date\":\"2020-05-11\",\"SUDS_Institution_Code\":null,\"SUDS_Institution_State\":null,\"BOG_Institution_Code\":null,\"Florida_Public_Inst_Code\":null}]"
                                },
                                {
                                    "0": "78421",
                                    "1": "2020-06-12 10:14:00.653",
                                    "2": "3",
                                    "3": "IR",
                                    "4": "Dim Update LocalDims",
                                    "5": "dimAcademicInstitution",
                                    "6": "SUDS_Institution_Code",
                                    "7": "NULL",
                                    "8": "24855",
                                    "9": "[{\"Academic_Institution_SK\":24855,\"Institution_Code\":\"3442\",\"Institution_Type_Code\":\"C\",\"Recruiting_Source_Indicator\":\"Y\",\"Institution_Name\":\"Harvard University\",\"Institution_FICE_Code\":\"002155\",\"EDI_Capable_Indicator\":\"N\",\"Address_Line1\":\"1350 Mass Ave Rm 458\",\"Address_Line2\":null,\"Address_Line3\":null,\"Combined_Street_Address\":\"1350 Mass Ave Rm 458  \",\"Address_City\":\"Cambridge\",\"Address_State_Code\":\"MA\",\"Address_State\":\"Massachusetts\",\"Address_County_Code\":\"UNK\",\"Address_County\":\"Unknown\",\"Address_Zip\":\"02138\",\"GeoMarket_Code\":null,\"GeoMarket\":null,\"Address_Activity_Date\":\"2004-10-20\",\"Institution_Activity_Date\":\"2004-10-20\",\"SUDS_Institution_Code\":null,\"SUDS_Institution_State\":null,\"BOG_Institution_Code\":null,\"Florida_Public_Inst_Code\":null}]"
                                },
                                {
                                    "0": "78422",
                                    "1": "2020-06-12 10:14:00.653",
                                    "2": "3",
                                    "3": "IR",
                                    "4": "Dim Update LocalDims",
                                    "5": "dimAcademicInstitution",
                                    "6": "SUDS_Institution_Code",
                                    "7": "NULL",
                                    "8": "0",
                                    "9": "[{\"Academic_Institution_SK\":0,\"Institution_Code\":\"000000\",\"Institution_Type_Code\":\"X\",\"Recruiting_Source_Indicator\":\"X\",\"Institution_Name\":\"Unknown HS\",\"Institution_FICE_Code\":\"000000\",\"EDI_Capable_Indicator\":\"X\",\"Address_Line1\":\"Unknown\",\"Address_Line2\":null,\"Address_Line3\":null,\"Combined_Street_Address\":\"Unknown\",\"Address_City\":\"Unknown\",\"Address_State_Code\":\"UNK\",\"Address_State\":\"Unknown\",\"Address_County_Code\":\"UNK\",\"Address_County\":\"Unknown\",\"Address_Zip\":\"XXXXX\",\"GeoMarket_Code\":null,\"GeoMarket\":null,\"Address_Activity_Date\":\"1900-01-01\",\"Institution_Activity_Date\":\"1900-01-01\",\"SUDS_Institution_Code\":null,\"SUDS_Institution_State\":null,\"BOG_Institution_Code\":null,\"Florida_Public_Inst_Code\":null}]"
                                },
                                {
                                    "0": "78423",
                                    "1": "2020-06-12 10:14:00.653",
                                    "2": "3",
                                    "3": "IR",
                                    "4": "Dim Update LocalDims",
                                    "5": "dimAcademicInstitution",
                                    "6": "SUDS_Institution_Code",
                                    "7": "NULL",
                                    "8": "38245",
                                    "9": "[{\"Academic_Institution_SK\":38245,\"Institution_Code\":\"EXCLSR\",\"Institution_Type_Code\":\"C\",\"Recruiting_Source_Indicator\":\"Y\",\"Institution_Name\":\"Excelsior Coll\\/UEXCEL\",\"Institution_FICE_Code\":null,\"EDI_Capable_Indicator\":\"N\",\"Address_Line1\":\"7 Columbia Circle\",\"Address_Line2\":null,\"Address_Line3\":null,\"Combined_Street_Address\":\"7 Columbia Circle  \",\"Address_City\":\"Albany\",\"Address_State_Code\":\"NY\",\"Address_State\":\"New York\",\"Address_County_Code\":\"UNK\",\"Address_County\":\"Unknown\",\"Address_Zip\":\"12203-5159\",\"GeoMarket_Code\":\"US-NE\",\"GeoMarket\":\"US: Northeast\",\"Address_Activity_Date\":\"2013-09-03\",\"Institution_Activity_Date\":\"2013-09-03\",\"SUDS_Institution_Code\":null,\"SUDS_Institution_State\":null,\"BOG_Institution_Code\":null,\"Florida_Public_Inst_Code\":null}]"
                                },
                                {
                                    "0": "78976",
                                    "1": "2020-06-12 12:42:57.840",
                                    "2": "3",
                                    "3": "IR",
                                    "4": "Dim Update LocalDims",
                                    "5": "dimAcademicInstitution",
                                    "6": "SUDS_Institution_Code",
                                    "7": "NULL",
                                    "8": "39288",
                                    "9": "[{\"Academic_Institution_SK\":39288,\"Institution_Code\":\"111496\",\"Institution_Type_Code\":\"H\",\"Recruiting_Source_Indicator\":\"Y\",\"Institution_Name\":\"Lake Oconee Academy\",\"Institution_FICE_Code\":\"111496\",\"EDI_Capable_Indicator\":\"N\",\"Address_Line1\":\"1021 Titan Cir\",\"Address_Line2\":null,\"Address_Line3\":null,\"Combined_Street_Address\":\"1021 Titan Cir\",\"Address_City\":\"Greensboro\",\"Address_State_Code\":\"GA\",\"Address_State\":\"Georgia\",\"Address_County_Code\":\"UNK\",\"Address_County\":\"Unknown\",\"Address_Zip\":\"30642\",\"GeoMarket_Code\":null,\"GeoMarket\":null,\"Address_Activity_Date\":\"2020-05-11\",\"Institution_Activity_Date\":\"2020-05-11\",\"SUDS_Institution_Code\":null,\"SUDS_Institution_State\":null,\"BOG_Institution_Code\":null,\"Florida_Public_Inst_Code\":null}]"
                                },
                                {
                                    "0": "78977",
                                    "1": "2020-06-12 12:42:57.840",
                                    "2": "3",
                                    "3": "IR",
                                    "4": "Dim Update LocalDims",
                                    "5": "dimAcademicInstitution",
                                    "6": "SUDS_Institution_Code",
                                    "7": "NULL",
                                    "8": "39289",
                                    "9": "[{\"Academic_Institution_SK\":39289,\"Institution_Code\":\"111528\",\"Institution_Type_Code\":\"H\",\"Recruiting_Source_Indicator\":\"Y\",\"Institution_Name\":\"Grovetown High School\",\"Institution_FICE_Code\":\"111528\",\"EDI_Capable_Indicator\":\"N\",\"Address_Line1\":\"2010 Warrior Way\",\"Address_Line2\":null,\"Address_Line3\":null,\"Combined_Street_Address\":\"2010 Warrior Way\",\"Address_City\":\"Grovetown\",\"Address_State_Code\":\"GA\",\"Address_State\":\"Georgia\",\"Address_County_Code\":\"UNK\",\"Address_County\":\"Unknown\",\"Address_Zip\":\"30813\",\"GeoMarket_Code\":null,\"GeoMarket\":null,\"Address_Activity_Date\":\"2020-05-11\",\"Institution_Activity_Date\":\"2020-05-11\",\"SUDS_Institution_Code\":null,\"SUDS_Institution_State\":null,\"BOG_Institution_Code\":null,\"Florida_Public_Inst_Code\":null}]"
                                },
                                {
                                    "0": "78978",
                                    "1": "2020-06-12 12:42:57.840",
                                    "2": "3",
                                    "3": "IR",
                                    "4": "Dim Update LocalDims",
                                    "5": "dimAcademicInstitution",
                                    "6": "SUDS_Institution_Code",
                                    "7": "NULL",
                                    "8": "39290",
                                    "9": "[{\"Academic_Institution_SK\":39290,\"Institution_Code\":\"111722\",\"Institution_Type_Code\":\"H\",\"Recruiting_Source_Indicator\":\"Y\",\"Institution_Name\":\"Elite Scholars Academy\",\"Institution_FICE_Code\":\"111722\",\"EDI_Capable_Indicator\":\"N\",\"Address_Line1\":\"7923 Fielder Rd\",\"Address_Line2\":null,\"Address_Line3\":null,\"Combined_Street_Address\":\"7923 Fielder Rd\",\"Address_City\":\"Jonesboro\",\"Address_State_Code\":\"GA\",\"Address_State\":\"Georgia\",\"Address_County_Code\":\"UNK\",\"Address_County\":\"Unknown\",\"Address_Zip\":\"30236\",\"GeoMarket_Code\":null,\"GeoMarket\":null,\"Address_Activity_Date\":\"2020-05-11\",\"Institution_Activity_Date\":\"2020-05-11\",\"SUDS_Institution_Code\":null,\"SUDS_Institution_State\":null,\"BOG_Institution_Code\":null,\"Florida_Public_Inst_Code\":null}]"
                                },
                                {
                                    "0": "78979",
                                    "1": "2020-06-12 12:42:57.840",
                                    "2": "3",
                                    "3": "IR",
                                    "4": "Dim Update LocalDims",
                                    "5": "dimAcademicInstitution",
                                    "6": "SUDS_Institution_Code",
                                    "7": "NULL",
                                    "8": "39291",
                                    "9": "[{\"Academic_Institution_SK\":39291,\"Institution_Code\":\"111743\",\"Institution_Type_Code\":\"H\",\"Recruiting_Source_Indicator\":\"Y\",\"Institution_Name\":\"Martha Ellen Stilwell Sch of A\",\"Institution_FICE_Code\":\"111743\",\"EDI_Capable_Indicator\":\"N\",\"Address_Line1\":\"2580 Mt Zion Pkwy\",\"Address_Line2\":null,\"Address_Line3\":null,\"Combined_Street_Address\":\"2580 Mt Zion Pkwy\",\"Address_City\":\"Jonesboro\",\"Address_State_Code\":\"GA\",\"Address_State\":\"Georgia\",\"Address_County_Code\":\"UNK\",\"Address_County\":\"Unknown\",\"Address_Zip\":\"30236\",\"GeoMarket_Code\":null,\"GeoMarket\":null,\"Address_Activity_Date\":\"2020-05-11\",\"Institution_Activity_Date\":\"2020-05-11\",\"SUDS_Institution_Code\":null,\"SUDS_Institution_State\":null,\"BOG_Institution_Code\":null,\"Florida_Public_Inst_Code\":null}]"
                                },
                                {
                                    "0": "78980",
                                    "1": "2020-06-12 12:42:57.840",
                                    "2": "3",
                                    "3": "IR",
                                    "4": "Dim Update LocalDims",
                                    "5": "dimAcademicInstitution",
                                    "6": "SUDS_Institution_Code",
                                    "7": "NULL",
                                    "8": "39292",
                                    "9": "[{\"Academic_Institution_SK\":39292,\"Institution_Code\":\"111869\",\"Institution_Type_Code\":\"H\",\"Recruiting_Source_Indicator\":\"Y\",\"Institution_Name\":\"Locust Grove High School\",\"Institution_FICE_Code\":\"111869\",\"EDI_Capable_Indicator\":\"N\",\"Address_Line1\":\"3275 S Ola Rd\",\"Address_Line2\":null,\"Address_Line3\":null,\"Combined_Street_Address\":\"3275 S Ola Rd\",\"Address_City\":\"Locust Grove\",\"Address_State_Code\":\"GA\",\"Address_State\":\"Georgia\",\"Address_County_Code\":\"UNK\",\"Address_County\":\"Unknown\",\"Address_Zip\":\"30248\",\"GeoMarket_Code\":null,\"GeoMarket\":null,\"Address_Activity_Date\":\"2020-05-11\",\"Institution_Activity_Date\":\"2020-05-11\",\"SUDS_Institution_Code\":null,\"SUDS_Institution_State\":null,\"BOG_Institution_Code\":null,\"Florida_Public_Inst_Code\":null}]"
                                },
                                {
                                    "0": "78981",
                                    "1": "2020-06-12 12:42:57.840",
                                    "2": "3",
                                    "3": "IR",
                                    "4": "Dim Update LocalDims",
                                    "5": "dimAcademicInstitution",
                                    "6": "SUDS_Institution_Code",
                                    "7": "NULL",
                                    "8": "39293",
                                    "9": "[{\"Academic_Institution_SK\":39293,\"Institution_Code\":\"112016\",\"Institution_Type_Code\":\"H\",\"Recruiting_Source_Indicator\":\"Y\",\"Institution_Name\":\"Academy for Classical Educatio\",\"Institution_FICE_Code\":\"112016\",\"EDI_Capable_Indicator\":\"N\",\"Address_Line1\":\"5665 New Forsyth Rd\",\"Address_Line2\":null,\"Address_Line3\":null,\"Combined_Street_Address\":\"5665 New Forsyth Rd\",\"Address_City\":\"Macon\",\"Address_State_Code\":\"GA\",\"Address_State\":\"Georgia\",\"Address_County_Code\":\"UNK\",\"Address_County\":\"Unknown\",\"Address_Zip\":\"31210\",\"GeoMarket_Code\":null,\"GeoMarket\":null,\"Address_Activity_Date\":\"2020-05-11\",\"Institution_Activity_Date\":\"2020-05-11\",\"SUDS_Institution_Code\":null,\"SUDS_Institution_State\":null,\"BOG_Institution_Code\":null,\"Florida_Public_Inst_Code\":null}]"
                                },
                                {
                                    "0": "78982",
                                    "1": "2020-06-12 12:42:57.840",
                                    "2": "3",
                                    "3": "IR",
                                    "4": "Dim Update LocalDims",
                                    "5": "dimAcademicInstitution",
                                    "6": "SUDS_Institution_Code",
                                    "7": "NULL",
                                    "8": "24855",
                                    "9": "[{\"Academic_Institution_SK\":24855,\"Institution_Code\":\"3442\",\"Institution_Type_Code\":\"C\",\"Recruiting_Source_Indicator\":\"Y\",\"Institution_Name\":\"Harvard University\",\"Institution_FICE_Code\":\"002155\",\"EDI_Capable_Indicator\":\"N\",\"Address_Line1\":\"1350 Mass Ave Rm 458\",\"Address_Line2\":null,\"Address_Line3\":null,\"Combined_Street_Address\":\"1350 Mass Ave Rm 458  \",\"Address_City\":\"Cambridge\",\"Address_State_Code\":\"MA\",\"Address_State\":\"Massachusetts\",\"Address_County_Code\":\"UNK\",\"Address_County\":\"Unknown\",\"Address_Zip\":\"02138\",\"GeoMarket_Code\":null,\"GeoMarket\":null,\"Address_Activity_Date\":\"2004-10-20\",\"Institution_Activity_Date\":\"2004-10-20\",\"SUDS_Institution_Code\":null,\"SUDS_Institution_State\":null,\"BOG_Institution_Code\":null,\"Florida_Public_Inst_Code\":null}]"
                                },
                                {
                                    "0": "78983",
                                    "1": "2020-06-12 12:42:57.840",
                                    "2": "3",
                                    "3": "IR",
                                    "4": "Dim Update LocalDims",
                                    "5": "dimAcademicInstitution",
                                    "6": "SUDS_Institution_Code",
                                    "7": "NULL",
                                    "8": "0",
                                    "9": "[{\"Academic_Institution_SK\":0,\"Institution_Code\":\"000000\",\"Institution_Type_Code\":\"X\",\"Recruiting_Source_Indicator\":\"X\",\"Institution_Name\":\"Unknown HS\",\"Institution_FICE_Code\":\"000000\",\"EDI_Capable_Indicator\":\"X\",\"Address_Line1\":\"Unknown\",\"Address_Line2\":null,\"Address_Line3\":null,\"Combined_Street_Address\":\"Unknown\",\"Address_City\":\"Unknown\",\"Address_State_Code\":\"UNK\",\"Address_State\":\"Unknown\",\"Address_County_Code\":\"UNK\",\"Address_County\":\"Unknown\",\"Address_Zip\":\"XXXXX\",\"GeoMarket_Code\":null,\"GeoMarket\":null,\"Address_Activity_Date\":\"1900-01-01\",\"Institution_Activity_Date\":\"1900-01-01\",\"SUDS_Institution_Code\":null,\"SUDS_Institution_State\":null,\"BOG_Institution_Code\":null,\"Florida_Public_Inst_Code\":null}]"
                                },
                                {
                                    "0": "78984",
                                    "1": "2020-06-12 12:42:57.840",
                                    "2": "3",
                                    "3": "IR",
                                    "4": "Dim Update LocalDims",
                                    "5": "dimAcademicInstitution",
                                    "6": "SUDS_Institution_Code",
                                    "7": "NULL",
                                    "8": "38245",
                                    "9": "[{\"Academic_Institution_SK\":38245,\"Institution_Code\":\"EXCLSR\",\"Institution_Type_Code\":\"C\",\"Recruiting_Source_Indicator\":\"Y\",\"Institution_Name\":\"Excelsior Coll\\/UEXCEL\",\"Institution_FICE_Code\":null,\"EDI_Capable_Indicator\":\"N\",\"Address_Line1\":\"7 Columbia Circle\",\"Address_Line2\":null,\"Address_Line3\":null,\"Combined_Street_Address\":\"7 Columbia Circle  \",\"Address_City\":\"Albany\",\"Address_State_Code\":\"NY\",\"Address_State\":\"New York\",\"Address_County_Code\":\"UNK\",\"Address_County\":\"Unknown\",\"Address_Zip\":\"12203-5159\",\"GeoMarket_Code\":\"US-NE\",\"GeoMarket\":\"US: Northeast\",\"Address_Activity_Date\":\"2013-09-03\",\"Institution_Activity_Date\":\"2013-09-03\",\"SUDS_Institution_Code\":null,\"SUDS_Institution_State\":null,\"BOG_Institution_Code\":null,\"Florida_Public_Inst_Code\":null}]"
                                },
                                {
                                    "0": "78985",
                                    "1": "2020-06-12 12:42:57.840",
                                    "2": "3",
                                    "3": "IR",
                                    "4": "Dim Update LocalDims",
                                    "5": "dimAcademicInstitution",
                                    "6": "SUDS_Institution_Code",
                                    "7": "NULL",
                                    "8": "38351",
                                    "9": "[{\"Academic_Institution_SK\":38351,\"Institution_Code\":\"Z088\",\"Institution_Type_Code\":\"C\",\"Recruiting_Source_Indicator\":\"N\",\"Institution_Name\":\"Albany Medical College\",\"Institution_FICE_Code\":null,\"EDI_Capable_Indicator\":\"N\",\"Address_Line1\":\"47 NEW SCOTLAND AVE\",\"Address_Line2\":null,\"Address_Line3\":null,\"Combined_Street_Address\":\"47 NEW SCOTLAND AVE  \",\"Address_City\":\"Albany\",\"Address_State_Code\":\"NY\",\"Address_State\":\"New York\",\"Address_County_Code\":\"UNK\",\"Address_County\":\"Unknown\",\"Address_Zip\":\"12208\",\"GeoMarket_Code\":\"US-NE\",\"GeoMarket\":\"US: Northeast\",\"Address_Activity_Date\":\"2010-03-11\",\"Institution_Activity_Date\":\"2010-03-11\",\"SUDS_Institution_Code\":null,\"SUDS_Institution_State\":null,\"BOG_Institution_Code\":null,\"Florida_Public_Inst_Code\":null}]"
                                },
                                {
                                    "0": "78986",
                                    "1": "2020-06-12 12:42:57.840",
                                    "2": "3",
                                    "3": "IR",
                                    "4": "Dim Update LocalDims",
                                    "5": "dimAcademicInstitution",
                                    "6": "SUDS_Institution_Code",
                                    "7": "NULL",
                                    "8": "39294",
                                    "9": "[{\"Academic_Institution_SK\":39294,\"Institution_Code\":\"113093\",\"Institution_Type_Code\":\"H\",\"Recruiting_Source_Indicator\":\"Y\",\"Institution_Name\":\"Valdosta Early College Academy\",\"Institution_FICE_Code\":\"113093\",\"EDI_Capable_Indicator\":\"N\",\"Address_Line1\":\"1605 Azalea Dr #2471\",\"Address_Line2\":null,\"Address_Line3\":null,\"Combined_Street_Address\":\"1605 Azalea Dr #2471\",\"Address_City\":\"Valdosta\",\"Address_State_Code\":\"GA\",\"Address_State\":\"Georgia\",\"Address_County_Code\":\"UNK\",\"Address_County\":\"Unknown\",\"Address_Zip\":\"31602\",\"GeoMarket_Code\":null,\"GeoMarket\":null,\"Address_Activity_Date\":\"2020-05-11\",\"Institution_Activity_Date\":\"2020-05-11\",\"SUDS_Institution_Code\":null,\"SUDS_Institution_State\":null,\"BOG_Institution_Code\":null,\"Florida_Public_Inst_Code\":null}]"
                                },
                                {
                                    "0": "78424",
                                    "1": "2020-06-12 10:14:00.653",
                                    "2": "3",
                                    "3": "IR",
                                    "4": "Dim Update LocalDims",
                                    "5": "dimAcademicInstitution",
                                    "6": "SUDS_Institution_Code",
                                    "7": "NULL",
                                    "8": "38351",
                                    "9": "[{\"Academic_Institution_SK\":38351,\"Institution_Code\":\"Z088\",\"Institution_Type_Code\":\"C\",\"Recruiting_Source_Indicator\":\"N\",\"Institution_Name\":\"Albany Medical College\",\"Institution_FICE_Code\":null,\"EDI_Capable_Indicator\":\"N\",\"Address_Line1\":\"47 NEW SCOTLAND AVE\",\"Address_Line2\":null,\"Address_Line3\":null,\"Combined_Street_Address\":\"47 NEW SCOTLAND AVE  \",\"Address_City\":\"Albany\",\"Address_State_Code\":\"NY\",\"Address_State\":\"New York\",\"Address_County_Code\":\"UNK\",\"Address_County\":\"Unknown\",\"Address_Zip\":\"12208\",\"GeoMarket_Code\":\"US-NE\",\"GeoMarket\":\"US: Northeast\",\"Address_Activity_Date\":\"2010-03-11\",\"Institution_Activity_Date\":\"2010-03-11\",\"SUDS_Institution_Code\":null,\"SUDS_Institution_State\":null,\"BOG_Institution_Code\":null,\"Florida_Public_Inst_Code\":null}]"
                                },
                                {
                                    "0": "78425",
                                    "1": "2020-06-12 10:14:00.653",
                                    "2": "3",
                                    "3": "IR",
                                    "4": "Dim Update LocalDims",
                                    "5": "dimAcademicInstitution",
                                    "6": "SUDS_Institution_Code",
                                    "7": "NULL",
                                    "8": "39294",
                                    "9": "[{\"Academic_Institution_SK\":39294,\"Institution_Code\":\"113093\",\"Institution_Type_Code\":\"H\",\"Recruiting_Source_Indicator\":\"Y\",\"Institution_Name\":\"Valdosta Early College Academy\",\"Institution_FICE_Code\":\"113093\",\"EDI_Capable_Indicator\":\"N\",\"Address_Line1\":\"1605 Azalea Dr #2471\",\"Address_Line2\":null,\"Address_Line3\":null,\"Combined_Street_Address\":\"1605 Azalea Dr #2471\",\"Address_City\":\"Valdosta\",\"Address_State_Code\":\"GA\",\"Address_State\":\"Georgia\",\"Address_County_Code\":\"UNK\",\"Address_County\":\"Unknown\",\"Address_Zip\":\"31602\",\"GeoMarket_Code\":null,\"GeoMarket\":null,\"Address_Activity_Date\":\"2020-05-11\",\"Institution_Activity_Date\":\"2020-05-11\",\"SUDS_Institution_Code\":null,\"SUDS_Institution_State\":null,\"BOG_Institution_Code\":null,\"Florida_Public_Inst_Code\":null}]"
                                },
                                {
                                    "0": "78684",
                                    "1": "2020-06-12 10:16:44.983",
                                    "2": "3",
                                    "3": "IR",
                                    "4": "Dim Update LocalDims",
                                    "5": "dimAcademicInstitution",
                                    "6": "SUDS_Institution_Code",
                                    "7": "NULL",
                                    "8": "39279",
                                    "9": "[{\"Academic_Institution_SK\":39279,\"Institution_Code\":\"102516\",\"Institution_Type_Code\":\"H\",\"Recruiting_Source_Indicator\":\"Y\",\"Institution_Name\":\"St Petersburg Collegiate HS\",\"Institution_FICE_Code\":\"102516\",\"EDI_Capable_Indicator\":\"N\",\"Address_Line1\":\"6605 5th Ave N, St.\",\"Address_Line2\":null,\"Address_Line3\":null,\"Combined_Street_Address\":\"6605 5th Ave N, St.\",\"Address_City\":\"Petersburg\",\"Address_State_Code\":\"FL\",\"Address_State\":\"Florida\",\"Address_County_Code\":\"UNK\",\"Address_County\":\"Unknown\",\"Address_Zip\":\"33710\",\"GeoMarket_Code\":null,\"GeoMarket\":null,\"Address_Activity_Date\":\"2020-05-11\",\"Institution_Activity_Date\":\"2020-05-11\",\"SUDS_Institution_Code\":null,\"SUDS_Institution_State\":null,\"BOG_Institution_Code\":null,\"Florida_Public_Inst_Code\":null}]"
                                },
                                {
                                    "0": "78685",
                                    "1": "2020-06-12 10:16:44.983",
                                    "2": "3",
                                    "3": "IR",
                                    "4": "Dim Update LocalDims",
                                    "5": "dimAcademicInstitution",
                                    "6": "SUDS_Institution_Code",
                                    "7": "NULL",
                                    "8": "39280",
                                    "9": "[{\"Academic_Institution_SK\":39280,\"Institution_Code\":\"102575\",\"Institution_Type_Code\":\"H\",\"Recruiting_Source_Indicator\":\"Y\",\"Institution_Name\":\"Millennium 6-12 Collegiate Aca\",\"Institution_FICE_Code\":\"102575\",\"EDI_Capable_Indicator\":\"N\",\"Address_Line1\":\"5803 NW 94th Ave\",\"Address_Line2\":null,\"Address_Line3\":null,\"Combined_Street_Address\":\"5803 NW 94th Ave\",\"Address_City\":\"Tamarac\",\"Address_State_Code\":\"FL\",\"Address_State\":\"Florida\",\"Address_County_Code\":\"UNK\",\"Address_County\":\"Unknown\",\"Address_Zip\":\"33321\",\"GeoMarket_Code\":null,\"GeoMarket\":null,\"Address_Activity_Date\":\"2020-05-11\",\"Institution_Activity_Date\":\"2020-05-11\",\"SUDS_Institution_Code\":null,\"SUDS_Institution_State\":null,\"BOG_Institution_Code\":null,\"Florida_Public_Inst_Code\":null}]"
                                },
                                {
                                    "0": "78686",
                                    "1": "2020-06-12 10:16:44.983",
                                    "2": "3",
                                    "3": "IR",
                                    "4": "Dim Update LocalDims",
                                    "5": "dimAcademicInstitution",
                                    "6": "SUDS_Institution_Code",
                                    "7": "NULL",
                                    "8": "39281",
                                    "9": "[{\"Academic_Institution_SK\":39281,\"Institution_Code\":\"110034\",\"Institution_Type_Code\":\"H\",\"Recruiting_Source_Indicator\":\"Y\",\"Institution_Name\":\"Saint Georges Episcopal School\",\"Institution_FICE_Code\":\"110034\",\"EDI_Capable_Indicator\":\"N\",\"Address_Line1\":\"10560 Fort George Rd\",\"Address_Line2\":null,\"Address_Line3\":null,\"Combined_Street_Address\":\"10560 Fort George Rd\",\"Address_City\":\"Jacksonville\",\"Address_State_Code\":\"FL\",\"Address_State\":\"Florida\",\"Address_County_Code\":\"UNK\",\"Address_County\":\"Unknown\",\"Address_Zip\":\"32226\",\"GeoMarket_Code\":null,\"GeoMarket\":null,\"Address_Activity_Date\":\"2020-05-11\",\"Institution_Activity_Date\":\"2020-05-11\",\"SUDS_Institution_Code\":null,\"SUDS_Institution_State\":null,\"BOG_Institution_Code\":null,\"Florida_Public_Inst_Code\":null}]"
                                },
                                {
                                    "0": "78687",
                                    "1": "2020-06-12 10:16:44.983",
                                    "2": "3",
                                    "3": "IR",
                                    "4": "Dim Update LocalDims",
                                    "5": "dimAcademicInstitution",
                                    "6": "SUDS_Institution_Code",
                                    "7": "NULL",
                                    "8": "39282",
                                    "9": "[{\"Academic_Institution_SK\":39282,\"Institution_Code\":\"110088\",\"Institution_Type_Code\":\"H\",\"Recruiting_Source_Indicator\":\"Y\",\"Institution_Name\":\"Alliance Academy for Innov of\",\"Institution_FICE_Code\":\"110088\",\"EDI_Capable_Indicator\":\"N\",\"Address_Line1\":\"1100 Lanier 400 Parkway\",\"Address_Line2\":null,\"Address_Line3\":null,\"Combined_Street_Address\":\"1100 Lanier 400 Parkway\",\"Address_City\":\"Cumming\",\"Address_State_Code\":\"GA\",\"Address_State\":\"Georgia\",\"Address_County_Code\":\"UNK\",\"Address_County\":\"Unknown\",\"Address_Zip\":\"30040\",\"GeoMarket_Code\":null,\"GeoMarket\":null,\"Address_Activity_Date\":\"2020-05-11\",\"Institution_Activity_Date\":\"2020-05-11\",\"SUDS_Institution_Code\":null,\"SUDS_Institution_State\":null,\"BOG_Institution_Code\":null,\"Florida_Public_Inst_Code\":null}]"
                                },
                                {
                                    "0": "78688",
                                    "1": "2020-06-12 10:16:44.983",
                                    "2": "3",
                                    "3": "IR",
                                    "4": "Dim Update LocalDims",
                                    "5": "dimAcademicInstitution",
                                    "6": "SUDS_Institution_Code",
                                    "7": "NULL",
                                    "8": "39283",
                                    "9": "[{\"Academic_Institution_SK\":39283,\"Institution_Code\":\"110270\",\"Institution_Type_Code\":\"H\",\"Recruiting_Source_Indicator\":\"Y\",\"Institution_Name\":\"Cherokee Bluff High School\",\"Institution_FICE_Code\":\"110270\",\"EDI_Capable_Indicator\":\"N\",\"Address_Line1\":\"6603 Spout Springs Rd\",\"Address_Line2\":null,\"Address_Line3\":null,\"Combined_Street_Address\":\"6603 Spout Springs Rd\",\"Address_City\":\"Flowery Branch\",\"Address_State_Code\":\"GA\",\"Address_State\":\"Georgia\",\"Address_County_Code\":\"UNK\",\"Address_County\":\"Unknown\",\"Address_Zip\":\"30542\",\"GeoMarket_Code\":null,\"GeoMarket\":null,\"Address_Activity_Date\":\"2020-05-11\",\"Institution_Activity_Date\":\"2020-05-11\",\"SUDS_Institution_Code\":null,\"SUDS_Institution_State\":null,\"BOG_Institution_Code\":null,\"Florida_Public_Inst_Code\":null}]"
                                },
                                {
                                    "0": "78689",
                                    "1": "2020-06-12 10:16:44.983",
                                    "2": "3",
                                    "3": "IR",
                                    "4": "Dim Update LocalDims",
                                    "5": "dimAcademicInstitution",
                                    "6": "SUDS_Institution_Code",
                                    "7": "NULL",
                                    "8": "39284",
                                    "9": "[{\"Academic_Institution_SK\":39284,\"Institution_Code\":\"110663\",\"Institution_Type_Code\":\"H\",\"Recruiting_Source_Indicator\":\"Y\",\"Institution_Name\":\"North Murray High School\",\"Institution_FICE_Code\":\"110663\",\"EDI_Capable_Indicator\":\"N\",\"Address_Line1\":\"2568 Mount Carmel Church Road\",\"Address_Line2\":null,\"Address_Line3\":null,\"Combined_Street_Address\":\"2568 Mount Carmel Church Road\",\"Address_City\":\"Chatsworth\",\"Address_State_Code\":\"GA\",\"Address_State\":\"Georgia\",\"Address_County_Code\":\"UNK\",\"Address_County\":\"Unknown\",\"Address_Zip\":\"30705\",\"GeoMarket_Code\":null,\"GeoMarket\":null,\"Address_Activity_Date\":\"2020-05-11\",\"Institution_Activity_Date\":\"2020-05-11\",\"SUDS_Institution_Code\":null,\"SUDS_Institution_State\":null,\"BOG_Institution_Code\":null,\"Florida_Public_Inst_Code\":null}]"
                                },
                                {
                                    "0": "78690",
                                    "1": "2020-06-12 10:16:44.983",
                                    "2": "3",
                                    "3": "IR",
                                    "4": "Dim Update LocalDims",
                                    "5": "dimAcademicInstitution",
                                    "6": "SUDS_Institution_Code",
                                    "7": "NULL",
                                    "8": "39285",
                                    "9": "[{\"Academic_Institution_SK\":39285,\"Institution_Code\":\"110986\",\"Institution_Type_Code\":\"H\",\"Recruiting_Source_Indicator\":\"Y\",\"Institution_Name\":\"Coahulla Creek High School\",\"Institution_FICE_Code\":\"110986\",\"EDI_Capable_Indicator\":\"N\",\"Address_Line1\":\"3361 Crow Rd NE\",\"Address_Line2\":null,\"Address_Line3\":null,\"Combined_Street_Address\":\"3361 Crow Rd NE\",\"Address_City\":\"Dalton\",\"Address_State_Code\":\"GA\",\"Address_State\":\"Georgia\",\"Address_County_Code\":\"UNK\",\"Address_County\":\"Unknown\",\"Address_Zip\":\"30721\",\"GeoMarket_Code\":null,\"GeoMarket\":null,\"Address_Activity_Date\":\"2020-05-11\",\"Institution_Activity_Date\":\"2020-05-11\",\"SUDS_Institution_Code\":null,\"SUDS_Institution_State\":null,\"BOG_Institution_Code\":null,\"Florida_Public_Inst_Code\":null}]"
                                },
                                {
                                    "0": "78691",
                                    "1": "2020-06-12 10:16:44.983",
                                    "2": "3",
                                    "3": "IR",
                                    "4": "Dim Update LocalDims",
                                    "5": "dimAcademicInstitution",
                                    "6": "SUDS_Institution_Code",
                                    "7": "NULL",
                                    "8": "39286",
                                    "9": "[{\"Academic_Institution_SK\":39286,\"Institution_Code\":\"111000\",\"Institution_Type_Code\":\"H\",\"Recruiting_Source_Indicator\":\"Y\",\"Institution_Name\":\"Denmark High School\",\"Institution_FICE_Code\":\"111000\",\"EDI_Capable_Indicator\":\"N\",\"Address_Line1\":\"645 Mullinax Rd\",\"Address_Line2\":null,\"Address_Line3\":null,\"Combined_Street_Address\":\"645 Mullinax Rd\",\"Address_City\":\"Alpharetta\",\"Address_State_Code\":\"GA\",\"Address_State\":\"Georgia\",\"Address_County_Code\":\"UNK\",\"Address_County\":\"Unknown\",\"Address_Zip\":\"30004\",\"GeoMarket_Code\":null,\"GeoMarket\":null,\"Address_Activity_Date\":\"2020-05-11\",\"Institution_Activity_Date\":\"2020-05-11\",\"SUDS_Institution_Code\":null,\"SUDS_Institution_State\":null,\"BOG_Institution_Code\":null,\"Florida_Public_Inst_Code\":null}]"
                                },
                                {
                                    "0": "78692",
                                    "1": "2020-06-12 10:16:44.983",
                                    "2": "3",
                                    "3": "IR",
                                    "4": "Dim Update LocalDims",
                                    "5": "dimAcademicInstitution",
                                    "6": "SUDS_Institution_Code",
                                    "7": "NULL",
                                    "8": "39287",
                                    "9": "[{\"Academic_Institution_SK\":39287,\"Institution_Code\":\"111141\",\"Institution_Type_Code\":\"H\",\"Recruiting_Source_Indicator\":\"Y\",\"Institution_Name\":\"Georgia Connections Academy\",\"Institution_FICE_Code\":\"111141\",\"EDI_Capable_Indicator\":\"N\",\"Address_Line1\":\"2763 Meadow Church Rd Suite 208\",\"Address_Line2\":null,\"Address_Line3\":null,\"Combined_Street_Address\":\"2763 Meadow Church Rd Suite 208\",\"Address_City\":\"Duluth\",\"Address_State_Code\":\"GA\",\"Address_State\":\"Georgia\",\"Address_County_Code\":\"UNK\",\"Address_County\":\"Unknown\",\"Address_Zip\":\"30097\",\"GeoMarket_Code\":null,\"GeoMarket\":null,\"Address_Activity_Date\":\"2020-05-11\",\"Institution_Activity_Date\":\"2020-05-11\",\"SUDS_Institution_Code\":null,\"SUDS_Institution_State\":null,\"BOG_Institution_Code\":null,\"Florida_Public_Inst_Code\":null}]"
                                },
                                {
                                    "0": "78693",
                                    "1": "2020-06-12 10:16:44.983",
                                    "2": "3",
                                    "3": "IR",
                                    "4": "Dim Update LocalDims",
                                    "5": "dimAcademicInstitution",
                                    "6": "SUDS_Institution_Code",
                                    "7": "NULL",
                                    "8": "39288",
                                    "9": "[{\"Academic_Institution_SK\":39288,\"Institution_Code\":\"111496\",\"Institution_Type_Code\":\"H\",\"Recruiting_Source_Indicator\":\"Y\",\"Institution_Name\":\"Lake Oconee Academy\",\"Institution_FICE_Code\":\"111496\",\"EDI_Capable_Indicator\":\"N\",\"Address_Line1\":\"1021 Titan Cir\",\"Address_Line2\":null,\"Address_Line3\":null,\"Combined_Street_Address\":\"1021 Titan Cir\",\"Address_City\":\"Greensboro\",\"Address_State_Code\":\"GA\",\"Address_State\":\"Georgia\",\"Address_County_Code\":\"UNK\",\"Address_County\":\"Unknown\",\"Address_Zip\":\"30642\",\"GeoMarket_Code\":null,\"GeoMarket\":null,\"Address_Activity_Date\":\"2020-05-11\",\"Institution_Activity_Date\":\"2020-05-11\",\"SUDS_Institution_Code\":null,\"SUDS_Institution_State\":null,\"BOG_Institution_Code\":null,\"Florida_Public_Inst_Code\":null}]"
                                },
                                {
                                    "0": "78694",
                                    "1": "2020-06-12 10:16:44.983",
                                    "2": "3",
                                    "3": "IR",
                                    "4": "Dim Update LocalDims",
                                    "5": "dimAcademicInstitution",
                                    "6": "SUDS_Institution_Code",
                                    "7": "NULL",
                                    "8": "39289",
                                    "9": "[{\"Academic_Institution_SK\":39289,\"Institution_Code\":\"111528\",\"Institution_Type_Code\":\"H\",\"Recruiting_Source_Indicator\":\"Y\",\"Institution_Name\":\"Grovetown High School\",\"Institution_FICE_Code\":\"111528\",\"EDI_Capable_Indicator\":\"N\",\"Address_Line1\":\"2010 Warrior Way\",\"Address_Line2\":null,\"Address_Line3\":null,\"Combined_Street_Address\":\"2010 Warrior Way\",\"Address_City\":\"Grovetown\",\"Address_State_Code\":\"GA\",\"Address_State\":\"Georgia\",\"Address_County_Code\":\"UNK\",\"Address_County\":\"Unknown\",\"Address_Zip\":\"30813\",\"GeoMarket_Code\":null,\"GeoMarket\":null,\"Address_Activity_Date\":\"2020-05-11\",\"Institution_Activity_Date\":\"2020-05-11\",\"SUDS_Institution_Code\":null,\"SUDS_Institution_State\":null,\"BOG_Institution_Code\":null,\"Florida_Public_Inst_Code\":null}]"
                                },
                                {
                                    "0": "78695",
                                    "1": "2020-06-12 10:16:44.983",
                                    "2": "3",
                                    "3": "IR",
                                    "4": "Dim Update LocalDims",
                                    "5": "dimAcademicInstitution",
                                    "6": "SUDS_Institution_Code",
                                    "7": "NULL",
                                    "8": "39290",
                                    "9": "[{\"Academic_Institution_SK\":39290,\"Institution_Code\":\"111722\",\"Institution_Type_Code\":\"H\",\"Recruiting_Source_Indicator\":\"Y\",\"Institution_Name\":\"Elite Scholars Academy\",\"Institution_FICE_Code\":\"111722\",\"EDI_Capable_Indicator\":\"N\",\"Address_Line1\":\"7923 Fielder Rd\",\"Address_Line2\":null,\"Address_Line3\":null,\"Combined_Street_Address\":\"7923 Fielder Rd\",\"Address_City\":\"Jonesboro\",\"Address_State_Code\":\"GA\",\"Address_State\":\"Georgia\",\"Address_County_Code\":\"UNK\",\"Address_County\":\"Unknown\",\"Address_Zip\":\"30236\",\"GeoMarket_Code\":null,\"GeoMarket\":null,\"Address_Activity_Date\":\"2020-05-11\",\"Institution_Activity_Date\":\"2020-05-11\",\"SUDS_Institution_Code\":null,\"SUDS_Institution_State\":null,\"BOG_Institution_Code\":null,\"Florida_Public_Inst_Code\":null}]"
                                },
                                {
                                    "0": "78696",
                                    "1": "2020-06-12 10:16:44.983",
                                    "2": "3",
                                    "3": "IR",
                                    "4": "Dim Update LocalDims",
                                    "5": "dimAcademicInstitution",
                                    "6": "SUDS_Institution_Code",
                                    "7": "NULL",
                                    "8": "39291",
                                    "9": "[{\"Academic_Institution_SK\":39291,\"Institution_Code\":\"111743\",\"Institution_Type_Code\":\"H\",\"Recruiting_Source_Indicator\":\"Y\",\"Institution_Name\":\"Martha Ellen Stilwell Sch of A\",\"Institution_FICE_Code\":\"111743\",\"EDI_Capable_Indicator\":\"N\",\"Address_Line1\":\"2580 Mt Zion Pkwy\",\"Address_Line2\":null,\"Address_Line3\":null,\"Combined_Street_Address\":\"2580 Mt Zion Pkwy\",\"Address_City\":\"Jonesboro\",\"Address_State_Code\":\"GA\",\"Address_State\":\"Georgia\",\"Address_County_Code\":\"UNK\",\"Address_County\":\"Unknown\",\"Address_Zip\":\"30236\",\"GeoMarket_Code\":null,\"GeoMarket\":null,\"Address_Activity_Date\":\"2020-05-11\",\"Institution_Activity_Date\":\"2020-05-11\",\"SUDS_Institution_Code\":null,\"SUDS_Institution_State\":null,\"BOG_Institution_Code\":null,\"Florida_Public_Inst_Code\":null}]"
                                },
                                {
                                    "0": "78697",
                                    "1": "2020-06-12 10:16:44.983",
                                    "2": "3",
                                    "3": "IR",
                                    "4": "Dim Update LocalDims",
                                    "5": "dimAcademicInstitution",
                                    "6": "SUDS_Institution_Code",
                                    "7": "NULL",
                                    "8": "39292",
                                    "9": "[{\"Academic_Institution_SK\":39292,\"Institution_Code\":\"111869\",\"Institution_Type_Code\":\"H\",\"Recruiting_Source_Indicator\":\"Y\",\"Institution_Name\":\"Locust Grove High School\",\"Institution_FICE_Code\":\"111869\",\"EDI_Capable_Indicator\":\"N\",\"Address_Line1\":\"3275 S Ola Rd\",\"Address_Line2\":null,\"Address_Line3\":null,\"Combined_Street_Address\":\"3275 S Ola Rd\",\"Address_City\":\"Locust Grove\",\"Address_State_Code\":\"GA\",\"Address_State\":\"Georgia\",\"Address_County_Code\":\"UNK\",\"Address_County\":\"Unknown\",\"Address_Zip\":\"30248\",\"GeoMarket_Code\":null,\"GeoMarket\":null,\"Address_Activity_Date\":\"2020-05-11\",\"Institution_Activity_Date\":\"2020-05-11\",\"SUDS_Institution_Code\":null,\"SUDS_Institution_State\":null,\"BOG_Institution_Code\":null,\"Florida_Public_Inst_Code\":null}]"
                                },
                                {
                                    "0": "78698",
                                    "1": "2020-06-12 10:16:44.983",
                                    "2": "3",
                                    "3": "IR",
                                    "4": "Dim Update LocalDims",
                                    "5": "dimAcademicInstitution",
                                    "6": "SUDS_Institution_Code",
                                    "7": "NULL",
                                    "8": "39293",
                                    "9": "[{\"Academic_Institution_SK\":39293,\"Institution_Code\":\"112016\",\"Institution_Type_Code\":\"H\",\"Recruiting_Source_Indicator\":\"Y\",\"Institution_Name\":\"Academy for Classical Educatio\",\"Institution_FICE_Code\":\"112016\",\"EDI_Capable_Indicator\":\"N\",\"Address_Line1\":\"5665 New Forsyth Rd\",\"Address_Line2\":null,\"Address_Line3\":null,\"Combined_Street_Address\":\"5665 New Forsyth Rd\",\"Address_City\":\"Macon\",\"Address_State_Code\":\"GA\",\"Address_State\":\"Georgia\",\"Address_County_Code\":\"UNK\",\"Address_County\":\"Unknown\",\"Address_Zip\":\"31210\",\"GeoMarket_Code\":null,\"GeoMarket\":null,\"Address_Activity_Date\":\"2020-05-11\",\"Institution_Activity_Date\":\"2020-05-11\",\"SUDS_Institution_Code\":null,\"SUDS_Institution_State\":null,\"BOG_Institution_Code\":null,\"Florida_Public_Inst_Code\":null}]"
                                },
                                {
                                    "0": "78699",
                                    "1": "2020-06-12 10:16:44.983",
                                    "2": "3",
                                    "3": "IR",
                                    "4": "Dim Update LocalDims",
                                    "5": "dimAcademicInstitution",
                                    "6": "SUDS_Institution_Code",
                                    "7": "NULL",
                                    "8": "24855",
                                    "9": "[{\"Academic_Institution_SK\":24855,\"Institution_Code\":\"3442\",\"Institution_Type_Code\":\"C\",\"Recruiting_Source_Indicator\":\"Y\",\"Institution_Name\":\"Harvard University\",\"Institution_FICE_Code\":\"002155\",\"EDI_Capable_Indicator\":\"N\",\"Address_Line1\":\"1350 Mass Ave Rm 458\",\"Address_Line2\":null,\"Address_Line3\":null,\"Combined_Street_Address\":\"1350 Mass Ave Rm 458  \",\"Address_City\":\"Cambridge\",\"Address_State_Code\":\"MA\",\"Address_State\":\"Massachusetts\",\"Address_County_Code\":\"UNK\",\"Address_County\":\"Unknown\",\"Address_Zip\":\"02138\",\"GeoMarket_Code\":null,\"GeoMarket\":null,\"Address_Activity_Date\":\"2004-10-20\",\"Institution_Activity_Date\":\"2004-10-20\",\"SUDS_Institution_Code\":null,\"SUDS_Institution_State\":null,\"BOG_Institution_Code\":null,\"Florida_Public_Inst_Code\":null}]"
                                },
                                {
                                    "0": "78700",
                                    "1": "2020-06-12 10:16:44.983",
                                    "2": "3",
                                    "3": "IR",
                                    "4": "Dim Update LocalDims",
                                    "5": "dimAcademicInstitution",
                                    "6": "SUDS_Institution_Code",
                                    "7": "NULL",
                                    "8": "0",
                                    "9": "[{\"Academic_Institution_SK\":0,\"Institution_Code\":\"000000\",\"Institution_Type_Code\":\"X\",\"Recruiting_Source_Indicator\":\"X\",\"Institution_Name\":\"Unknown HS\",\"Institution_FICE_Code\":\"000000\",\"EDI_Capable_Indicator\":\"X\",\"Address_Line1\":\"Unknown\",\"Address_Line2\":null,\"Address_Line3\":null,\"Combined_Street_Address\":\"Unknown\",\"Address_City\":\"Unknown\",\"Address_State_Code\":\"UNK\",\"Address_State\":\"Unknown\",\"Address_County_Code\":\"UNK\",\"Address_County\":\"Unknown\",\"Address_Zip\":\"XXXXX\",\"GeoMarket_Code\":null,\"GeoMarket\":null,\"Address_Activity_Date\":\"1900-01-01\",\"Institution_Activity_Date\":\"1900-01-01\",\"SUDS_Institution_Code\":null,\"SUDS_Institution_State\":null,\"BOG_Institution_Code\":null,\"Florida_Public_Inst_Code\":null}]"
                                },
                                {
                                    "0": "78701",
                                    "1": "2020-06-12 10:16:44.983",
                                    "2": "3",
                                    "3": "IR",
                                    "4": "Dim Update LocalDims",
                                    "5": "dimAcademicInstitution",
                                    "6": "SUDS_Institution_Code",
                                    "7": "NULL",
                                    "8": "38245",
                                    "9": "[{\"Academic_Institution_SK\":38245,\"Institution_Code\":\"EXCLSR\",\"Institution_Type_Code\":\"C\",\"Recruiting_Source_Indicator\":\"Y\",\"Institution_Name\":\"Excelsior Coll\\/UEXCEL\",\"Institution_FICE_Code\":null,\"EDI_Capable_Indicator\":\"N\",\"Address_Line1\":\"7 Columbia Circle\",\"Address_Line2\":null,\"Address_Line3\":null,\"Combined_Street_Address\":\"7 Columbia Circle  \",\"Address_City\":\"Albany\",\"Address_State_Code\":\"NY\",\"Address_State\":\"New York\",\"Address_County_Code\":\"UNK\",\"Address_County\":\"Unknown\",\"Address_Zip\":\"12203-5159\",\"GeoMarket_Code\":\"US-NE\",\"GeoMarket\":\"US: Northeast\",\"Address_Activity_Date\":\"2013-09-03\",\"Institution_Activity_Date\":\"2013-09-03\",\"SUDS_Institution_Code\":null,\"SUDS_Institution_State\":null,\"BOG_Institution_Code\":null,\"Florida_Public_Inst_Code\":null}]"
                                },
                                {
                                    "0": "78702",
                                    "1": "2020-06-12 10:16:44.983",
                                    "2": "3",
                                    "3": "IR",
                                    "4": "Dim Update LocalDims",
                                    "5": "dimAcademicInstitution",
                                    "6": "SUDS_Institution_Code",
                                    "7": "NULL",
                                    "8": "38351",
                                    "9": "[{\"Academic_Institution_SK\":38351,\"Institution_Code\":\"Z088\",\"Institution_Type_Code\":\"C\",\"Recruiting_Source_Indicator\":\"N\",\"Institution_Name\":\"Albany Medical College\",\"Institution_FICE_Code\":null,\"EDI_Capable_Indicator\":\"N\",\"Address_Line1\":\"47 NEW SCOTLAND AVE\",\"Address_Line2\":null,\"Address_Line3\":null,\"Combined_Street_Address\":\"47 NEW SCOTLAND AVE  \",\"Address_City\":\"Albany\",\"Address_State_Code\":\"NY\",\"Address_State\":\"New York\",\"Address_County_Code\":\"UNK\",\"Address_County\":\"Unknown\",\"Address_Zip\":\"12208\",\"GeoMarket_Code\":\"US-NE\",\"GeoMarket\":\"US: Northeast\",\"Address_Activity_Date\":\"2010-03-11\",\"Institution_Activity_Date\":\"2010-03-11\",\"SUDS_Institution_Code\":null,\"SUDS_Institution_State\":null,\"BOG_Institution_Code\":null,\"Florida_Public_Inst_Code\":null}]"
                                },
                                {
                                    "0": "78703",
                                    "1": "2020-06-12 10:16:44.983",
                                    "2": "3",
                                    "3": "IR",
                                    "4": "Dim Update LocalDims",
                                    "5": "dimAcademicInstitution",
                                    "6": "SUDS_Institution_Code",
                                    "7": "NULL",
                                    "8": "39294",
                                    "9": "[{\"Academic_Institution_SK\":39294,\"Institution_Code\":\"113093\",\"Institution_Type_Code\":\"H\",\"Recruiting_Source_Indicator\":\"Y\",\"Institution_Name\":\"Valdosta Early College Academy\",\"Institution_FICE_Code\":\"113093\",\"EDI_Capable_Indicator\":\"N\",\"Address_Line1\":\"1605 Azalea Dr #2471\",\"Address_Line2\":null,\"Address_Line3\":null,\"Combined_Street_Address\":\"1605 Azalea Dr #2471\",\"Address_City\":\"Valdosta\",\"Address_State_Code\":\"GA\",\"Address_State\":\"Georgia\",\"Address_County_Code\":\"UNK\",\"Address_County\":\"Unknown\",\"Address_Zip\":\"31602\",\"GeoMarket_Code\":null,\"GeoMarket\":null,\"Address_Activity_Date\":\"2020-05-11\",\"Institution_Activity_Date\":\"2020-05-11\",\"SUDS_Institution_Code\":null,\"SUDS_Institution_State\":null,\"BOG_Institution_Code\":null,\"Florida_Public_Inst_Code\":null}]"
                                }
                            ]
                        },
                        "text/html": "<table><tr><th>Id</th><th>dateCreated</th><th>RuleId</th><th>Owner</th><th>packageName</th><th>sourceTable</th><th>columnName</th><th>columnValue</th><th>recordKey</th><th>rowdata</th></tr><tr><td>78406</td><td>2020-06-12 10:14:00.653</td><td>3</td><td>IR</td><td>Dim Update LocalDims</td><td>dimAcademicInstitution</td><td>SUDS_Institution_Code</td><td>NULL</td><td>39279</td><td>[{&quot;Academic_Institution_SK&quot;:39279,&quot;Institution_Code&quot;:&quot;102516&quot;,&quot;Institution_Type_Code&quot;:&quot;H&quot;,&quot;Recruiting_Source_Indicator&quot;:&quot;Y&quot;,&quot;Institution_Name&quot;:&quot;St Petersburg Collegiate HS&quot;,&quot;Institution_FICE_Code&quot;:&quot;102516&quot;,&quot;EDI_Capable_Indicator&quot;:&quot;N&quot;,&quot;Address_Line1&quot;:&quot;6605 5th Ave N, St.&quot;,&quot;Address_Line2&quot;:null,&quot;Address_Line3&quot;:null,&quot;Combined_Street_Address&quot;:&quot;6605 5th Ave N, St.&quot;,&quot;Address_City&quot;:&quot;Petersburg&quot;,&quot;Address_State_Code&quot;:&quot;FL&quot;,&quot;Address_State&quot;:&quot;Florida&quot;,&quot;Address_County_Code&quot;:&quot;UNK&quot;,&quot;Address_County&quot;:&quot;Unknown&quot;,&quot;Address_Zip&quot;:&quot;33710&quot;,&quot;GeoMarket_Code&quot;:null,&quot;GeoMarket&quot;:null,&quot;Address_Activity_Date&quot;:&quot;2020-05-11&quot;,&quot;Institution_Activity_Date&quot;:&quot;2020-05-11&quot;,&quot;SUDS_Institution_Code&quot;:null,&quot;SUDS_Institution_State&quot;:null,&quot;BOG_Institution_Code&quot;:null,&quot;Florida_Public_Inst_Code&quot;:null}]</td></tr><tr><td>78407</td><td>2020-06-12 10:14:00.653</td><td>3</td><td>IR</td><td>Dim Update LocalDims</td><td>dimAcademicInstitution</td><td>SUDS_Institution_Code</td><td>NULL</td><td>39280</td><td>[{&quot;Academic_Institution_SK&quot;:39280,&quot;Institution_Code&quot;:&quot;102575&quot;,&quot;Institution_Type_Code&quot;:&quot;H&quot;,&quot;Recruiting_Source_Indicator&quot;:&quot;Y&quot;,&quot;Institution_Name&quot;:&quot;Millennium 6-12 Collegiate Aca&quot;,&quot;Institution_FICE_Code&quot;:&quot;102575&quot;,&quot;EDI_Capable_Indicator&quot;:&quot;N&quot;,&quot;Address_Line1&quot;:&quot;5803 NW 94th Ave&quot;,&quot;Address_Line2&quot;:null,&quot;Address_Line3&quot;:null,&quot;Combined_Street_Address&quot;:&quot;5803 NW 94th Ave&quot;,&quot;Address_City&quot;:&quot;Tamarac&quot;,&quot;Address_State_Code&quot;:&quot;FL&quot;,&quot;Address_State&quot;:&quot;Florida&quot;,&quot;Address_County_Code&quot;:&quot;UNK&quot;,&quot;Address_County&quot;:&quot;Unknown&quot;,&quot;Address_Zip&quot;:&quot;33321&quot;,&quot;GeoMarket_Code&quot;:null,&quot;GeoMarket&quot;:null,&quot;Address_Activity_Date&quot;:&quot;2020-05-11&quot;,&quot;Institution_Activity_Date&quot;:&quot;2020-05-11&quot;,&quot;SUDS_Institution_Code&quot;:null,&quot;SUDS_Institution_State&quot;:null,&quot;BOG_Institution_Code&quot;:null,&quot;Florida_Public_Inst_Code&quot;:null}]</td></tr><tr><td>78408</td><td>2020-06-12 10:14:00.653</td><td>3</td><td>IR</td><td>Dim Update LocalDims</td><td>dimAcademicInstitution</td><td>SUDS_Institution_Code</td><td>NULL</td><td>39281</td><td>[{&quot;Academic_Institution_SK&quot;:39281,&quot;Institution_Code&quot;:&quot;110034&quot;,&quot;Institution_Type_Code&quot;:&quot;H&quot;,&quot;Recruiting_Source_Indicator&quot;:&quot;Y&quot;,&quot;Institution_Name&quot;:&quot;Saint Georges Episcopal School&quot;,&quot;Institution_FICE_Code&quot;:&quot;110034&quot;,&quot;EDI_Capable_Indicator&quot;:&quot;N&quot;,&quot;Address_Line1&quot;:&quot;10560 Fort George Rd&quot;,&quot;Address_Line2&quot;:null,&quot;Address_Line3&quot;:null,&quot;Combined_Street_Address&quot;:&quot;10560 Fort George Rd&quot;,&quot;Address_City&quot;:&quot;Jacksonville&quot;,&quot;Address_State_Code&quot;:&quot;FL&quot;,&quot;Address_State&quot;:&quot;Florida&quot;,&quot;Address_County_Code&quot;:&quot;UNK&quot;,&quot;Address_County&quot;:&quot;Unknown&quot;,&quot;Address_Zip&quot;:&quot;32226&quot;,&quot;GeoMarket_Code&quot;:null,&quot;GeoMarket&quot;:null,&quot;Address_Activity_Date&quot;:&quot;2020-05-11&quot;,&quot;Institution_Activity_Date&quot;:&quot;2020-05-11&quot;,&quot;SUDS_Institution_Code&quot;:null,&quot;SUDS_Institution_State&quot;:null,&quot;BOG_Institution_Code&quot;:null,&quot;Florida_Public_Inst_Code&quot;:null}]</td></tr><tr><td>78409</td><td>2020-06-12 10:14:00.653</td><td>3</td><td>IR</td><td>Dim Update LocalDims</td><td>dimAcademicInstitution</td><td>SUDS_Institution_Code</td><td>NULL</td><td>39282</td><td>[{&quot;Academic_Institution_SK&quot;:39282,&quot;Institution_Code&quot;:&quot;110088&quot;,&quot;Institution_Type_Code&quot;:&quot;H&quot;,&quot;Recruiting_Source_Indicator&quot;:&quot;Y&quot;,&quot;Institution_Name&quot;:&quot;Alliance Academy for Innov of&quot;,&quot;Institution_FICE_Code&quot;:&quot;110088&quot;,&quot;EDI_Capable_Indicator&quot;:&quot;N&quot;,&quot;Address_Line1&quot;:&quot;1100 Lanier 400 Parkway&quot;,&quot;Address_Line2&quot;:null,&quot;Address_Line3&quot;:null,&quot;Combined_Street_Address&quot;:&quot;1100 Lanier 400 Parkway&quot;,&quot;Address_City&quot;:&quot;Cumming&quot;,&quot;Address_State_Code&quot;:&quot;GA&quot;,&quot;Address_State&quot;:&quot;Georgia&quot;,&quot;Address_County_Code&quot;:&quot;UNK&quot;,&quot;Address_County&quot;:&quot;Unknown&quot;,&quot;Address_Zip&quot;:&quot;30040&quot;,&quot;GeoMarket_Code&quot;:null,&quot;GeoMarket&quot;:null,&quot;Address_Activity_Date&quot;:&quot;2020-05-11&quot;,&quot;Institution_Activity_Date&quot;:&quot;2020-05-11&quot;,&quot;SUDS_Institution_Code&quot;:null,&quot;SUDS_Institution_State&quot;:null,&quot;BOG_Institution_Code&quot;:null,&quot;Florida_Public_Inst_Code&quot;:null}]</td></tr><tr><td>78410</td><td>2020-06-12 10:14:00.653</td><td>3</td><td>IR</td><td>Dim Update LocalDims</td><td>dimAcademicInstitution</td><td>SUDS_Institution_Code</td><td>NULL</td><td>39283</td><td>[{&quot;Academic_Institution_SK&quot;:39283,&quot;Institution_Code&quot;:&quot;110270&quot;,&quot;Institution_Type_Code&quot;:&quot;H&quot;,&quot;Recruiting_Source_Indicator&quot;:&quot;Y&quot;,&quot;Institution_Name&quot;:&quot;Cherokee Bluff High School&quot;,&quot;Institution_FICE_Code&quot;:&quot;110270&quot;,&quot;EDI_Capable_Indicator&quot;:&quot;N&quot;,&quot;Address_Line1&quot;:&quot;6603 Spout Springs Rd&quot;,&quot;Address_Line2&quot;:null,&quot;Address_Line3&quot;:null,&quot;Combined_Street_Address&quot;:&quot;6603 Spout Springs Rd&quot;,&quot;Address_City&quot;:&quot;Flowery Branch&quot;,&quot;Address_State_Code&quot;:&quot;GA&quot;,&quot;Address_State&quot;:&quot;Georgia&quot;,&quot;Address_County_Code&quot;:&quot;UNK&quot;,&quot;Address_County&quot;:&quot;Unknown&quot;,&quot;Address_Zip&quot;:&quot;30542&quot;,&quot;GeoMarket_Code&quot;:null,&quot;GeoMarket&quot;:null,&quot;Address_Activity_Date&quot;:&quot;2020-05-11&quot;,&quot;Institution_Activity_Date&quot;:&quot;2020-05-11&quot;,&quot;SUDS_Institution_Code&quot;:null,&quot;SUDS_Institution_State&quot;:null,&quot;BOG_Institution_Code&quot;:null,&quot;Florida_Public_Inst_Code&quot;:null}]</td></tr><tr><td>78411</td><td>2020-06-12 10:14:00.653</td><td>3</td><td>IR</td><td>Dim Update LocalDims</td><td>dimAcademicInstitution</td><td>SUDS_Institution_Code</td><td>NULL</td><td>39284</td><td>[{&quot;Academic_Institution_SK&quot;:39284,&quot;Institution_Code&quot;:&quot;110663&quot;,&quot;Institution_Type_Code&quot;:&quot;H&quot;,&quot;Recruiting_Source_Indicator&quot;:&quot;Y&quot;,&quot;Institution_Name&quot;:&quot;North Murray High School&quot;,&quot;Institution_FICE_Code&quot;:&quot;110663&quot;,&quot;EDI_Capable_Indicator&quot;:&quot;N&quot;,&quot;Address_Line1&quot;:&quot;2568 Mount Carmel Church Road&quot;,&quot;Address_Line2&quot;:null,&quot;Address_Line3&quot;:null,&quot;Combined_Street_Address&quot;:&quot;2568 Mount Carmel Church Road&quot;,&quot;Address_City&quot;:&quot;Chatsworth&quot;,&quot;Address_State_Code&quot;:&quot;GA&quot;,&quot;Address_State&quot;:&quot;Georgia&quot;,&quot;Address_County_Code&quot;:&quot;UNK&quot;,&quot;Address_County&quot;:&quot;Unknown&quot;,&quot;Address_Zip&quot;:&quot;30705&quot;,&quot;GeoMarket_Code&quot;:null,&quot;GeoMarket&quot;:null,&quot;Address_Activity_Date&quot;:&quot;2020-05-11&quot;,&quot;Institution_Activity_Date&quot;:&quot;2020-05-11&quot;,&quot;SUDS_Institution_Code&quot;:null,&quot;SUDS_Institution_State&quot;:null,&quot;BOG_Institution_Code&quot;:null,&quot;Florida_Public_Inst_Code&quot;:null}]</td></tr><tr><td>78412</td><td>2020-06-12 10:14:00.653</td><td>3</td><td>IR</td><td>Dim Update LocalDims</td><td>dimAcademicInstitution</td><td>SUDS_Institution_Code</td><td>NULL</td><td>39285</td><td>[{&quot;Academic_Institution_SK&quot;:39285,&quot;Institution_Code&quot;:&quot;110986&quot;,&quot;Institution_Type_Code&quot;:&quot;H&quot;,&quot;Recruiting_Source_Indicator&quot;:&quot;Y&quot;,&quot;Institution_Name&quot;:&quot;Coahulla Creek High School&quot;,&quot;Institution_FICE_Code&quot;:&quot;110986&quot;,&quot;EDI_Capable_Indicator&quot;:&quot;N&quot;,&quot;Address_Line1&quot;:&quot;3361 Crow Rd NE&quot;,&quot;Address_Line2&quot;:null,&quot;Address_Line3&quot;:null,&quot;Combined_Street_Address&quot;:&quot;3361 Crow Rd NE&quot;,&quot;Address_City&quot;:&quot;Dalton&quot;,&quot;Address_State_Code&quot;:&quot;GA&quot;,&quot;Address_State&quot;:&quot;Georgia&quot;,&quot;Address_County_Code&quot;:&quot;UNK&quot;,&quot;Address_County&quot;:&quot;Unknown&quot;,&quot;Address_Zip&quot;:&quot;30721&quot;,&quot;GeoMarket_Code&quot;:null,&quot;GeoMarket&quot;:null,&quot;Address_Activity_Date&quot;:&quot;2020-05-11&quot;,&quot;Institution_Activity_Date&quot;:&quot;2020-05-11&quot;,&quot;SUDS_Institution_Code&quot;:null,&quot;SUDS_Institution_State&quot;:null,&quot;BOG_Institution_Code&quot;:null,&quot;Florida_Public_Inst_Code&quot;:null}]</td></tr><tr><td>78413</td><td>2020-06-12 10:14:00.653</td><td>3</td><td>IR</td><td>Dim Update LocalDims</td><td>dimAcademicInstitution</td><td>SUDS_Institution_Code</td><td>NULL</td><td>39286</td><td>[{&quot;Academic_Institution_SK&quot;:39286,&quot;Institution_Code&quot;:&quot;111000&quot;,&quot;Institution_Type_Code&quot;:&quot;H&quot;,&quot;Recruiting_Source_Indicator&quot;:&quot;Y&quot;,&quot;Institution_Name&quot;:&quot;Denmark High School&quot;,&quot;Institution_FICE_Code&quot;:&quot;111000&quot;,&quot;EDI_Capable_Indicator&quot;:&quot;N&quot;,&quot;Address_Line1&quot;:&quot;645 Mullinax Rd&quot;,&quot;Address_Line2&quot;:null,&quot;Address_Line3&quot;:null,&quot;Combined_Street_Address&quot;:&quot;645 Mullinax Rd&quot;,&quot;Address_City&quot;:&quot;Alpharetta&quot;,&quot;Address_State_Code&quot;:&quot;GA&quot;,&quot;Address_State&quot;:&quot;Georgia&quot;,&quot;Address_County_Code&quot;:&quot;UNK&quot;,&quot;Address_County&quot;:&quot;Unknown&quot;,&quot;Address_Zip&quot;:&quot;30004&quot;,&quot;GeoMarket_Code&quot;:null,&quot;GeoMarket&quot;:null,&quot;Address_Activity_Date&quot;:&quot;2020-05-11&quot;,&quot;Institution_Activity_Date&quot;:&quot;2020-05-11&quot;,&quot;SUDS_Institution_Code&quot;:null,&quot;SUDS_Institution_State&quot;:null,&quot;BOG_Institution_Code&quot;:null,&quot;Florida_Public_Inst_Code&quot;:null}]</td></tr><tr><td>78414</td><td>2020-06-12 10:14:00.653</td><td>3</td><td>IR</td><td>Dim Update LocalDims</td><td>dimAcademicInstitution</td><td>SUDS_Institution_Code</td><td>NULL</td><td>39287</td><td>[{&quot;Academic_Institution_SK&quot;:39287,&quot;Institution_Code&quot;:&quot;111141&quot;,&quot;Institution_Type_Code&quot;:&quot;H&quot;,&quot;Recruiting_Source_Indicator&quot;:&quot;Y&quot;,&quot;Institution_Name&quot;:&quot;Georgia Connections Academy&quot;,&quot;Institution_FICE_Code&quot;:&quot;111141&quot;,&quot;EDI_Capable_Indicator&quot;:&quot;N&quot;,&quot;Address_Line1&quot;:&quot;2763 Meadow Church Rd Suite 208&quot;,&quot;Address_Line2&quot;:null,&quot;Address_Line3&quot;:null,&quot;Combined_Street_Address&quot;:&quot;2763 Meadow Church Rd Suite 208&quot;,&quot;Address_City&quot;:&quot;Duluth&quot;,&quot;Address_State_Code&quot;:&quot;GA&quot;,&quot;Address_State&quot;:&quot;Georgia&quot;,&quot;Address_County_Code&quot;:&quot;UNK&quot;,&quot;Address_County&quot;:&quot;Unknown&quot;,&quot;Address_Zip&quot;:&quot;30097&quot;,&quot;GeoMarket_Code&quot;:null,&quot;GeoMarket&quot;:null,&quot;Address_Activity_Date&quot;:&quot;2020-05-11&quot;,&quot;Institution_Activity_Date&quot;:&quot;2020-05-11&quot;,&quot;SUDS_Institution_Code&quot;:null,&quot;SUDS_Institution_State&quot;:null,&quot;BOG_Institution_Code&quot;:null,&quot;Florida_Public_Inst_Code&quot;:null}]</td></tr><tr><td>78967</td><td>2020-06-12 12:42:57.840</td><td>3</td><td>IR</td><td>Dim Update LocalDims</td><td>dimAcademicInstitution</td><td>SUDS_Institution_Code</td><td>NULL</td><td>39279</td><td>[{&quot;Academic_Institution_SK&quot;:39279,&quot;Institution_Code&quot;:&quot;102516&quot;,&quot;Institution_Type_Code&quot;:&quot;H&quot;,&quot;Recruiting_Source_Indicator&quot;:&quot;Y&quot;,&quot;Institution_Name&quot;:&quot;St Petersburg Collegiate HS&quot;,&quot;Institution_FICE_Code&quot;:&quot;102516&quot;,&quot;EDI_Capable_Indicator&quot;:&quot;N&quot;,&quot;Address_Line1&quot;:&quot;6605 5th Ave N, St.&quot;,&quot;Address_Line2&quot;:null,&quot;Address_Line3&quot;:null,&quot;Combined_Street_Address&quot;:&quot;6605 5th Ave N, St.&quot;,&quot;Address_City&quot;:&quot;Petersburg&quot;,&quot;Address_State_Code&quot;:&quot;FL&quot;,&quot;Address_State&quot;:&quot;Florida&quot;,&quot;Address_County_Code&quot;:&quot;UNK&quot;,&quot;Address_County&quot;:&quot;Unknown&quot;,&quot;Address_Zip&quot;:&quot;33710&quot;,&quot;GeoMarket_Code&quot;:null,&quot;GeoMarket&quot;:null,&quot;Address_Activity_Date&quot;:&quot;2020-05-11&quot;,&quot;Institution_Activity_Date&quot;:&quot;2020-05-11&quot;,&quot;SUDS_Institution_Code&quot;:null,&quot;SUDS_Institution_State&quot;:null,&quot;BOG_Institution_Code&quot;:null,&quot;Florida_Public_Inst_Code&quot;:null}]</td></tr><tr><td>78968</td><td>2020-06-12 12:42:57.840</td><td>3</td><td>IR</td><td>Dim Update LocalDims</td><td>dimAcademicInstitution</td><td>SUDS_Institution_Code</td><td>NULL</td><td>39280</td><td>[{&quot;Academic_Institution_SK&quot;:39280,&quot;Institution_Code&quot;:&quot;102575&quot;,&quot;Institution_Type_Code&quot;:&quot;H&quot;,&quot;Recruiting_Source_Indicator&quot;:&quot;Y&quot;,&quot;Institution_Name&quot;:&quot;Millennium 6-12 Collegiate Aca&quot;,&quot;Institution_FICE_Code&quot;:&quot;102575&quot;,&quot;EDI_Capable_Indicator&quot;:&quot;N&quot;,&quot;Address_Line1&quot;:&quot;5803 NW 94th Ave&quot;,&quot;Address_Line2&quot;:null,&quot;Address_Line3&quot;:null,&quot;Combined_Street_Address&quot;:&quot;5803 NW 94th Ave&quot;,&quot;Address_City&quot;:&quot;Tamarac&quot;,&quot;Address_State_Code&quot;:&quot;FL&quot;,&quot;Address_State&quot;:&quot;Florida&quot;,&quot;Address_County_Code&quot;:&quot;UNK&quot;,&quot;Address_County&quot;:&quot;Unknown&quot;,&quot;Address_Zip&quot;:&quot;33321&quot;,&quot;GeoMarket_Code&quot;:null,&quot;GeoMarket&quot;:null,&quot;Address_Activity_Date&quot;:&quot;2020-05-11&quot;,&quot;Institution_Activity_Date&quot;:&quot;2020-05-11&quot;,&quot;SUDS_Institution_Code&quot;:null,&quot;SUDS_Institution_State&quot;:null,&quot;BOG_Institution_Code&quot;:null,&quot;Florida_Public_Inst_Code&quot;:null}]</td></tr><tr><td>78969</td><td>2020-06-12 12:42:57.840</td><td>3</td><td>IR</td><td>Dim Update LocalDims</td><td>dimAcademicInstitution</td><td>SUDS_Institution_Code</td><td>NULL</td><td>39281</td><td>[{&quot;Academic_Institution_SK&quot;:39281,&quot;Institution_Code&quot;:&quot;110034&quot;,&quot;Institution_Type_Code&quot;:&quot;H&quot;,&quot;Recruiting_Source_Indicator&quot;:&quot;Y&quot;,&quot;Institution_Name&quot;:&quot;Saint Georges Episcopal School&quot;,&quot;Institution_FICE_Code&quot;:&quot;110034&quot;,&quot;EDI_Capable_Indicator&quot;:&quot;N&quot;,&quot;Address_Line1&quot;:&quot;10560 Fort George Rd&quot;,&quot;Address_Line2&quot;:null,&quot;Address_Line3&quot;:null,&quot;Combined_Street_Address&quot;:&quot;10560 Fort George Rd&quot;,&quot;Address_City&quot;:&quot;Jacksonville&quot;,&quot;Address_State_Code&quot;:&quot;FL&quot;,&quot;Address_State&quot;:&quot;Florida&quot;,&quot;Address_County_Code&quot;:&quot;UNK&quot;,&quot;Address_County&quot;:&quot;Unknown&quot;,&quot;Address_Zip&quot;:&quot;32226&quot;,&quot;GeoMarket_Code&quot;:null,&quot;GeoMarket&quot;:null,&quot;Address_Activity_Date&quot;:&quot;2020-05-11&quot;,&quot;Institution_Activity_Date&quot;:&quot;2020-05-11&quot;,&quot;SUDS_Institution_Code&quot;:null,&quot;SUDS_Institution_State&quot;:null,&quot;BOG_Institution_Code&quot;:null,&quot;Florida_Public_Inst_Code&quot;:null}]</td></tr><tr><td>78970</td><td>2020-06-12 12:42:57.840</td><td>3</td><td>IR</td><td>Dim Update LocalDims</td><td>dimAcademicInstitution</td><td>SUDS_Institution_Code</td><td>NULL</td><td>39282</td><td>[{&quot;Academic_Institution_SK&quot;:39282,&quot;Institution_Code&quot;:&quot;110088&quot;,&quot;Institution_Type_Code&quot;:&quot;H&quot;,&quot;Recruiting_Source_Indicator&quot;:&quot;Y&quot;,&quot;Institution_Name&quot;:&quot;Alliance Academy for Innov of&quot;,&quot;Institution_FICE_Code&quot;:&quot;110088&quot;,&quot;EDI_Capable_Indicator&quot;:&quot;N&quot;,&quot;Address_Line1&quot;:&quot;1100 Lanier 400 Parkway&quot;,&quot;Address_Line2&quot;:null,&quot;Address_Line3&quot;:null,&quot;Combined_Street_Address&quot;:&quot;1100 Lanier 400 Parkway&quot;,&quot;Address_City&quot;:&quot;Cumming&quot;,&quot;Address_State_Code&quot;:&quot;GA&quot;,&quot;Address_State&quot;:&quot;Georgia&quot;,&quot;Address_County_Code&quot;:&quot;UNK&quot;,&quot;Address_County&quot;:&quot;Unknown&quot;,&quot;Address_Zip&quot;:&quot;30040&quot;,&quot;GeoMarket_Code&quot;:null,&quot;GeoMarket&quot;:null,&quot;Address_Activity_Date&quot;:&quot;2020-05-11&quot;,&quot;Institution_Activity_Date&quot;:&quot;2020-05-11&quot;,&quot;SUDS_Institution_Code&quot;:null,&quot;SUDS_Institution_State&quot;:null,&quot;BOG_Institution_Code&quot;:null,&quot;Florida_Public_Inst_Code&quot;:null}]</td></tr><tr><td>78971</td><td>2020-06-12 12:42:57.840</td><td>3</td><td>IR</td><td>Dim Update LocalDims</td><td>dimAcademicInstitution</td><td>SUDS_Institution_Code</td><td>NULL</td><td>39283</td><td>[{&quot;Academic_Institution_SK&quot;:39283,&quot;Institution_Code&quot;:&quot;110270&quot;,&quot;Institution_Type_Code&quot;:&quot;H&quot;,&quot;Recruiting_Source_Indicator&quot;:&quot;Y&quot;,&quot;Institution_Name&quot;:&quot;Cherokee Bluff High School&quot;,&quot;Institution_FICE_Code&quot;:&quot;110270&quot;,&quot;EDI_Capable_Indicator&quot;:&quot;N&quot;,&quot;Address_Line1&quot;:&quot;6603 Spout Springs Rd&quot;,&quot;Address_Line2&quot;:null,&quot;Address_Line3&quot;:null,&quot;Combined_Street_Address&quot;:&quot;6603 Spout Springs Rd&quot;,&quot;Address_City&quot;:&quot;Flowery Branch&quot;,&quot;Address_State_Code&quot;:&quot;GA&quot;,&quot;Address_State&quot;:&quot;Georgia&quot;,&quot;Address_County_Code&quot;:&quot;UNK&quot;,&quot;Address_County&quot;:&quot;Unknown&quot;,&quot;Address_Zip&quot;:&quot;30542&quot;,&quot;GeoMarket_Code&quot;:null,&quot;GeoMarket&quot;:null,&quot;Address_Activity_Date&quot;:&quot;2020-05-11&quot;,&quot;Institution_Activity_Date&quot;:&quot;2020-05-11&quot;,&quot;SUDS_Institution_Code&quot;:null,&quot;SUDS_Institution_State&quot;:null,&quot;BOG_Institution_Code&quot;:null,&quot;Florida_Public_Inst_Code&quot;:null}]</td></tr><tr><td>78972</td><td>2020-06-12 12:42:57.840</td><td>3</td><td>IR</td><td>Dim Update LocalDims</td><td>dimAcademicInstitution</td><td>SUDS_Institution_Code</td><td>NULL</td><td>39284</td><td>[{&quot;Academic_Institution_SK&quot;:39284,&quot;Institution_Code&quot;:&quot;110663&quot;,&quot;Institution_Type_Code&quot;:&quot;H&quot;,&quot;Recruiting_Source_Indicator&quot;:&quot;Y&quot;,&quot;Institution_Name&quot;:&quot;North Murray High School&quot;,&quot;Institution_FICE_Code&quot;:&quot;110663&quot;,&quot;EDI_Capable_Indicator&quot;:&quot;N&quot;,&quot;Address_Line1&quot;:&quot;2568 Mount Carmel Church Road&quot;,&quot;Address_Line2&quot;:null,&quot;Address_Line3&quot;:null,&quot;Combined_Street_Address&quot;:&quot;2568 Mount Carmel Church Road&quot;,&quot;Address_City&quot;:&quot;Chatsworth&quot;,&quot;Address_State_Code&quot;:&quot;GA&quot;,&quot;Address_State&quot;:&quot;Georgia&quot;,&quot;Address_County_Code&quot;:&quot;UNK&quot;,&quot;Address_County&quot;:&quot;Unknown&quot;,&quot;Address_Zip&quot;:&quot;30705&quot;,&quot;GeoMarket_Code&quot;:null,&quot;GeoMarket&quot;:null,&quot;Address_Activity_Date&quot;:&quot;2020-05-11&quot;,&quot;Institution_Activity_Date&quot;:&quot;2020-05-11&quot;,&quot;SUDS_Institution_Code&quot;:null,&quot;SUDS_Institution_State&quot;:null,&quot;BOG_Institution_Code&quot;:null,&quot;Florida_Public_Inst_Code&quot;:null}]</td></tr><tr><td>78973</td><td>2020-06-12 12:42:57.840</td><td>3</td><td>IR</td><td>Dim Update LocalDims</td><td>dimAcademicInstitution</td><td>SUDS_Institution_Code</td><td>NULL</td><td>39285</td><td>[{&quot;Academic_Institution_SK&quot;:39285,&quot;Institution_Code&quot;:&quot;110986&quot;,&quot;Institution_Type_Code&quot;:&quot;H&quot;,&quot;Recruiting_Source_Indicator&quot;:&quot;Y&quot;,&quot;Institution_Name&quot;:&quot;Coahulla Creek High School&quot;,&quot;Institution_FICE_Code&quot;:&quot;110986&quot;,&quot;EDI_Capable_Indicator&quot;:&quot;N&quot;,&quot;Address_Line1&quot;:&quot;3361 Crow Rd NE&quot;,&quot;Address_Line2&quot;:null,&quot;Address_Line3&quot;:null,&quot;Combined_Street_Address&quot;:&quot;3361 Crow Rd NE&quot;,&quot;Address_City&quot;:&quot;Dalton&quot;,&quot;Address_State_Code&quot;:&quot;GA&quot;,&quot;Address_State&quot;:&quot;Georgia&quot;,&quot;Address_County_Code&quot;:&quot;UNK&quot;,&quot;Address_County&quot;:&quot;Unknown&quot;,&quot;Address_Zip&quot;:&quot;30721&quot;,&quot;GeoMarket_Code&quot;:null,&quot;GeoMarket&quot;:null,&quot;Address_Activity_Date&quot;:&quot;2020-05-11&quot;,&quot;Institution_Activity_Date&quot;:&quot;2020-05-11&quot;,&quot;SUDS_Institution_Code&quot;:null,&quot;SUDS_Institution_State&quot;:null,&quot;BOG_Institution_Code&quot;:null,&quot;Florida_Public_Inst_Code&quot;:null}]</td></tr><tr><td>78974</td><td>2020-06-12 12:42:57.840</td><td>3</td><td>IR</td><td>Dim Update LocalDims</td><td>dimAcademicInstitution</td><td>SUDS_Institution_Code</td><td>NULL</td><td>39286</td><td>[{&quot;Academic_Institution_SK&quot;:39286,&quot;Institution_Code&quot;:&quot;111000&quot;,&quot;Institution_Type_Code&quot;:&quot;H&quot;,&quot;Recruiting_Source_Indicator&quot;:&quot;Y&quot;,&quot;Institution_Name&quot;:&quot;Denmark High School&quot;,&quot;Institution_FICE_Code&quot;:&quot;111000&quot;,&quot;EDI_Capable_Indicator&quot;:&quot;N&quot;,&quot;Address_Line1&quot;:&quot;645 Mullinax Rd&quot;,&quot;Address_Line2&quot;:null,&quot;Address_Line3&quot;:null,&quot;Combined_Street_Address&quot;:&quot;645 Mullinax Rd&quot;,&quot;Address_City&quot;:&quot;Alpharetta&quot;,&quot;Address_State_Code&quot;:&quot;GA&quot;,&quot;Address_State&quot;:&quot;Georgia&quot;,&quot;Address_County_Code&quot;:&quot;UNK&quot;,&quot;Address_County&quot;:&quot;Unknown&quot;,&quot;Address_Zip&quot;:&quot;30004&quot;,&quot;GeoMarket_Code&quot;:null,&quot;GeoMarket&quot;:null,&quot;Address_Activity_Date&quot;:&quot;2020-05-11&quot;,&quot;Institution_Activity_Date&quot;:&quot;2020-05-11&quot;,&quot;SUDS_Institution_Code&quot;:null,&quot;SUDS_Institution_State&quot;:null,&quot;BOG_Institution_Code&quot;:null,&quot;Florida_Public_Inst_Code&quot;:null}]</td></tr><tr><td>78975</td><td>2020-06-12 12:42:57.840</td><td>3</td><td>IR</td><td>Dim Update LocalDims</td><td>dimAcademicInstitution</td><td>SUDS_Institution_Code</td><td>NULL</td><td>39287</td><td>[{&quot;Academic_Institution_SK&quot;:39287,&quot;Institution_Code&quot;:&quot;111141&quot;,&quot;Institution_Type_Code&quot;:&quot;H&quot;,&quot;Recruiting_Source_Indicator&quot;:&quot;Y&quot;,&quot;Institution_Name&quot;:&quot;Georgia Connections Academy&quot;,&quot;Institution_FICE_Code&quot;:&quot;111141&quot;,&quot;EDI_Capable_Indicator&quot;:&quot;N&quot;,&quot;Address_Line1&quot;:&quot;2763 Meadow Church Rd Suite 208&quot;,&quot;Address_Line2&quot;:null,&quot;Address_Line3&quot;:null,&quot;Combined_Street_Address&quot;:&quot;2763 Meadow Church Rd Suite 208&quot;,&quot;Address_City&quot;:&quot;Duluth&quot;,&quot;Address_State_Code&quot;:&quot;GA&quot;,&quot;Address_State&quot;:&quot;Georgia&quot;,&quot;Address_County_Code&quot;:&quot;UNK&quot;,&quot;Address_County&quot;:&quot;Unknown&quot;,&quot;Address_Zip&quot;:&quot;30097&quot;,&quot;GeoMarket_Code&quot;:null,&quot;GeoMarket&quot;:null,&quot;Address_Activity_Date&quot;:&quot;2020-05-11&quot;,&quot;Institution_Activity_Date&quot;:&quot;2020-05-11&quot;,&quot;SUDS_Institution_Code&quot;:null,&quot;SUDS_Institution_State&quot;:null,&quot;BOG_Institution_Code&quot;:null,&quot;Florida_Public_Inst_Code&quot;:null}]</td></tr><tr><td>78415</td><td>2020-06-12 10:14:00.653</td><td>3</td><td>IR</td><td>Dim Update LocalDims</td><td>dimAcademicInstitution</td><td>SUDS_Institution_Code</td><td>NULL</td><td>39288</td><td>[{&quot;Academic_Institution_SK&quot;:39288,&quot;Institution_Code&quot;:&quot;111496&quot;,&quot;Institution_Type_Code&quot;:&quot;H&quot;,&quot;Recruiting_Source_Indicator&quot;:&quot;Y&quot;,&quot;Institution_Name&quot;:&quot;Lake Oconee Academy&quot;,&quot;Institution_FICE_Code&quot;:&quot;111496&quot;,&quot;EDI_Capable_Indicator&quot;:&quot;N&quot;,&quot;Address_Line1&quot;:&quot;1021 Titan Cir&quot;,&quot;Address_Line2&quot;:null,&quot;Address_Line3&quot;:null,&quot;Combined_Street_Address&quot;:&quot;1021 Titan Cir&quot;,&quot;Address_City&quot;:&quot;Greensboro&quot;,&quot;Address_State_Code&quot;:&quot;GA&quot;,&quot;Address_State&quot;:&quot;Georgia&quot;,&quot;Address_County_Code&quot;:&quot;UNK&quot;,&quot;Address_County&quot;:&quot;Unknown&quot;,&quot;Address_Zip&quot;:&quot;30642&quot;,&quot;GeoMarket_Code&quot;:null,&quot;GeoMarket&quot;:null,&quot;Address_Activity_Date&quot;:&quot;2020-05-11&quot;,&quot;Institution_Activity_Date&quot;:&quot;2020-05-11&quot;,&quot;SUDS_Institution_Code&quot;:null,&quot;SUDS_Institution_State&quot;:null,&quot;BOG_Institution_Code&quot;:null,&quot;Florida_Public_Inst_Code&quot;:null}]</td></tr><tr><td>78416</td><td>2020-06-12 10:14:00.653</td><td>3</td><td>IR</td><td>Dim Update LocalDims</td><td>dimAcademicInstitution</td><td>SUDS_Institution_Code</td><td>NULL</td><td>39289</td><td>[{&quot;Academic_Institution_SK&quot;:39289,&quot;Institution_Code&quot;:&quot;111528&quot;,&quot;Institution_Type_Code&quot;:&quot;H&quot;,&quot;Recruiting_Source_Indicator&quot;:&quot;Y&quot;,&quot;Institution_Name&quot;:&quot;Grovetown High School&quot;,&quot;Institution_FICE_Code&quot;:&quot;111528&quot;,&quot;EDI_Capable_Indicator&quot;:&quot;N&quot;,&quot;Address_Line1&quot;:&quot;2010 Warrior Way&quot;,&quot;Address_Line2&quot;:null,&quot;Address_Line3&quot;:null,&quot;Combined_Street_Address&quot;:&quot;2010 Warrior Way&quot;,&quot;Address_City&quot;:&quot;Grovetown&quot;,&quot;Address_State_Code&quot;:&quot;GA&quot;,&quot;Address_State&quot;:&quot;Georgia&quot;,&quot;Address_County_Code&quot;:&quot;UNK&quot;,&quot;Address_County&quot;:&quot;Unknown&quot;,&quot;Address_Zip&quot;:&quot;30813&quot;,&quot;GeoMarket_Code&quot;:null,&quot;GeoMarket&quot;:null,&quot;Address_Activity_Date&quot;:&quot;2020-05-11&quot;,&quot;Institution_Activity_Date&quot;:&quot;2020-05-11&quot;,&quot;SUDS_Institution_Code&quot;:null,&quot;SUDS_Institution_State&quot;:null,&quot;BOG_Institution_Code&quot;:null,&quot;Florida_Public_Inst_Code&quot;:null}]</td></tr><tr><td>78417</td><td>2020-06-12 10:14:00.653</td><td>3</td><td>IR</td><td>Dim Update LocalDims</td><td>dimAcademicInstitution</td><td>SUDS_Institution_Code</td><td>NULL</td><td>39290</td><td>[{&quot;Academic_Institution_SK&quot;:39290,&quot;Institution_Code&quot;:&quot;111722&quot;,&quot;Institution_Type_Code&quot;:&quot;H&quot;,&quot;Recruiting_Source_Indicator&quot;:&quot;Y&quot;,&quot;Institution_Name&quot;:&quot;Elite Scholars Academy&quot;,&quot;Institution_FICE_Code&quot;:&quot;111722&quot;,&quot;EDI_Capable_Indicator&quot;:&quot;N&quot;,&quot;Address_Line1&quot;:&quot;7923 Fielder Rd&quot;,&quot;Address_Line2&quot;:null,&quot;Address_Line3&quot;:null,&quot;Combined_Street_Address&quot;:&quot;7923 Fielder Rd&quot;,&quot;Address_City&quot;:&quot;Jonesboro&quot;,&quot;Address_State_Code&quot;:&quot;GA&quot;,&quot;Address_State&quot;:&quot;Georgia&quot;,&quot;Address_County_Code&quot;:&quot;UNK&quot;,&quot;Address_County&quot;:&quot;Unknown&quot;,&quot;Address_Zip&quot;:&quot;30236&quot;,&quot;GeoMarket_Code&quot;:null,&quot;GeoMarket&quot;:null,&quot;Address_Activity_Date&quot;:&quot;2020-05-11&quot;,&quot;Institution_Activity_Date&quot;:&quot;2020-05-11&quot;,&quot;SUDS_Institution_Code&quot;:null,&quot;SUDS_Institution_State&quot;:null,&quot;BOG_Institution_Code&quot;:null,&quot;Florida_Public_Inst_Code&quot;:null}]</td></tr><tr><td>78418</td><td>2020-06-12 10:14:00.653</td><td>3</td><td>IR</td><td>Dim Update LocalDims</td><td>dimAcademicInstitution</td><td>SUDS_Institution_Code</td><td>NULL</td><td>39291</td><td>[{&quot;Academic_Institution_SK&quot;:39291,&quot;Institution_Code&quot;:&quot;111743&quot;,&quot;Institution_Type_Code&quot;:&quot;H&quot;,&quot;Recruiting_Source_Indicator&quot;:&quot;Y&quot;,&quot;Institution_Name&quot;:&quot;Martha Ellen Stilwell Sch of A&quot;,&quot;Institution_FICE_Code&quot;:&quot;111743&quot;,&quot;EDI_Capable_Indicator&quot;:&quot;N&quot;,&quot;Address_Line1&quot;:&quot;2580 Mt Zion Pkwy&quot;,&quot;Address_Line2&quot;:null,&quot;Address_Line3&quot;:null,&quot;Combined_Street_Address&quot;:&quot;2580 Mt Zion Pkwy&quot;,&quot;Address_City&quot;:&quot;Jonesboro&quot;,&quot;Address_State_Code&quot;:&quot;GA&quot;,&quot;Address_State&quot;:&quot;Georgia&quot;,&quot;Address_County_Code&quot;:&quot;UNK&quot;,&quot;Address_County&quot;:&quot;Unknown&quot;,&quot;Address_Zip&quot;:&quot;30236&quot;,&quot;GeoMarket_Code&quot;:null,&quot;GeoMarket&quot;:null,&quot;Address_Activity_Date&quot;:&quot;2020-05-11&quot;,&quot;Institution_Activity_Date&quot;:&quot;2020-05-11&quot;,&quot;SUDS_Institution_Code&quot;:null,&quot;SUDS_Institution_State&quot;:null,&quot;BOG_Institution_Code&quot;:null,&quot;Florida_Public_Inst_Code&quot;:null}]</td></tr><tr><td>78419</td><td>2020-06-12 10:14:00.653</td><td>3</td><td>IR</td><td>Dim Update LocalDims</td><td>dimAcademicInstitution</td><td>SUDS_Institution_Code</td><td>NULL</td><td>39292</td><td>[{&quot;Academic_Institution_SK&quot;:39292,&quot;Institution_Code&quot;:&quot;111869&quot;,&quot;Institution_Type_Code&quot;:&quot;H&quot;,&quot;Recruiting_Source_Indicator&quot;:&quot;Y&quot;,&quot;Institution_Name&quot;:&quot;Locust Grove High School&quot;,&quot;Institution_FICE_Code&quot;:&quot;111869&quot;,&quot;EDI_Capable_Indicator&quot;:&quot;N&quot;,&quot;Address_Line1&quot;:&quot;3275 S Ola Rd&quot;,&quot;Address_Line2&quot;:null,&quot;Address_Line3&quot;:null,&quot;Combined_Street_Address&quot;:&quot;3275 S Ola Rd&quot;,&quot;Address_City&quot;:&quot;Locust Grove&quot;,&quot;Address_State_Code&quot;:&quot;GA&quot;,&quot;Address_State&quot;:&quot;Georgia&quot;,&quot;Address_County_Code&quot;:&quot;UNK&quot;,&quot;Address_County&quot;:&quot;Unknown&quot;,&quot;Address_Zip&quot;:&quot;30248&quot;,&quot;GeoMarket_Code&quot;:null,&quot;GeoMarket&quot;:null,&quot;Address_Activity_Date&quot;:&quot;2020-05-11&quot;,&quot;Institution_Activity_Date&quot;:&quot;2020-05-11&quot;,&quot;SUDS_Institution_Code&quot;:null,&quot;SUDS_Institution_State&quot;:null,&quot;BOG_Institution_Code&quot;:null,&quot;Florida_Public_Inst_Code&quot;:null}]</td></tr><tr><td>78420</td><td>2020-06-12 10:14:00.653</td><td>3</td><td>IR</td><td>Dim Update LocalDims</td><td>dimAcademicInstitution</td><td>SUDS_Institution_Code</td><td>NULL</td><td>39293</td><td>[{&quot;Academic_Institution_SK&quot;:39293,&quot;Institution_Code&quot;:&quot;112016&quot;,&quot;Institution_Type_Code&quot;:&quot;H&quot;,&quot;Recruiting_Source_Indicator&quot;:&quot;Y&quot;,&quot;Institution_Name&quot;:&quot;Academy for Classical Educatio&quot;,&quot;Institution_FICE_Code&quot;:&quot;112016&quot;,&quot;EDI_Capable_Indicator&quot;:&quot;N&quot;,&quot;Address_Line1&quot;:&quot;5665 New Forsyth Rd&quot;,&quot;Address_Line2&quot;:null,&quot;Address_Line3&quot;:null,&quot;Combined_Street_Address&quot;:&quot;5665 New Forsyth Rd&quot;,&quot;Address_City&quot;:&quot;Macon&quot;,&quot;Address_State_Code&quot;:&quot;GA&quot;,&quot;Address_State&quot;:&quot;Georgia&quot;,&quot;Address_County_Code&quot;:&quot;UNK&quot;,&quot;Address_County&quot;:&quot;Unknown&quot;,&quot;Address_Zip&quot;:&quot;31210&quot;,&quot;GeoMarket_Code&quot;:null,&quot;GeoMarket&quot;:null,&quot;Address_Activity_Date&quot;:&quot;2020-05-11&quot;,&quot;Institution_Activity_Date&quot;:&quot;2020-05-11&quot;,&quot;SUDS_Institution_Code&quot;:null,&quot;SUDS_Institution_State&quot;:null,&quot;BOG_Institution_Code&quot;:null,&quot;Florida_Public_Inst_Code&quot;:null}]</td></tr><tr><td>78421</td><td>2020-06-12 10:14:00.653</td><td>3</td><td>IR</td><td>Dim Update LocalDims</td><td>dimAcademicInstitution</td><td>SUDS_Institution_Code</td><td>NULL</td><td>24855</td><td>[{&quot;Academic_Institution_SK&quot;:24855,&quot;Institution_Code&quot;:&quot;3442&quot;,&quot;Institution_Type_Code&quot;:&quot;C&quot;,&quot;Recruiting_Source_Indicator&quot;:&quot;Y&quot;,&quot;Institution_Name&quot;:&quot;Harvard University&quot;,&quot;Institution_FICE_Code&quot;:&quot;002155&quot;,&quot;EDI_Capable_Indicator&quot;:&quot;N&quot;,&quot;Address_Line1&quot;:&quot;1350 Mass Ave Rm 458&quot;,&quot;Address_Line2&quot;:null,&quot;Address_Line3&quot;:null,&quot;Combined_Street_Address&quot;:&quot;1350 Mass Ave Rm 458  &quot;,&quot;Address_City&quot;:&quot;Cambridge&quot;,&quot;Address_State_Code&quot;:&quot;MA&quot;,&quot;Address_State&quot;:&quot;Massachusetts&quot;,&quot;Address_County_Code&quot;:&quot;UNK&quot;,&quot;Address_County&quot;:&quot;Unknown&quot;,&quot;Address_Zip&quot;:&quot;02138&quot;,&quot;GeoMarket_Code&quot;:null,&quot;GeoMarket&quot;:null,&quot;Address_Activity_Date&quot;:&quot;2004-10-20&quot;,&quot;Institution_Activity_Date&quot;:&quot;2004-10-20&quot;,&quot;SUDS_Institution_Code&quot;:null,&quot;SUDS_Institution_State&quot;:null,&quot;BOG_Institution_Code&quot;:null,&quot;Florida_Public_Inst_Code&quot;:null}]</td></tr><tr><td>78422</td><td>2020-06-12 10:14:00.653</td><td>3</td><td>IR</td><td>Dim Update LocalDims</td><td>dimAcademicInstitution</td><td>SUDS_Institution_Code</td><td>NULL</td><td>0</td><td>[{&quot;Academic_Institution_SK&quot;:0,&quot;Institution_Code&quot;:&quot;000000&quot;,&quot;Institution_Type_Code&quot;:&quot;X&quot;,&quot;Recruiting_Source_Indicator&quot;:&quot;X&quot;,&quot;Institution_Name&quot;:&quot;Unknown HS&quot;,&quot;Institution_FICE_Code&quot;:&quot;000000&quot;,&quot;EDI_Capable_Indicator&quot;:&quot;X&quot;,&quot;Address_Line1&quot;:&quot;Unknown&quot;,&quot;Address_Line2&quot;:null,&quot;Address_Line3&quot;:null,&quot;Combined_Street_Address&quot;:&quot;Unknown&quot;,&quot;Address_City&quot;:&quot;Unknown&quot;,&quot;Address_State_Code&quot;:&quot;UNK&quot;,&quot;Address_State&quot;:&quot;Unknown&quot;,&quot;Address_County_Code&quot;:&quot;UNK&quot;,&quot;Address_County&quot;:&quot;Unknown&quot;,&quot;Address_Zip&quot;:&quot;XXXXX&quot;,&quot;GeoMarket_Code&quot;:null,&quot;GeoMarket&quot;:null,&quot;Address_Activity_Date&quot;:&quot;1900-01-01&quot;,&quot;Institution_Activity_Date&quot;:&quot;1900-01-01&quot;,&quot;SUDS_Institution_Code&quot;:null,&quot;SUDS_Institution_State&quot;:null,&quot;BOG_Institution_Code&quot;:null,&quot;Florida_Public_Inst_Code&quot;:null}]</td></tr><tr><td>78423</td><td>2020-06-12 10:14:00.653</td><td>3</td><td>IR</td><td>Dim Update LocalDims</td><td>dimAcademicInstitution</td><td>SUDS_Institution_Code</td><td>NULL</td><td>38245</td><td>[{&quot;Academic_Institution_SK&quot;:38245,&quot;Institution_Code&quot;:&quot;EXCLSR&quot;,&quot;Institution_Type_Code&quot;:&quot;C&quot;,&quot;Recruiting_Source_Indicator&quot;:&quot;Y&quot;,&quot;Institution_Name&quot;:&quot;Excelsior Coll\\/UEXCEL&quot;,&quot;Institution_FICE_Code&quot;:null,&quot;EDI_Capable_Indicator&quot;:&quot;N&quot;,&quot;Address_Line1&quot;:&quot;7 Columbia Circle&quot;,&quot;Address_Line2&quot;:null,&quot;Address_Line3&quot;:null,&quot;Combined_Street_Address&quot;:&quot;7 Columbia Circle  &quot;,&quot;Address_City&quot;:&quot;Albany&quot;,&quot;Address_State_Code&quot;:&quot;NY&quot;,&quot;Address_State&quot;:&quot;New York&quot;,&quot;Address_County_Code&quot;:&quot;UNK&quot;,&quot;Address_County&quot;:&quot;Unknown&quot;,&quot;Address_Zip&quot;:&quot;12203-5159&quot;,&quot;GeoMarket_Code&quot;:&quot;US-NE&quot;,&quot;GeoMarket&quot;:&quot;US: Northeast&quot;,&quot;Address_Activity_Date&quot;:&quot;2013-09-03&quot;,&quot;Institution_Activity_Date&quot;:&quot;2013-09-03&quot;,&quot;SUDS_Institution_Code&quot;:null,&quot;SUDS_Institution_State&quot;:null,&quot;BOG_Institution_Code&quot;:null,&quot;Florida_Public_Inst_Code&quot;:null}]</td></tr><tr><td>78976</td><td>2020-06-12 12:42:57.840</td><td>3</td><td>IR</td><td>Dim Update LocalDims</td><td>dimAcademicInstitution</td><td>SUDS_Institution_Code</td><td>NULL</td><td>39288</td><td>[{&quot;Academic_Institution_SK&quot;:39288,&quot;Institution_Code&quot;:&quot;111496&quot;,&quot;Institution_Type_Code&quot;:&quot;H&quot;,&quot;Recruiting_Source_Indicator&quot;:&quot;Y&quot;,&quot;Institution_Name&quot;:&quot;Lake Oconee Academy&quot;,&quot;Institution_FICE_Code&quot;:&quot;111496&quot;,&quot;EDI_Capable_Indicator&quot;:&quot;N&quot;,&quot;Address_Line1&quot;:&quot;1021 Titan Cir&quot;,&quot;Address_Line2&quot;:null,&quot;Address_Line3&quot;:null,&quot;Combined_Street_Address&quot;:&quot;1021 Titan Cir&quot;,&quot;Address_City&quot;:&quot;Greensboro&quot;,&quot;Address_State_Code&quot;:&quot;GA&quot;,&quot;Address_State&quot;:&quot;Georgia&quot;,&quot;Address_County_Code&quot;:&quot;UNK&quot;,&quot;Address_County&quot;:&quot;Unknown&quot;,&quot;Address_Zip&quot;:&quot;30642&quot;,&quot;GeoMarket_Code&quot;:null,&quot;GeoMarket&quot;:null,&quot;Address_Activity_Date&quot;:&quot;2020-05-11&quot;,&quot;Institution_Activity_Date&quot;:&quot;2020-05-11&quot;,&quot;SUDS_Institution_Code&quot;:null,&quot;SUDS_Institution_State&quot;:null,&quot;BOG_Institution_Code&quot;:null,&quot;Florida_Public_Inst_Code&quot;:null}]</td></tr><tr><td>78977</td><td>2020-06-12 12:42:57.840</td><td>3</td><td>IR</td><td>Dim Update LocalDims</td><td>dimAcademicInstitution</td><td>SUDS_Institution_Code</td><td>NULL</td><td>39289</td><td>[{&quot;Academic_Institution_SK&quot;:39289,&quot;Institution_Code&quot;:&quot;111528&quot;,&quot;Institution_Type_Code&quot;:&quot;H&quot;,&quot;Recruiting_Source_Indicator&quot;:&quot;Y&quot;,&quot;Institution_Name&quot;:&quot;Grovetown High School&quot;,&quot;Institution_FICE_Code&quot;:&quot;111528&quot;,&quot;EDI_Capable_Indicator&quot;:&quot;N&quot;,&quot;Address_Line1&quot;:&quot;2010 Warrior Way&quot;,&quot;Address_Line2&quot;:null,&quot;Address_Line3&quot;:null,&quot;Combined_Street_Address&quot;:&quot;2010 Warrior Way&quot;,&quot;Address_City&quot;:&quot;Grovetown&quot;,&quot;Address_State_Code&quot;:&quot;GA&quot;,&quot;Address_State&quot;:&quot;Georgia&quot;,&quot;Address_County_Code&quot;:&quot;UNK&quot;,&quot;Address_County&quot;:&quot;Unknown&quot;,&quot;Address_Zip&quot;:&quot;30813&quot;,&quot;GeoMarket_Code&quot;:null,&quot;GeoMarket&quot;:null,&quot;Address_Activity_Date&quot;:&quot;2020-05-11&quot;,&quot;Institution_Activity_Date&quot;:&quot;2020-05-11&quot;,&quot;SUDS_Institution_Code&quot;:null,&quot;SUDS_Institution_State&quot;:null,&quot;BOG_Institution_Code&quot;:null,&quot;Florida_Public_Inst_Code&quot;:null}]</td></tr><tr><td>78978</td><td>2020-06-12 12:42:57.840</td><td>3</td><td>IR</td><td>Dim Update LocalDims</td><td>dimAcademicInstitution</td><td>SUDS_Institution_Code</td><td>NULL</td><td>39290</td><td>[{&quot;Academic_Institution_SK&quot;:39290,&quot;Institution_Code&quot;:&quot;111722&quot;,&quot;Institution_Type_Code&quot;:&quot;H&quot;,&quot;Recruiting_Source_Indicator&quot;:&quot;Y&quot;,&quot;Institution_Name&quot;:&quot;Elite Scholars Academy&quot;,&quot;Institution_FICE_Code&quot;:&quot;111722&quot;,&quot;EDI_Capable_Indicator&quot;:&quot;N&quot;,&quot;Address_Line1&quot;:&quot;7923 Fielder Rd&quot;,&quot;Address_Line2&quot;:null,&quot;Address_Line3&quot;:null,&quot;Combined_Street_Address&quot;:&quot;7923 Fielder Rd&quot;,&quot;Address_City&quot;:&quot;Jonesboro&quot;,&quot;Address_State_Code&quot;:&quot;GA&quot;,&quot;Address_State&quot;:&quot;Georgia&quot;,&quot;Address_County_Code&quot;:&quot;UNK&quot;,&quot;Address_County&quot;:&quot;Unknown&quot;,&quot;Address_Zip&quot;:&quot;30236&quot;,&quot;GeoMarket_Code&quot;:null,&quot;GeoMarket&quot;:null,&quot;Address_Activity_Date&quot;:&quot;2020-05-11&quot;,&quot;Institution_Activity_Date&quot;:&quot;2020-05-11&quot;,&quot;SUDS_Institution_Code&quot;:null,&quot;SUDS_Institution_State&quot;:null,&quot;BOG_Institution_Code&quot;:null,&quot;Florida_Public_Inst_Code&quot;:null}]</td></tr><tr><td>78979</td><td>2020-06-12 12:42:57.840</td><td>3</td><td>IR</td><td>Dim Update LocalDims</td><td>dimAcademicInstitution</td><td>SUDS_Institution_Code</td><td>NULL</td><td>39291</td><td>[{&quot;Academic_Institution_SK&quot;:39291,&quot;Institution_Code&quot;:&quot;111743&quot;,&quot;Institution_Type_Code&quot;:&quot;H&quot;,&quot;Recruiting_Source_Indicator&quot;:&quot;Y&quot;,&quot;Institution_Name&quot;:&quot;Martha Ellen Stilwell Sch of A&quot;,&quot;Institution_FICE_Code&quot;:&quot;111743&quot;,&quot;EDI_Capable_Indicator&quot;:&quot;N&quot;,&quot;Address_Line1&quot;:&quot;2580 Mt Zion Pkwy&quot;,&quot;Address_Line2&quot;:null,&quot;Address_Line3&quot;:null,&quot;Combined_Street_Address&quot;:&quot;2580 Mt Zion Pkwy&quot;,&quot;Address_City&quot;:&quot;Jonesboro&quot;,&quot;Address_State_Code&quot;:&quot;GA&quot;,&quot;Address_State&quot;:&quot;Georgia&quot;,&quot;Address_County_Code&quot;:&quot;UNK&quot;,&quot;Address_County&quot;:&quot;Unknown&quot;,&quot;Address_Zip&quot;:&quot;30236&quot;,&quot;GeoMarket_Code&quot;:null,&quot;GeoMarket&quot;:null,&quot;Address_Activity_Date&quot;:&quot;2020-05-11&quot;,&quot;Institution_Activity_Date&quot;:&quot;2020-05-11&quot;,&quot;SUDS_Institution_Code&quot;:null,&quot;SUDS_Institution_State&quot;:null,&quot;BOG_Institution_Code&quot;:null,&quot;Florida_Public_Inst_Code&quot;:null}]</td></tr><tr><td>78980</td><td>2020-06-12 12:42:57.840</td><td>3</td><td>IR</td><td>Dim Update LocalDims</td><td>dimAcademicInstitution</td><td>SUDS_Institution_Code</td><td>NULL</td><td>39292</td><td>[{&quot;Academic_Institution_SK&quot;:39292,&quot;Institution_Code&quot;:&quot;111869&quot;,&quot;Institution_Type_Code&quot;:&quot;H&quot;,&quot;Recruiting_Source_Indicator&quot;:&quot;Y&quot;,&quot;Institution_Name&quot;:&quot;Locust Grove High School&quot;,&quot;Institution_FICE_Code&quot;:&quot;111869&quot;,&quot;EDI_Capable_Indicator&quot;:&quot;N&quot;,&quot;Address_Line1&quot;:&quot;3275 S Ola Rd&quot;,&quot;Address_Line2&quot;:null,&quot;Address_Line3&quot;:null,&quot;Combined_Street_Address&quot;:&quot;3275 S Ola Rd&quot;,&quot;Address_City&quot;:&quot;Locust Grove&quot;,&quot;Address_State_Code&quot;:&quot;GA&quot;,&quot;Address_State&quot;:&quot;Georgia&quot;,&quot;Address_County_Code&quot;:&quot;UNK&quot;,&quot;Address_County&quot;:&quot;Unknown&quot;,&quot;Address_Zip&quot;:&quot;30248&quot;,&quot;GeoMarket_Code&quot;:null,&quot;GeoMarket&quot;:null,&quot;Address_Activity_Date&quot;:&quot;2020-05-11&quot;,&quot;Institution_Activity_Date&quot;:&quot;2020-05-11&quot;,&quot;SUDS_Institution_Code&quot;:null,&quot;SUDS_Institution_State&quot;:null,&quot;BOG_Institution_Code&quot;:null,&quot;Florida_Public_Inst_Code&quot;:null}]</td></tr><tr><td>78981</td><td>2020-06-12 12:42:57.840</td><td>3</td><td>IR</td><td>Dim Update LocalDims</td><td>dimAcademicInstitution</td><td>SUDS_Institution_Code</td><td>NULL</td><td>39293</td><td>[{&quot;Academic_Institution_SK&quot;:39293,&quot;Institution_Code&quot;:&quot;112016&quot;,&quot;Institution_Type_Code&quot;:&quot;H&quot;,&quot;Recruiting_Source_Indicator&quot;:&quot;Y&quot;,&quot;Institution_Name&quot;:&quot;Academy for Classical Educatio&quot;,&quot;Institution_FICE_Code&quot;:&quot;112016&quot;,&quot;EDI_Capable_Indicator&quot;:&quot;N&quot;,&quot;Address_Line1&quot;:&quot;5665 New Forsyth Rd&quot;,&quot;Address_Line2&quot;:null,&quot;Address_Line3&quot;:null,&quot;Combined_Street_Address&quot;:&quot;5665 New Forsyth Rd&quot;,&quot;Address_City&quot;:&quot;Macon&quot;,&quot;Address_State_Code&quot;:&quot;GA&quot;,&quot;Address_State&quot;:&quot;Georgia&quot;,&quot;Address_County_Code&quot;:&quot;UNK&quot;,&quot;Address_County&quot;:&quot;Unknown&quot;,&quot;Address_Zip&quot;:&quot;31210&quot;,&quot;GeoMarket_Code&quot;:null,&quot;GeoMarket&quot;:null,&quot;Address_Activity_Date&quot;:&quot;2020-05-11&quot;,&quot;Institution_Activity_Date&quot;:&quot;2020-05-11&quot;,&quot;SUDS_Institution_Code&quot;:null,&quot;SUDS_Institution_State&quot;:null,&quot;BOG_Institution_Code&quot;:null,&quot;Florida_Public_Inst_Code&quot;:null}]</td></tr><tr><td>78982</td><td>2020-06-12 12:42:57.840</td><td>3</td><td>IR</td><td>Dim Update LocalDims</td><td>dimAcademicInstitution</td><td>SUDS_Institution_Code</td><td>NULL</td><td>24855</td><td>[{&quot;Academic_Institution_SK&quot;:24855,&quot;Institution_Code&quot;:&quot;3442&quot;,&quot;Institution_Type_Code&quot;:&quot;C&quot;,&quot;Recruiting_Source_Indicator&quot;:&quot;Y&quot;,&quot;Institution_Name&quot;:&quot;Harvard University&quot;,&quot;Institution_FICE_Code&quot;:&quot;002155&quot;,&quot;EDI_Capable_Indicator&quot;:&quot;N&quot;,&quot;Address_Line1&quot;:&quot;1350 Mass Ave Rm 458&quot;,&quot;Address_Line2&quot;:null,&quot;Address_Line3&quot;:null,&quot;Combined_Street_Address&quot;:&quot;1350 Mass Ave Rm 458  &quot;,&quot;Address_City&quot;:&quot;Cambridge&quot;,&quot;Address_State_Code&quot;:&quot;MA&quot;,&quot;Address_State&quot;:&quot;Massachusetts&quot;,&quot;Address_County_Code&quot;:&quot;UNK&quot;,&quot;Address_County&quot;:&quot;Unknown&quot;,&quot;Address_Zip&quot;:&quot;02138&quot;,&quot;GeoMarket_Code&quot;:null,&quot;GeoMarket&quot;:null,&quot;Address_Activity_Date&quot;:&quot;2004-10-20&quot;,&quot;Institution_Activity_Date&quot;:&quot;2004-10-20&quot;,&quot;SUDS_Institution_Code&quot;:null,&quot;SUDS_Institution_State&quot;:null,&quot;BOG_Institution_Code&quot;:null,&quot;Florida_Public_Inst_Code&quot;:null}]</td></tr><tr><td>78983</td><td>2020-06-12 12:42:57.840</td><td>3</td><td>IR</td><td>Dim Update LocalDims</td><td>dimAcademicInstitution</td><td>SUDS_Institution_Code</td><td>NULL</td><td>0</td><td>[{&quot;Academic_Institution_SK&quot;:0,&quot;Institution_Code&quot;:&quot;000000&quot;,&quot;Institution_Type_Code&quot;:&quot;X&quot;,&quot;Recruiting_Source_Indicator&quot;:&quot;X&quot;,&quot;Institution_Name&quot;:&quot;Unknown HS&quot;,&quot;Institution_FICE_Code&quot;:&quot;000000&quot;,&quot;EDI_Capable_Indicator&quot;:&quot;X&quot;,&quot;Address_Line1&quot;:&quot;Unknown&quot;,&quot;Address_Line2&quot;:null,&quot;Address_Line3&quot;:null,&quot;Combined_Street_Address&quot;:&quot;Unknown&quot;,&quot;Address_City&quot;:&quot;Unknown&quot;,&quot;Address_State_Code&quot;:&quot;UNK&quot;,&quot;Address_State&quot;:&quot;Unknown&quot;,&quot;Address_County_Code&quot;:&quot;UNK&quot;,&quot;Address_County&quot;:&quot;Unknown&quot;,&quot;Address_Zip&quot;:&quot;XXXXX&quot;,&quot;GeoMarket_Code&quot;:null,&quot;GeoMarket&quot;:null,&quot;Address_Activity_Date&quot;:&quot;1900-01-01&quot;,&quot;Institution_Activity_Date&quot;:&quot;1900-01-01&quot;,&quot;SUDS_Institution_Code&quot;:null,&quot;SUDS_Institution_State&quot;:null,&quot;BOG_Institution_Code&quot;:null,&quot;Florida_Public_Inst_Code&quot;:null}]</td></tr><tr><td>78984</td><td>2020-06-12 12:42:57.840</td><td>3</td><td>IR</td><td>Dim Update LocalDims</td><td>dimAcademicInstitution</td><td>SUDS_Institution_Code</td><td>NULL</td><td>38245</td><td>[{&quot;Academic_Institution_SK&quot;:38245,&quot;Institution_Code&quot;:&quot;EXCLSR&quot;,&quot;Institution_Type_Code&quot;:&quot;C&quot;,&quot;Recruiting_Source_Indicator&quot;:&quot;Y&quot;,&quot;Institution_Name&quot;:&quot;Excelsior Coll\\/UEXCEL&quot;,&quot;Institution_FICE_Code&quot;:null,&quot;EDI_Capable_Indicator&quot;:&quot;N&quot;,&quot;Address_Line1&quot;:&quot;7 Columbia Circle&quot;,&quot;Address_Line2&quot;:null,&quot;Address_Line3&quot;:null,&quot;Combined_Street_Address&quot;:&quot;7 Columbia Circle  &quot;,&quot;Address_City&quot;:&quot;Albany&quot;,&quot;Address_State_Code&quot;:&quot;NY&quot;,&quot;Address_State&quot;:&quot;New York&quot;,&quot;Address_County_Code&quot;:&quot;UNK&quot;,&quot;Address_County&quot;:&quot;Unknown&quot;,&quot;Address_Zip&quot;:&quot;12203-5159&quot;,&quot;GeoMarket_Code&quot;:&quot;US-NE&quot;,&quot;GeoMarket&quot;:&quot;US: Northeast&quot;,&quot;Address_Activity_Date&quot;:&quot;2013-09-03&quot;,&quot;Institution_Activity_Date&quot;:&quot;2013-09-03&quot;,&quot;SUDS_Institution_Code&quot;:null,&quot;SUDS_Institution_State&quot;:null,&quot;BOG_Institution_Code&quot;:null,&quot;Florida_Public_Inst_Code&quot;:null}]</td></tr><tr><td>78985</td><td>2020-06-12 12:42:57.840</td><td>3</td><td>IR</td><td>Dim Update LocalDims</td><td>dimAcademicInstitution</td><td>SUDS_Institution_Code</td><td>NULL</td><td>38351</td><td>[{&quot;Academic_Institution_SK&quot;:38351,&quot;Institution_Code&quot;:&quot;Z088&quot;,&quot;Institution_Type_Code&quot;:&quot;C&quot;,&quot;Recruiting_Source_Indicator&quot;:&quot;N&quot;,&quot;Institution_Name&quot;:&quot;Albany Medical College&quot;,&quot;Institution_FICE_Code&quot;:null,&quot;EDI_Capable_Indicator&quot;:&quot;N&quot;,&quot;Address_Line1&quot;:&quot;47 NEW SCOTLAND AVE&quot;,&quot;Address_Line2&quot;:null,&quot;Address_Line3&quot;:null,&quot;Combined_Street_Address&quot;:&quot;47 NEW SCOTLAND AVE  &quot;,&quot;Address_City&quot;:&quot;Albany&quot;,&quot;Address_State_Code&quot;:&quot;NY&quot;,&quot;Address_State&quot;:&quot;New York&quot;,&quot;Address_County_Code&quot;:&quot;UNK&quot;,&quot;Address_County&quot;:&quot;Unknown&quot;,&quot;Address_Zip&quot;:&quot;12208&quot;,&quot;GeoMarket_Code&quot;:&quot;US-NE&quot;,&quot;GeoMarket&quot;:&quot;US: Northeast&quot;,&quot;Address_Activity_Date&quot;:&quot;2010-03-11&quot;,&quot;Institution_Activity_Date&quot;:&quot;2010-03-11&quot;,&quot;SUDS_Institution_Code&quot;:null,&quot;SUDS_Institution_State&quot;:null,&quot;BOG_Institution_Code&quot;:null,&quot;Florida_Public_Inst_Code&quot;:null}]</td></tr><tr><td>78986</td><td>2020-06-12 12:42:57.840</td><td>3</td><td>IR</td><td>Dim Update LocalDims</td><td>dimAcademicInstitution</td><td>SUDS_Institution_Code</td><td>NULL</td><td>39294</td><td>[{&quot;Academic_Institution_SK&quot;:39294,&quot;Institution_Code&quot;:&quot;113093&quot;,&quot;Institution_Type_Code&quot;:&quot;H&quot;,&quot;Recruiting_Source_Indicator&quot;:&quot;Y&quot;,&quot;Institution_Name&quot;:&quot;Valdosta Early College Academy&quot;,&quot;Institution_FICE_Code&quot;:&quot;113093&quot;,&quot;EDI_Capable_Indicator&quot;:&quot;N&quot;,&quot;Address_Line1&quot;:&quot;1605 Azalea Dr #2471&quot;,&quot;Address_Line2&quot;:null,&quot;Address_Line3&quot;:null,&quot;Combined_Street_Address&quot;:&quot;1605 Azalea Dr #2471&quot;,&quot;Address_City&quot;:&quot;Valdosta&quot;,&quot;Address_State_Code&quot;:&quot;GA&quot;,&quot;Address_State&quot;:&quot;Georgia&quot;,&quot;Address_County_Code&quot;:&quot;UNK&quot;,&quot;Address_County&quot;:&quot;Unknown&quot;,&quot;Address_Zip&quot;:&quot;31602&quot;,&quot;GeoMarket_Code&quot;:null,&quot;GeoMarket&quot;:null,&quot;Address_Activity_Date&quot;:&quot;2020-05-11&quot;,&quot;Institution_Activity_Date&quot;:&quot;2020-05-11&quot;,&quot;SUDS_Institution_Code&quot;:null,&quot;SUDS_Institution_State&quot;:null,&quot;BOG_Institution_Code&quot;:null,&quot;Florida_Public_Inst_Code&quot;:null}]</td></tr><tr><td>78424</td><td>2020-06-12 10:14:00.653</td><td>3</td><td>IR</td><td>Dim Update LocalDims</td><td>dimAcademicInstitution</td><td>SUDS_Institution_Code</td><td>NULL</td><td>38351</td><td>[{&quot;Academic_Institution_SK&quot;:38351,&quot;Institution_Code&quot;:&quot;Z088&quot;,&quot;Institution_Type_Code&quot;:&quot;C&quot;,&quot;Recruiting_Source_Indicator&quot;:&quot;N&quot;,&quot;Institution_Name&quot;:&quot;Albany Medical College&quot;,&quot;Institution_FICE_Code&quot;:null,&quot;EDI_Capable_Indicator&quot;:&quot;N&quot;,&quot;Address_Line1&quot;:&quot;47 NEW SCOTLAND AVE&quot;,&quot;Address_Line2&quot;:null,&quot;Address_Line3&quot;:null,&quot;Combined_Street_Address&quot;:&quot;47 NEW SCOTLAND AVE  &quot;,&quot;Address_City&quot;:&quot;Albany&quot;,&quot;Address_State_Code&quot;:&quot;NY&quot;,&quot;Address_State&quot;:&quot;New York&quot;,&quot;Address_County_Code&quot;:&quot;UNK&quot;,&quot;Address_County&quot;:&quot;Unknown&quot;,&quot;Address_Zip&quot;:&quot;12208&quot;,&quot;GeoMarket_Code&quot;:&quot;US-NE&quot;,&quot;GeoMarket&quot;:&quot;US: Northeast&quot;,&quot;Address_Activity_Date&quot;:&quot;2010-03-11&quot;,&quot;Institution_Activity_Date&quot;:&quot;2010-03-11&quot;,&quot;SUDS_Institution_Code&quot;:null,&quot;SUDS_Institution_State&quot;:null,&quot;BOG_Institution_Code&quot;:null,&quot;Florida_Public_Inst_Code&quot;:null}]</td></tr><tr><td>78425</td><td>2020-06-12 10:14:00.653</td><td>3</td><td>IR</td><td>Dim Update LocalDims</td><td>dimAcademicInstitution</td><td>SUDS_Institution_Code</td><td>NULL</td><td>39294</td><td>[{&quot;Academic_Institution_SK&quot;:39294,&quot;Institution_Code&quot;:&quot;113093&quot;,&quot;Institution_Type_Code&quot;:&quot;H&quot;,&quot;Recruiting_Source_Indicator&quot;:&quot;Y&quot;,&quot;Institution_Name&quot;:&quot;Valdosta Early College Academy&quot;,&quot;Institution_FICE_Code&quot;:&quot;113093&quot;,&quot;EDI_Capable_Indicator&quot;:&quot;N&quot;,&quot;Address_Line1&quot;:&quot;1605 Azalea Dr #2471&quot;,&quot;Address_Line2&quot;:null,&quot;Address_Line3&quot;:null,&quot;Combined_Street_Address&quot;:&quot;1605 Azalea Dr #2471&quot;,&quot;Address_City&quot;:&quot;Valdosta&quot;,&quot;Address_State_Code&quot;:&quot;GA&quot;,&quot;Address_State&quot;:&quot;Georgia&quot;,&quot;Address_County_Code&quot;:&quot;UNK&quot;,&quot;Address_County&quot;:&quot;Unknown&quot;,&quot;Address_Zip&quot;:&quot;31602&quot;,&quot;GeoMarket_Code&quot;:null,&quot;GeoMarket&quot;:null,&quot;Address_Activity_Date&quot;:&quot;2020-05-11&quot;,&quot;Institution_Activity_Date&quot;:&quot;2020-05-11&quot;,&quot;SUDS_Institution_Code&quot;:null,&quot;SUDS_Institution_State&quot;:null,&quot;BOG_Institution_Code&quot;:null,&quot;Florida_Public_Inst_Code&quot;:null}]</td></tr><tr><td>78684</td><td>2020-06-12 10:16:44.983</td><td>3</td><td>IR</td><td>Dim Update LocalDims</td><td>dimAcademicInstitution</td><td>SUDS_Institution_Code</td><td>NULL</td><td>39279</td><td>[{&quot;Academic_Institution_SK&quot;:39279,&quot;Institution_Code&quot;:&quot;102516&quot;,&quot;Institution_Type_Code&quot;:&quot;H&quot;,&quot;Recruiting_Source_Indicator&quot;:&quot;Y&quot;,&quot;Institution_Name&quot;:&quot;St Petersburg Collegiate HS&quot;,&quot;Institution_FICE_Code&quot;:&quot;102516&quot;,&quot;EDI_Capable_Indicator&quot;:&quot;N&quot;,&quot;Address_Line1&quot;:&quot;6605 5th Ave N, St.&quot;,&quot;Address_Line2&quot;:null,&quot;Address_Line3&quot;:null,&quot;Combined_Street_Address&quot;:&quot;6605 5th Ave N, St.&quot;,&quot;Address_City&quot;:&quot;Petersburg&quot;,&quot;Address_State_Code&quot;:&quot;FL&quot;,&quot;Address_State&quot;:&quot;Florida&quot;,&quot;Address_County_Code&quot;:&quot;UNK&quot;,&quot;Address_County&quot;:&quot;Unknown&quot;,&quot;Address_Zip&quot;:&quot;33710&quot;,&quot;GeoMarket_Code&quot;:null,&quot;GeoMarket&quot;:null,&quot;Address_Activity_Date&quot;:&quot;2020-05-11&quot;,&quot;Institution_Activity_Date&quot;:&quot;2020-05-11&quot;,&quot;SUDS_Institution_Code&quot;:null,&quot;SUDS_Institution_State&quot;:null,&quot;BOG_Institution_Code&quot;:null,&quot;Florida_Public_Inst_Code&quot;:null}]</td></tr><tr><td>78685</td><td>2020-06-12 10:16:44.983</td><td>3</td><td>IR</td><td>Dim Update LocalDims</td><td>dimAcademicInstitution</td><td>SUDS_Institution_Code</td><td>NULL</td><td>39280</td><td>[{&quot;Academic_Institution_SK&quot;:39280,&quot;Institution_Code&quot;:&quot;102575&quot;,&quot;Institution_Type_Code&quot;:&quot;H&quot;,&quot;Recruiting_Source_Indicator&quot;:&quot;Y&quot;,&quot;Institution_Name&quot;:&quot;Millennium 6-12 Collegiate Aca&quot;,&quot;Institution_FICE_Code&quot;:&quot;102575&quot;,&quot;EDI_Capable_Indicator&quot;:&quot;N&quot;,&quot;Address_Line1&quot;:&quot;5803 NW 94th Ave&quot;,&quot;Address_Line2&quot;:null,&quot;Address_Line3&quot;:null,&quot;Combined_Street_Address&quot;:&quot;5803 NW 94th Ave&quot;,&quot;Address_City&quot;:&quot;Tamarac&quot;,&quot;Address_State_Code&quot;:&quot;FL&quot;,&quot;Address_State&quot;:&quot;Florida&quot;,&quot;Address_County_Code&quot;:&quot;UNK&quot;,&quot;Address_County&quot;:&quot;Unknown&quot;,&quot;Address_Zip&quot;:&quot;33321&quot;,&quot;GeoMarket_Code&quot;:null,&quot;GeoMarket&quot;:null,&quot;Address_Activity_Date&quot;:&quot;2020-05-11&quot;,&quot;Institution_Activity_Date&quot;:&quot;2020-05-11&quot;,&quot;SUDS_Institution_Code&quot;:null,&quot;SUDS_Institution_State&quot;:null,&quot;BOG_Institution_Code&quot;:null,&quot;Florida_Public_Inst_Code&quot;:null}]</td></tr><tr><td>78686</td><td>2020-06-12 10:16:44.983</td><td>3</td><td>IR</td><td>Dim Update LocalDims</td><td>dimAcademicInstitution</td><td>SUDS_Institution_Code</td><td>NULL</td><td>39281</td><td>[{&quot;Academic_Institution_SK&quot;:39281,&quot;Institution_Code&quot;:&quot;110034&quot;,&quot;Institution_Type_Code&quot;:&quot;H&quot;,&quot;Recruiting_Source_Indicator&quot;:&quot;Y&quot;,&quot;Institution_Name&quot;:&quot;Saint Georges Episcopal School&quot;,&quot;Institution_FICE_Code&quot;:&quot;110034&quot;,&quot;EDI_Capable_Indicator&quot;:&quot;N&quot;,&quot;Address_Line1&quot;:&quot;10560 Fort George Rd&quot;,&quot;Address_Line2&quot;:null,&quot;Address_Line3&quot;:null,&quot;Combined_Street_Address&quot;:&quot;10560 Fort George Rd&quot;,&quot;Address_City&quot;:&quot;Jacksonville&quot;,&quot;Address_State_Code&quot;:&quot;FL&quot;,&quot;Address_State&quot;:&quot;Florida&quot;,&quot;Address_County_Code&quot;:&quot;UNK&quot;,&quot;Address_County&quot;:&quot;Unknown&quot;,&quot;Address_Zip&quot;:&quot;32226&quot;,&quot;GeoMarket_Code&quot;:null,&quot;GeoMarket&quot;:null,&quot;Address_Activity_Date&quot;:&quot;2020-05-11&quot;,&quot;Institution_Activity_Date&quot;:&quot;2020-05-11&quot;,&quot;SUDS_Institution_Code&quot;:null,&quot;SUDS_Institution_State&quot;:null,&quot;BOG_Institution_Code&quot;:null,&quot;Florida_Public_Inst_Code&quot;:null}]</td></tr><tr><td>78687</td><td>2020-06-12 10:16:44.983</td><td>3</td><td>IR</td><td>Dim Update LocalDims</td><td>dimAcademicInstitution</td><td>SUDS_Institution_Code</td><td>NULL</td><td>39282</td><td>[{&quot;Academic_Institution_SK&quot;:39282,&quot;Institution_Code&quot;:&quot;110088&quot;,&quot;Institution_Type_Code&quot;:&quot;H&quot;,&quot;Recruiting_Source_Indicator&quot;:&quot;Y&quot;,&quot;Institution_Name&quot;:&quot;Alliance Academy for Innov of&quot;,&quot;Institution_FICE_Code&quot;:&quot;110088&quot;,&quot;EDI_Capable_Indicator&quot;:&quot;N&quot;,&quot;Address_Line1&quot;:&quot;1100 Lanier 400 Parkway&quot;,&quot;Address_Line2&quot;:null,&quot;Address_Line3&quot;:null,&quot;Combined_Street_Address&quot;:&quot;1100 Lanier 400 Parkway&quot;,&quot;Address_City&quot;:&quot;Cumming&quot;,&quot;Address_State_Code&quot;:&quot;GA&quot;,&quot;Address_State&quot;:&quot;Georgia&quot;,&quot;Address_County_Code&quot;:&quot;UNK&quot;,&quot;Address_County&quot;:&quot;Unknown&quot;,&quot;Address_Zip&quot;:&quot;30040&quot;,&quot;GeoMarket_Code&quot;:null,&quot;GeoMarket&quot;:null,&quot;Address_Activity_Date&quot;:&quot;2020-05-11&quot;,&quot;Institution_Activity_Date&quot;:&quot;2020-05-11&quot;,&quot;SUDS_Institution_Code&quot;:null,&quot;SUDS_Institution_State&quot;:null,&quot;BOG_Institution_Code&quot;:null,&quot;Florida_Public_Inst_Code&quot;:null}]</td></tr><tr><td>78688</td><td>2020-06-12 10:16:44.983</td><td>3</td><td>IR</td><td>Dim Update LocalDims</td><td>dimAcademicInstitution</td><td>SUDS_Institution_Code</td><td>NULL</td><td>39283</td><td>[{&quot;Academic_Institution_SK&quot;:39283,&quot;Institution_Code&quot;:&quot;110270&quot;,&quot;Institution_Type_Code&quot;:&quot;H&quot;,&quot;Recruiting_Source_Indicator&quot;:&quot;Y&quot;,&quot;Institution_Name&quot;:&quot;Cherokee Bluff High School&quot;,&quot;Institution_FICE_Code&quot;:&quot;110270&quot;,&quot;EDI_Capable_Indicator&quot;:&quot;N&quot;,&quot;Address_Line1&quot;:&quot;6603 Spout Springs Rd&quot;,&quot;Address_Line2&quot;:null,&quot;Address_Line3&quot;:null,&quot;Combined_Street_Address&quot;:&quot;6603 Spout Springs Rd&quot;,&quot;Address_City&quot;:&quot;Flowery Branch&quot;,&quot;Address_State_Code&quot;:&quot;GA&quot;,&quot;Address_State&quot;:&quot;Georgia&quot;,&quot;Address_County_Code&quot;:&quot;UNK&quot;,&quot;Address_County&quot;:&quot;Unknown&quot;,&quot;Address_Zip&quot;:&quot;30542&quot;,&quot;GeoMarket_Code&quot;:null,&quot;GeoMarket&quot;:null,&quot;Address_Activity_Date&quot;:&quot;2020-05-11&quot;,&quot;Institution_Activity_Date&quot;:&quot;2020-05-11&quot;,&quot;SUDS_Institution_Code&quot;:null,&quot;SUDS_Institution_State&quot;:null,&quot;BOG_Institution_Code&quot;:null,&quot;Florida_Public_Inst_Code&quot;:null}]</td></tr><tr><td>78689</td><td>2020-06-12 10:16:44.983</td><td>3</td><td>IR</td><td>Dim Update LocalDims</td><td>dimAcademicInstitution</td><td>SUDS_Institution_Code</td><td>NULL</td><td>39284</td><td>[{&quot;Academic_Institution_SK&quot;:39284,&quot;Institution_Code&quot;:&quot;110663&quot;,&quot;Institution_Type_Code&quot;:&quot;H&quot;,&quot;Recruiting_Source_Indicator&quot;:&quot;Y&quot;,&quot;Institution_Name&quot;:&quot;North Murray High School&quot;,&quot;Institution_FICE_Code&quot;:&quot;110663&quot;,&quot;EDI_Capable_Indicator&quot;:&quot;N&quot;,&quot;Address_Line1&quot;:&quot;2568 Mount Carmel Church Road&quot;,&quot;Address_Line2&quot;:null,&quot;Address_Line3&quot;:null,&quot;Combined_Street_Address&quot;:&quot;2568 Mount Carmel Church Road&quot;,&quot;Address_City&quot;:&quot;Chatsworth&quot;,&quot;Address_State_Code&quot;:&quot;GA&quot;,&quot;Address_State&quot;:&quot;Georgia&quot;,&quot;Address_County_Code&quot;:&quot;UNK&quot;,&quot;Address_County&quot;:&quot;Unknown&quot;,&quot;Address_Zip&quot;:&quot;30705&quot;,&quot;GeoMarket_Code&quot;:null,&quot;GeoMarket&quot;:null,&quot;Address_Activity_Date&quot;:&quot;2020-05-11&quot;,&quot;Institution_Activity_Date&quot;:&quot;2020-05-11&quot;,&quot;SUDS_Institution_Code&quot;:null,&quot;SUDS_Institution_State&quot;:null,&quot;BOG_Institution_Code&quot;:null,&quot;Florida_Public_Inst_Code&quot;:null}]</td></tr><tr><td>78690</td><td>2020-06-12 10:16:44.983</td><td>3</td><td>IR</td><td>Dim Update LocalDims</td><td>dimAcademicInstitution</td><td>SUDS_Institution_Code</td><td>NULL</td><td>39285</td><td>[{&quot;Academic_Institution_SK&quot;:39285,&quot;Institution_Code&quot;:&quot;110986&quot;,&quot;Institution_Type_Code&quot;:&quot;H&quot;,&quot;Recruiting_Source_Indicator&quot;:&quot;Y&quot;,&quot;Institution_Name&quot;:&quot;Coahulla Creek High School&quot;,&quot;Institution_FICE_Code&quot;:&quot;110986&quot;,&quot;EDI_Capable_Indicator&quot;:&quot;N&quot;,&quot;Address_Line1&quot;:&quot;3361 Crow Rd NE&quot;,&quot;Address_Line2&quot;:null,&quot;Address_Line3&quot;:null,&quot;Combined_Street_Address&quot;:&quot;3361 Crow Rd NE&quot;,&quot;Address_City&quot;:&quot;Dalton&quot;,&quot;Address_State_Code&quot;:&quot;GA&quot;,&quot;Address_State&quot;:&quot;Georgia&quot;,&quot;Address_County_Code&quot;:&quot;UNK&quot;,&quot;Address_County&quot;:&quot;Unknown&quot;,&quot;Address_Zip&quot;:&quot;30721&quot;,&quot;GeoMarket_Code&quot;:null,&quot;GeoMarket&quot;:null,&quot;Address_Activity_Date&quot;:&quot;2020-05-11&quot;,&quot;Institution_Activity_Date&quot;:&quot;2020-05-11&quot;,&quot;SUDS_Institution_Code&quot;:null,&quot;SUDS_Institution_State&quot;:null,&quot;BOG_Institution_Code&quot;:null,&quot;Florida_Public_Inst_Code&quot;:null}]</td></tr><tr><td>78691</td><td>2020-06-12 10:16:44.983</td><td>3</td><td>IR</td><td>Dim Update LocalDims</td><td>dimAcademicInstitution</td><td>SUDS_Institution_Code</td><td>NULL</td><td>39286</td><td>[{&quot;Academic_Institution_SK&quot;:39286,&quot;Institution_Code&quot;:&quot;111000&quot;,&quot;Institution_Type_Code&quot;:&quot;H&quot;,&quot;Recruiting_Source_Indicator&quot;:&quot;Y&quot;,&quot;Institution_Name&quot;:&quot;Denmark High School&quot;,&quot;Institution_FICE_Code&quot;:&quot;111000&quot;,&quot;EDI_Capable_Indicator&quot;:&quot;N&quot;,&quot;Address_Line1&quot;:&quot;645 Mullinax Rd&quot;,&quot;Address_Line2&quot;:null,&quot;Address_Line3&quot;:null,&quot;Combined_Street_Address&quot;:&quot;645 Mullinax Rd&quot;,&quot;Address_City&quot;:&quot;Alpharetta&quot;,&quot;Address_State_Code&quot;:&quot;GA&quot;,&quot;Address_State&quot;:&quot;Georgia&quot;,&quot;Address_County_Code&quot;:&quot;UNK&quot;,&quot;Address_County&quot;:&quot;Unknown&quot;,&quot;Address_Zip&quot;:&quot;30004&quot;,&quot;GeoMarket_Code&quot;:null,&quot;GeoMarket&quot;:null,&quot;Address_Activity_Date&quot;:&quot;2020-05-11&quot;,&quot;Institution_Activity_Date&quot;:&quot;2020-05-11&quot;,&quot;SUDS_Institution_Code&quot;:null,&quot;SUDS_Institution_State&quot;:null,&quot;BOG_Institution_Code&quot;:null,&quot;Florida_Public_Inst_Code&quot;:null}]</td></tr><tr><td>78692</td><td>2020-06-12 10:16:44.983</td><td>3</td><td>IR</td><td>Dim Update LocalDims</td><td>dimAcademicInstitution</td><td>SUDS_Institution_Code</td><td>NULL</td><td>39287</td><td>[{&quot;Academic_Institution_SK&quot;:39287,&quot;Institution_Code&quot;:&quot;111141&quot;,&quot;Institution_Type_Code&quot;:&quot;H&quot;,&quot;Recruiting_Source_Indicator&quot;:&quot;Y&quot;,&quot;Institution_Name&quot;:&quot;Georgia Connections Academy&quot;,&quot;Institution_FICE_Code&quot;:&quot;111141&quot;,&quot;EDI_Capable_Indicator&quot;:&quot;N&quot;,&quot;Address_Line1&quot;:&quot;2763 Meadow Church Rd Suite 208&quot;,&quot;Address_Line2&quot;:null,&quot;Address_Line3&quot;:null,&quot;Combined_Street_Address&quot;:&quot;2763 Meadow Church Rd Suite 208&quot;,&quot;Address_City&quot;:&quot;Duluth&quot;,&quot;Address_State_Code&quot;:&quot;GA&quot;,&quot;Address_State&quot;:&quot;Georgia&quot;,&quot;Address_County_Code&quot;:&quot;UNK&quot;,&quot;Address_County&quot;:&quot;Unknown&quot;,&quot;Address_Zip&quot;:&quot;30097&quot;,&quot;GeoMarket_Code&quot;:null,&quot;GeoMarket&quot;:null,&quot;Address_Activity_Date&quot;:&quot;2020-05-11&quot;,&quot;Institution_Activity_Date&quot;:&quot;2020-05-11&quot;,&quot;SUDS_Institution_Code&quot;:null,&quot;SUDS_Institution_State&quot;:null,&quot;BOG_Institution_Code&quot;:null,&quot;Florida_Public_Inst_Code&quot;:null}]</td></tr><tr><td>78693</td><td>2020-06-12 10:16:44.983</td><td>3</td><td>IR</td><td>Dim Update LocalDims</td><td>dimAcademicInstitution</td><td>SUDS_Institution_Code</td><td>NULL</td><td>39288</td><td>[{&quot;Academic_Institution_SK&quot;:39288,&quot;Institution_Code&quot;:&quot;111496&quot;,&quot;Institution_Type_Code&quot;:&quot;H&quot;,&quot;Recruiting_Source_Indicator&quot;:&quot;Y&quot;,&quot;Institution_Name&quot;:&quot;Lake Oconee Academy&quot;,&quot;Institution_FICE_Code&quot;:&quot;111496&quot;,&quot;EDI_Capable_Indicator&quot;:&quot;N&quot;,&quot;Address_Line1&quot;:&quot;1021 Titan Cir&quot;,&quot;Address_Line2&quot;:null,&quot;Address_Line3&quot;:null,&quot;Combined_Street_Address&quot;:&quot;1021 Titan Cir&quot;,&quot;Address_City&quot;:&quot;Greensboro&quot;,&quot;Address_State_Code&quot;:&quot;GA&quot;,&quot;Address_State&quot;:&quot;Georgia&quot;,&quot;Address_County_Code&quot;:&quot;UNK&quot;,&quot;Address_County&quot;:&quot;Unknown&quot;,&quot;Address_Zip&quot;:&quot;30642&quot;,&quot;GeoMarket_Code&quot;:null,&quot;GeoMarket&quot;:null,&quot;Address_Activity_Date&quot;:&quot;2020-05-11&quot;,&quot;Institution_Activity_Date&quot;:&quot;2020-05-11&quot;,&quot;SUDS_Institution_Code&quot;:null,&quot;SUDS_Institution_State&quot;:null,&quot;BOG_Institution_Code&quot;:null,&quot;Florida_Public_Inst_Code&quot;:null}]</td></tr><tr><td>78694</td><td>2020-06-12 10:16:44.983</td><td>3</td><td>IR</td><td>Dim Update LocalDims</td><td>dimAcademicInstitution</td><td>SUDS_Institution_Code</td><td>NULL</td><td>39289</td><td>[{&quot;Academic_Institution_SK&quot;:39289,&quot;Institution_Code&quot;:&quot;111528&quot;,&quot;Institution_Type_Code&quot;:&quot;H&quot;,&quot;Recruiting_Source_Indicator&quot;:&quot;Y&quot;,&quot;Institution_Name&quot;:&quot;Grovetown High School&quot;,&quot;Institution_FICE_Code&quot;:&quot;111528&quot;,&quot;EDI_Capable_Indicator&quot;:&quot;N&quot;,&quot;Address_Line1&quot;:&quot;2010 Warrior Way&quot;,&quot;Address_Line2&quot;:null,&quot;Address_Line3&quot;:null,&quot;Combined_Street_Address&quot;:&quot;2010 Warrior Way&quot;,&quot;Address_City&quot;:&quot;Grovetown&quot;,&quot;Address_State_Code&quot;:&quot;GA&quot;,&quot;Address_State&quot;:&quot;Georgia&quot;,&quot;Address_County_Code&quot;:&quot;UNK&quot;,&quot;Address_County&quot;:&quot;Unknown&quot;,&quot;Address_Zip&quot;:&quot;30813&quot;,&quot;GeoMarket_Code&quot;:null,&quot;GeoMarket&quot;:null,&quot;Address_Activity_Date&quot;:&quot;2020-05-11&quot;,&quot;Institution_Activity_Date&quot;:&quot;2020-05-11&quot;,&quot;SUDS_Institution_Code&quot;:null,&quot;SUDS_Institution_State&quot;:null,&quot;BOG_Institution_Code&quot;:null,&quot;Florida_Public_Inst_Code&quot;:null}]</td></tr><tr><td>78695</td><td>2020-06-12 10:16:44.983</td><td>3</td><td>IR</td><td>Dim Update LocalDims</td><td>dimAcademicInstitution</td><td>SUDS_Institution_Code</td><td>NULL</td><td>39290</td><td>[{&quot;Academic_Institution_SK&quot;:39290,&quot;Institution_Code&quot;:&quot;111722&quot;,&quot;Institution_Type_Code&quot;:&quot;H&quot;,&quot;Recruiting_Source_Indicator&quot;:&quot;Y&quot;,&quot;Institution_Name&quot;:&quot;Elite Scholars Academy&quot;,&quot;Institution_FICE_Code&quot;:&quot;111722&quot;,&quot;EDI_Capable_Indicator&quot;:&quot;N&quot;,&quot;Address_Line1&quot;:&quot;7923 Fielder Rd&quot;,&quot;Address_Line2&quot;:null,&quot;Address_Line3&quot;:null,&quot;Combined_Street_Address&quot;:&quot;7923 Fielder Rd&quot;,&quot;Address_City&quot;:&quot;Jonesboro&quot;,&quot;Address_State_Code&quot;:&quot;GA&quot;,&quot;Address_State&quot;:&quot;Georgia&quot;,&quot;Address_County_Code&quot;:&quot;UNK&quot;,&quot;Address_County&quot;:&quot;Unknown&quot;,&quot;Address_Zip&quot;:&quot;30236&quot;,&quot;GeoMarket_Code&quot;:null,&quot;GeoMarket&quot;:null,&quot;Address_Activity_Date&quot;:&quot;2020-05-11&quot;,&quot;Institution_Activity_Date&quot;:&quot;2020-05-11&quot;,&quot;SUDS_Institution_Code&quot;:null,&quot;SUDS_Institution_State&quot;:null,&quot;BOG_Institution_Code&quot;:null,&quot;Florida_Public_Inst_Code&quot;:null}]</td></tr><tr><td>78696</td><td>2020-06-12 10:16:44.983</td><td>3</td><td>IR</td><td>Dim Update LocalDims</td><td>dimAcademicInstitution</td><td>SUDS_Institution_Code</td><td>NULL</td><td>39291</td><td>[{&quot;Academic_Institution_SK&quot;:39291,&quot;Institution_Code&quot;:&quot;111743&quot;,&quot;Institution_Type_Code&quot;:&quot;H&quot;,&quot;Recruiting_Source_Indicator&quot;:&quot;Y&quot;,&quot;Institution_Name&quot;:&quot;Martha Ellen Stilwell Sch of A&quot;,&quot;Institution_FICE_Code&quot;:&quot;111743&quot;,&quot;EDI_Capable_Indicator&quot;:&quot;N&quot;,&quot;Address_Line1&quot;:&quot;2580 Mt Zion Pkwy&quot;,&quot;Address_Line2&quot;:null,&quot;Address_Line3&quot;:null,&quot;Combined_Street_Address&quot;:&quot;2580 Mt Zion Pkwy&quot;,&quot;Address_City&quot;:&quot;Jonesboro&quot;,&quot;Address_State_Code&quot;:&quot;GA&quot;,&quot;Address_State&quot;:&quot;Georgia&quot;,&quot;Address_County_Code&quot;:&quot;UNK&quot;,&quot;Address_County&quot;:&quot;Unknown&quot;,&quot;Address_Zip&quot;:&quot;30236&quot;,&quot;GeoMarket_Code&quot;:null,&quot;GeoMarket&quot;:null,&quot;Address_Activity_Date&quot;:&quot;2020-05-11&quot;,&quot;Institution_Activity_Date&quot;:&quot;2020-05-11&quot;,&quot;SUDS_Institution_Code&quot;:null,&quot;SUDS_Institution_State&quot;:null,&quot;BOG_Institution_Code&quot;:null,&quot;Florida_Public_Inst_Code&quot;:null}]</td></tr><tr><td>78697</td><td>2020-06-12 10:16:44.983</td><td>3</td><td>IR</td><td>Dim Update LocalDims</td><td>dimAcademicInstitution</td><td>SUDS_Institution_Code</td><td>NULL</td><td>39292</td><td>[{&quot;Academic_Institution_SK&quot;:39292,&quot;Institution_Code&quot;:&quot;111869&quot;,&quot;Institution_Type_Code&quot;:&quot;H&quot;,&quot;Recruiting_Source_Indicator&quot;:&quot;Y&quot;,&quot;Institution_Name&quot;:&quot;Locust Grove High School&quot;,&quot;Institution_FICE_Code&quot;:&quot;111869&quot;,&quot;EDI_Capable_Indicator&quot;:&quot;N&quot;,&quot;Address_Line1&quot;:&quot;3275 S Ola Rd&quot;,&quot;Address_Line2&quot;:null,&quot;Address_Line3&quot;:null,&quot;Combined_Street_Address&quot;:&quot;3275 S Ola Rd&quot;,&quot;Address_City&quot;:&quot;Locust Grove&quot;,&quot;Address_State_Code&quot;:&quot;GA&quot;,&quot;Address_State&quot;:&quot;Georgia&quot;,&quot;Address_County_Code&quot;:&quot;UNK&quot;,&quot;Address_County&quot;:&quot;Unknown&quot;,&quot;Address_Zip&quot;:&quot;30248&quot;,&quot;GeoMarket_Code&quot;:null,&quot;GeoMarket&quot;:null,&quot;Address_Activity_Date&quot;:&quot;2020-05-11&quot;,&quot;Institution_Activity_Date&quot;:&quot;2020-05-11&quot;,&quot;SUDS_Institution_Code&quot;:null,&quot;SUDS_Institution_State&quot;:null,&quot;BOG_Institution_Code&quot;:null,&quot;Florida_Public_Inst_Code&quot;:null}]</td></tr><tr><td>78698</td><td>2020-06-12 10:16:44.983</td><td>3</td><td>IR</td><td>Dim Update LocalDims</td><td>dimAcademicInstitution</td><td>SUDS_Institution_Code</td><td>NULL</td><td>39293</td><td>[{&quot;Academic_Institution_SK&quot;:39293,&quot;Institution_Code&quot;:&quot;112016&quot;,&quot;Institution_Type_Code&quot;:&quot;H&quot;,&quot;Recruiting_Source_Indicator&quot;:&quot;Y&quot;,&quot;Institution_Name&quot;:&quot;Academy for Classical Educatio&quot;,&quot;Institution_FICE_Code&quot;:&quot;112016&quot;,&quot;EDI_Capable_Indicator&quot;:&quot;N&quot;,&quot;Address_Line1&quot;:&quot;5665 New Forsyth Rd&quot;,&quot;Address_Line2&quot;:null,&quot;Address_Line3&quot;:null,&quot;Combined_Street_Address&quot;:&quot;5665 New Forsyth Rd&quot;,&quot;Address_City&quot;:&quot;Macon&quot;,&quot;Address_State_Code&quot;:&quot;GA&quot;,&quot;Address_State&quot;:&quot;Georgia&quot;,&quot;Address_County_Code&quot;:&quot;UNK&quot;,&quot;Address_County&quot;:&quot;Unknown&quot;,&quot;Address_Zip&quot;:&quot;31210&quot;,&quot;GeoMarket_Code&quot;:null,&quot;GeoMarket&quot;:null,&quot;Address_Activity_Date&quot;:&quot;2020-05-11&quot;,&quot;Institution_Activity_Date&quot;:&quot;2020-05-11&quot;,&quot;SUDS_Institution_Code&quot;:null,&quot;SUDS_Institution_State&quot;:null,&quot;BOG_Institution_Code&quot;:null,&quot;Florida_Public_Inst_Code&quot;:null}]</td></tr><tr><td>78699</td><td>2020-06-12 10:16:44.983</td><td>3</td><td>IR</td><td>Dim Update LocalDims</td><td>dimAcademicInstitution</td><td>SUDS_Institution_Code</td><td>NULL</td><td>24855</td><td>[{&quot;Academic_Institution_SK&quot;:24855,&quot;Institution_Code&quot;:&quot;3442&quot;,&quot;Institution_Type_Code&quot;:&quot;C&quot;,&quot;Recruiting_Source_Indicator&quot;:&quot;Y&quot;,&quot;Institution_Name&quot;:&quot;Harvard University&quot;,&quot;Institution_FICE_Code&quot;:&quot;002155&quot;,&quot;EDI_Capable_Indicator&quot;:&quot;N&quot;,&quot;Address_Line1&quot;:&quot;1350 Mass Ave Rm 458&quot;,&quot;Address_Line2&quot;:null,&quot;Address_Line3&quot;:null,&quot;Combined_Street_Address&quot;:&quot;1350 Mass Ave Rm 458  &quot;,&quot;Address_City&quot;:&quot;Cambridge&quot;,&quot;Address_State_Code&quot;:&quot;MA&quot;,&quot;Address_State&quot;:&quot;Massachusetts&quot;,&quot;Address_County_Code&quot;:&quot;UNK&quot;,&quot;Address_County&quot;:&quot;Unknown&quot;,&quot;Address_Zip&quot;:&quot;02138&quot;,&quot;GeoMarket_Code&quot;:null,&quot;GeoMarket&quot;:null,&quot;Address_Activity_Date&quot;:&quot;2004-10-20&quot;,&quot;Institution_Activity_Date&quot;:&quot;2004-10-20&quot;,&quot;SUDS_Institution_Code&quot;:null,&quot;SUDS_Institution_State&quot;:null,&quot;BOG_Institution_Code&quot;:null,&quot;Florida_Public_Inst_Code&quot;:null}]</td></tr><tr><td>78700</td><td>2020-06-12 10:16:44.983</td><td>3</td><td>IR</td><td>Dim Update LocalDims</td><td>dimAcademicInstitution</td><td>SUDS_Institution_Code</td><td>NULL</td><td>0</td><td>[{&quot;Academic_Institution_SK&quot;:0,&quot;Institution_Code&quot;:&quot;000000&quot;,&quot;Institution_Type_Code&quot;:&quot;X&quot;,&quot;Recruiting_Source_Indicator&quot;:&quot;X&quot;,&quot;Institution_Name&quot;:&quot;Unknown HS&quot;,&quot;Institution_FICE_Code&quot;:&quot;000000&quot;,&quot;EDI_Capable_Indicator&quot;:&quot;X&quot;,&quot;Address_Line1&quot;:&quot;Unknown&quot;,&quot;Address_Line2&quot;:null,&quot;Address_Line3&quot;:null,&quot;Combined_Street_Address&quot;:&quot;Unknown&quot;,&quot;Address_City&quot;:&quot;Unknown&quot;,&quot;Address_State_Code&quot;:&quot;UNK&quot;,&quot;Address_State&quot;:&quot;Unknown&quot;,&quot;Address_County_Code&quot;:&quot;UNK&quot;,&quot;Address_County&quot;:&quot;Unknown&quot;,&quot;Address_Zip&quot;:&quot;XXXXX&quot;,&quot;GeoMarket_Code&quot;:null,&quot;GeoMarket&quot;:null,&quot;Address_Activity_Date&quot;:&quot;1900-01-01&quot;,&quot;Institution_Activity_Date&quot;:&quot;1900-01-01&quot;,&quot;SUDS_Institution_Code&quot;:null,&quot;SUDS_Institution_State&quot;:null,&quot;BOG_Institution_Code&quot;:null,&quot;Florida_Public_Inst_Code&quot;:null}]</td></tr><tr><td>78701</td><td>2020-06-12 10:16:44.983</td><td>3</td><td>IR</td><td>Dim Update LocalDims</td><td>dimAcademicInstitution</td><td>SUDS_Institution_Code</td><td>NULL</td><td>38245</td><td>[{&quot;Academic_Institution_SK&quot;:38245,&quot;Institution_Code&quot;:&quot;EXCLSR&quot;,&quot;Institution_Type_Code&quot;:&quot;C&quot;,&quot;Recruiting_Source_Indicator&quot;:&quot;Y&quot;,&quot;Institution_Name&quot;:&quot;Excelsior Coll\\/UEXCEL&quot;,&quot;Institution_FICE_Code&quot;:null,&quot;EDI_Capable_Indicator&quot;:&quot;N&quot;,&quot;Address_Line1&quot;:&quot;7 Columbia Circle&quot;,&quot;Address_Line2&quot;:null,&quot;Address_Line3&quot;:null,&quot;Combined_Street_Address&quot;:&quot;7 Columbia Circle  &quot;,&quot;Address_City&quot;:&quot;Albany&quot;,&quot;Address_State_Code&quot;:&quot;NY&quot;,&quot;Address_State&quot;:&quot;New York&quot;,&quot;Address_County_Code&quot;:&quot;UNK&quot;,&quot;Address_County&quot;:&quot;Unknown&quot;,&quot;Address_Zip&quot;:&quot;12203-5159&quot;,&quot;GeoMarket_Code&quot;:&quot;US-NE&quot;,&quot;GeoMarket&quot;:&quot;US: Northeast&quot;,&quot;Address_Activity_Date&quot;:&quot;2013-09-03&quot;,&quot;Institution_Activity_Date&quot;:&quot;2013-09-03&quot;,&quot;SUDS_Institution_Code&quot;:null,&quot;SUDS_Institution_State&quot;:null,&quot;BOG_Institution_Code&quot;:null,&quot;Florida_Public_Inst_Code&quot;:null}]</td></tr><tr><td>78702</td><td>2020-06-12 10:16:44.983</td><td>3</td><td>IR</td><td>Dim Update LocalDims</td><td>dimAcademicInstitution</td><td>SUDS_Institution_Code</td><td>NULL</td><td>38351</td><td>[{&quot;Academic_Institution_SK&quot;:38351,&quot;Institution_Code&quot;:&quot;Z088&quot;,&quot;Institution_Type_Code&quot;:&quot;C&quot;,&quot;Recruiting_Source_Indicator&quot;:&quot;N&quot;,&quot;Institution_Name&quot;:&quot;Albany Medical College&quot;,&quot;Institution_FICE_Code&quot;:null,&quot;EDI_Capable_Indicator&quot;:&quot;N&quot;,&quot;Address_Line1&quot;:&quot;47 NEW SCOTLAND AVE&quot;,&quot;Address_Line2&quot;:null,&quot;Address_Line3&quot;:null,&quot;Combined_Street_Address&quot;:&quot;47 NEW SCOTLAND AVE  &quot;,&quot;Address_City&quot;:&quot;Albany&quot;,&quot;Address_State_Code&quot;:&quot;NY&quot;,&quot;Address_State&quot;:&quot;New York&quot;,&quot;Address_County_Code&quot;:&quot;UNK&quot;,&quot;Address_County&quot;:&quot;Unknown&quot;,&quot;Address_Zip&quot;:&quot;12208&quot;,&quot;GeoMarket_Code&quot;:&quot;US-NE&quot;,&quot;GeoMarket&quot;:&quot;US: Northeast&quot;,&quot;Address_Activity_Date&quot;:&quot;2010-03-11&quot;,&quot;Institution_Activity_Date&quot;:&quot;2010-03-11&quot;,&quot;SUDS_Institution_Code&quot;:null,&quot;SUDS_Institution_State&quot;:null,&quot;BOG_Institution_Code&quot;:null,&quot;Florida_Public_Inst_Code&quot;:null}]</td></tr><tr><td>78703</td><td>2020-06-12 10:16:44.983</td><td>3</td><td>IR</td><td>Dim Update LocalDims</td><td>dimAcademicInstitution</td><td>SUDS_Institution_Code</td><td>NULL</td><td>39294</td><td>[{&quot;Academic_Institution_SK&quot;:39294,&quot;Institution_Code&quot;:&quot;113093&quot;,&quot;Institution_Type_Code&quot;:&quot;H&quot;,&quot;Recruiting_Source_Indicator&quot;:&quot;Y&quot;,&quot;Institution_Name&quot;:&quot;Valdosta Early College Academy&quot;,&quot;Institution_FICE_Code&quot;:&quot;113093&quot;,&quot;EDI_Capable_Indicator&quot;:&quot;N&quot;,&quot;Address_Line1&quot;:&quot;1605 Azalea Dr #2471&quot;,&quot;Address_Line2&quot;:null,&quot;Address_Line3&quot;:null,&quot;Combined_Street_Address&quot;:&quot;1605 Azalea Dr #2471&quot;,&quot;Address_City&quot;:&quot;Valdosta&quot;,&quot;Address_State_Code&quot;:&quot;GA&quot;,&quot;Address_State&quot;:&quot;Georgia&quot;,&quot;Address_County_Code&quot;:&quot;UNK&quot;,&quot;Address_County&quot;:&quot;Unknown&quot;,&quot;Address_Zip&quot;:&quot;31602&quot;,&quot;GeoMarket_Code&quot;:null,&quot;GeoMarket&quot;:null,&quot;Address_Activity_Date&quot;:&quot;2020-05-11&quot;,&quot;Institution_Activity_Date&quot;:&quot;2020-05-11&quot;,&quot;SUDS_Institution_Code&quot;:null,&quot;SUDS_Institution_State&quot;:null,&quot;BOG_Institution_Code&quot;:null,&quot;Florida_Public_Inst_Code&quot;:null}]</td></tr></table>"
                    },
                    "metadata": {}
                }
            ],
            "execution_count": 65
        }
    ]
}